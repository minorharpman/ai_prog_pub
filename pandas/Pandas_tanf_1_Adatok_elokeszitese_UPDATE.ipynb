{
 "cells": [
  {
   "cell_type": "markdown",
   "metadata": {
    "id": "5g1kn9gaPhjj"
   },
   "source": [
    "\n",
    "<img src=\"\n",
    "https://raw.githubusercontent.com/minorharpman/ai_prog_pub/main/pandas/adattisztitas.png\n",
    "\" width=\"1000\">"
   ]
  },
  {
   "cell_type": "markdown",
   "metadata": {
    "id": "MKzxa8EyS-HW"
   },
   "source": [
    "## Pandas: adatok betöltése és előkészítése, adattisztítás"
   ]
  },
  {
   "cell_type": "markdown",
   "metadata": {
    "id": "5YNzLOYZ6Qj0"
   },
   "source": [
    "* A Pandas egy Python programkönyvtár, amit adatok kezelésére és elemzésére használnak.\n",
    "* Pandas jól alkalmazható Excel fájlok feldolgozására. Képes beolvasni Excel fájlokat, módosítani az adatokat, majd visszaírni őket Excelbe vagy más formátumba. Sokkal erősebb és automatizálhatóbb, mint az Excel önmagában, különösen nagy adatmennyiségek vagy ismétlődő feladatok esetén."
   ]
  },
  {
   "cell_type": "markdown",
   "metadata": {
    "id": "_HIJMaezGLQa"
   },
   "source": [
    "* fájlok törlése a folderből"
   ]
  },
  {
   "cell_type": "markdown",
   "metadata": {
    "id": "zqzikUkM0q9R"
   },
   "source": [
    "* sor betölti a Pandas nevű adatelemző eszközt, és pd néven teszi elérhetővé.\n",
    "*Ez olyan, mintha egy szerszámosládát vennél elő, és ráírnád, hogy \"szerszámok\", hogy könnyebben hivatkozhass rá."
   ]
  },
  {
   "cell_type": "markdown",
   "metadata": {},
   "source": [
    "# Visual Studio Code-ban:"
   ]
  },
  {
   "cell_type": "markdown",
   "metadata": {},
   "source": [
    "telepítés terminálban: pip install jupyter"
   ]
  },
  {
   "cell_type": "code",
   "execution_count": null,
   "metadata": {},
   "outputs": [],
   "source": [
    "futtatás terminálban: jupyter notebook"
   ]
  },
  {
   "cell_type": "markdown",
   "metadata": {},
   "source": [
    "Jupyter notebook bezárása:"
   ]
  },
  {
   "cell_type": "markdown",
   "metadata": {},
   "source": [
    "terminálban: CTRL + C"
   ]
  },
  {
   "cell_type": "markdown",
   "metadata": {},
   "source": [
    "# Itt a Jupyter notebook-ban"
   ]
  },
  {
   "cell_type": "markdown",
   "metadata": {},
   "source": [
    "ESC + M : megjegyzés cella a program cellából"
   ]
  },
  {
   "cell_type": "markdown",
   "metadata": {},
   "source": [
    "SHIFT + ENTER cella futtatása"
   ]
  },
  {
   "cell_type": "markdown",
   "metadata": {},
   "source": [
    "# Pandas telepítése"
   ]
  },
  {
   "cell_type": "code",
   "execution_count": 10,
   "metadata": {},
   "outputs": [],
   "source": [
    "#!pip install pandas"
   ]
  },
  {
   "cell_type": "code",
   "execution_count": 8,
   "metadata": {
    "id": "huCj8Gc4Vmnt"
   },
   "outputs": [],
   "source": [
    "import pandas as pd\n"
   ]
  },
  {
   "cell_type": "markdown",
   "metadata": {
    "id": "Twg-mOn-zUiL"
   },
   "source": [
    "\n",
    "*  betölti a mobil_bob_shop_adattisztit.xlsx nevű Excel fájlt, és az adatait egy df nevű táblázatba (DataFrame-be) teszi, amivel aztán tovább dolgozhatunk. </span>\n",
    "* pd.read_excel(): Ez a Pandas parancs arra való, hogy Excel fájlokat olvasson be.\n",
    "* \"mobil_bob_shop_adattisztit.xlsx\": Ez a fájl neve, amit beolvasunk. Fontos, hogy a fájl a program futtatási helyén legyen, vagy meg kell adni a teljes elérési útját.\n",
    "*Az Excel fájlban lévő adatok egy táblázat formájában kerülnek beolvasásra, amit a Pandasban \"DataFrame\"-nek hívunk. Ezt a táblázatot tároljuk el a df nevű változóban. A df rövidítés a \"DataFrame\"-re utal, és gyakran használják az adatok tárolására.\n"
   ]
  },
  {
   "cell_type": "markdown",
   "metadata": {},
   "source": [
    "# Openpyxl telepítése"
   ]
  },
  {
   "cell_type": "code",
   "execution_count": 11,
   "metadata": {},
   "outputs": [
    {
     "name": "stdout",
     "output_type": "stream",
     "text": [
      "Collecting openpyxl\n",
      "  Downloading openpyxl-3.1.5-py2.py3-none-any.whl.metadata (2.5 kB)\n",
      "Collecting et-xmlfile (from openpyxl)\n",
      "  Downloading et_xmlfile-2.0.0-py3-none-any.whl.metadata (2.7 kB)\n",
      "Downloading openpyxl-3.1.5-py2.py3-none-any.whl (250 kB)\n",
      "Downloading et_xmlfile-2.0.0-py3-none-any.whl (18 kB)\n",
      "Installing collected packages: et-xmlfile, openpyxl\n",
      "\n",
      "   -------------------- ------------------- 1/2 [openpyxl]\n",
      "   -------------------- ------------------- 1/2 [openpyxl]\n",
      "   -------------------- ------------------- 1/2 [openpyxl]\n",
      "   -------------------- ------------------- 1/2 [openpyxl]\n",
      "   -------------------- ------------------- 1/2 [openpyxl]\n",
      "   -------------------- ------------------- 1/2 [openpyxl]\n",
      "   -------------------- ------------------- 1/2 [openpyxl]\n",
      "   -------------------- ------------------- 1/2 [openpyxl]\n",
      "   -------------------- ------------------- 1/2 [openpyxl]\n",
      "   ---------------------------------------- 2/2 [openpyxl]\n",
      "\n",
      "Successfully installed et-xmlfile-2.0.0 openpyxl-3.1.5\n"
     ]
    },
    {
     "name": "stderr",
     "output_type": "stream",
     "text": [
      "\n",
      "[notice] A new release of pip is available: 25.1.1 -> 25.2\n",
      "[notice] To update, run: python.exe -m pip install --upgrade pip\n"
     ]
    }
   ],
   "source": [
    "#!pip install openpyxl"
   ]
  },
  {
   "cell_type": "code",
   "execution_count": 12,
   "metadata": {
    "colab": {
     "base_uri": "https://localhost:8080/",
     "height": 424
    },
    "id": "Ob-dYE-MUEOu",
    "outputId": "0961a40a-0695-43ef-a291-ff6b0042f2aa"
   },
   "outputs": [
    {
     "data": {
      "text/html": [
       "<div>\n",
       "<style scoped>\n",
       "    .dataframe tbody tr th:only-of-type {\n",
       "        vertical-align: middle;\n",
       "    }\n",
       "\n",
       "    .dataframe tbody tr th {\n",
       "        vertical-align: top;\n",
       "    }\n",
       "\n",
       "    .dataframe thead th {\n",
       "        text-align: right;\n",
       "    }\n",
       "</style>\n",
       "<table border=\"1\" class=\"dataframe\">\n",
       "  <thead>\n",
       "    <tr style=\"text-align: right;\">\n",
       "      <th></th>\n",
       "      <th>Termék</th>\n",
       "      <th>Mennyiség</th>\n",
       "      <th>Ár</th>\n",
       "      <th>Bevétel (eFt)</th>\n",
       "      <th>Kategória</th>\n",
       "      <th>Régió</th>\n",
       "      <th>Akció</th>\n",
       "      <th>Dátum</th>\n",
       "    </tr>\n",
       "  </thead>\n",
       "  <tbody>\n",
       "    <tr>\n",
       "      <th>0</th>\n",
       "      <td>Huawei P50</td>\n",
       "      <td>15.001</td>\n",
       "      <td>485727.001</td>\n",
       "      <td>7286.390742</td>\n",
       "      <td>Moobiltelefon</td>\n",
       "      <td>Nyíregyháza</td>\n",
       "      <td>akciós</td>\n",
       "      <td>2025-04-27</td>\n",
       "    </tr>\n",
       "    <tr>\n",
       "      <th>1</th>\n",
       "      <td>MacBook Air</td>\n",
       "      <td>10.001</td>\n",
       "      <td>605624.001</td>\n",
       "      <td>6056.845634</td>\n",
       "      <td>Laaptop</td>\n",
       "      <td>Nyíregyháza</td>\n",
       "      <td>akciós</td>\n",
       "      <td>2025-06-24</td>\n",
       "    </tr>\n",
       "    <tr>\n",
       "      <th>2</th>\n",
       "      <td>HP Spectre</td>\n",
       "      <td>14.001</td>\n",
       "      <td>321648.001</td>\n",
       "      <td>4503.393662</td>\n",
       "      <td>Laaptop</td>\n",
       "      <td>Miskolc</td>\n",
       "      <td>nem akciós</td>\n",
       "      <td>2025-07-09</td>\n",
       "    </tr>\n",
       "    <tr>\n",
       "      <th>3</th>\n",
       "      <td>Oppo Find X5</td>\n",
       "      <td>15.001</td>\n",
       "      <td>310850.001</td>\n",
       "      <td>4663.060865</td>\n",
       "      <td>Moobiltelefon</td>\n",
       "      <td>Budddapest</td>\n",
       "      <td>nem akciós</td>\n",
       "      <td>2025-04-26</td>\n",
       "    </tr>\n",
       "    <tr>\n",
       "      <th>4</th>\n",
       "      <td>iPhone 13</td>\n",
       "      <td>19.001</td>\n",
       "      <td>302125.001</td>\n",
       "      <td>5740.677144</td>\n",
       "      <td>Moobiltelefon</td>\n",
       "      <td>Kecskemét</td>\n",
       "      <td>akciós</td>\n",
       "      <td>2025-06-12</td>\n",
       "    </tr>\n",
       "  </tbody>\n",
       "</table>\n",
       "</div>"
      ],
      "text/plain": [
       "         Termék  Mennyiség          Ár  Bevétel (eFt)      Kategória  \\\n",
       "0    Huawei P50     15.001  485727.001    7286.390742  Moobiltelefon   \n",
       "1   MacBook Air     10.001  605624.001    6056.845634        Laaptop   \n",
       "2    HP Spectre     14.001  321648.001    4503.393662        Laaptop   \n",
       "3  Oppo Find X5     15.001  310850.001    4663.060865  Moobiltelefon   \n",
       "4     iPhone 13     19.001  302125.001    5740.677144  Moobiltelefon   \n",
       "\n",
       "         Régió         Akció       Dátum  \n",
       "0  Nyíregyháza       akciós   2025-04-27  \n",
       "1  Nyíregyháza       akciós   2025-06-24  \n",
       "2      Miskolc   nem akciós   2025-07-09  \n",
       "3   Budddapest   nem akciós   2025-04-26  \n",
       "4    Kecskemét       akciós   2025-06-12  "
      ]
     },
     "execution_count": 12,
     "metadata": {},
     "output_type": "execute_result"
    }
   ],
   "source": [
    "df = pd.read_excel(\"mobil_bob_shop_adattisztit.xlsx\")\n",
    "df.head()"
   ]
  },
  {
   "cell_type": "markdown",
   "metadata": {
    "id": "ZTzBBNZh1ObZ"
   },
   "source": [
    "* parancs megmutatja a táblázat (DataFrame) első 15 sorát.\n",
    "* df: Ez a változó tartalmazza az Excel fájlból beolvasott adatokat, egy táblázat formájában.\n",
    "* .head(): Ez egy Pandas függvény, ami a DataFrame elejét mutatja meg.  (15): Ha zárójelben megadunk egy számot, mint itt a 15-öt, akkor annyi sort fog megjeleníteni a táblázat elejéről.\n",
    "* hasznos az adatok gyors ellenőrzésére.\n"
   ]
  },
  {
   "cell_type": "code",
   "execution_count": null,
   "metadata": {
    "colab": {
     "base_uri": "https://localhost:8080/",
     "height": 143
    },
    "id": "r_wbvlxByliX",
    "outputId": "6c22aea8-bd29-4a44-8a01-2bf5b6b5a725"
   },
   "outputs": [
    {
     "data": {
      "application/vnd.google.colaboratory.intrinsic+json": {
       "summary": "{\n  \"name\": \"df\",\n  \"rows\": 1040,\n  \"fields\": [\n    {\n      \"column\": \"Term\\u00e9k\",\n      \"properties\": {\n        \"dtype\": \"category\",\n        \"num_unique_values\": 25,\n        \"samples\": [\n          \"Dell XPS 13\",\n          \"Philips Ambilight\",\n          \"Huawei P50\"\n        ],\n        \"semantic_type\": \"\",\n        \"description\": \"\"\n      }\n    },\n    {\n      \"column\": \"Mennyis\\u00e9g\",\n      \"properties\": {\n        \"dtype\": \"number\",\n        \"std\": 5.930718983996401,\n        \"min\": 10.001,\n        \"max\": 30.001,\n        \"num_unique_values\": 21,\n        \"samples\": [\n          15.001,\n          26.001,\n          23.001\n        ],\n        \"semantic_type\": \"\",\n        \"description\": \"\"\n      }\n    },\n    {\n      \"column\": \"\\u00c1r\",\n      \"properties\": {\n        \"dtype\": \"number\",\n        \"std\": 194667.5402329648,\n        \"min\": 5192.001,\n        \"max\": 796403.001,\n        \"num_unique_values\": 999,\n        \"samples\": [\n          215461.001,\n          246296.001,\n          423930.001\n        ],\n        \"semantic_type\": \"\",\n        \"description\": \"\"\n      }\n    },\n    {\n      \"column\": \"Bev\\u00e9tel (eFt)\",\n      \"properties\": {\n        \"dtype\": \"number\",\n        \"std\": 4482.610113485325,\n        \"min\": 102.353704001,\n        \"max\": 23769.552322001,\n        \"num_unique_values\": 1000,\n        \"samples\": [\n          8613.077123001,\n          2810.403479001,\n          13005.787705001\n        ],\n        \"semantic_type\": \"\",\n        \"description\": \"\"\n      }\n    },\n    {\n      \"column\": \"Kateg\\u00f3ria\",\n      \"properties\": {\n        \"dtype\": \"category\",\n        \"num_unique_values\": 6,\n        \"samples\": [\n          \"Moobiltelefon\",\n          \"Laaptop\",\n          \"Mobiltelefon\"\n        ],\n        \"semantic_type\": \"\",\n        \"description\": \"\"\n      }\n    },\n    {\n      \"column\": \"R\\u00e9gi\\u00f3\",\n      \"properties\": {\n        \"dtype\": \"category\",\n        \"num_unique_values\": 10,\n        \"samples\": [\n          \"Sz\\u00e9kesfeh\\u00e9rv\\u00e1r\",\n          \"Miskolc\",\n          \"Debbbrecen\"\n        ],\n        \"semantic_type\": \"\",\n        \"description\": \"\"\n      }\n    },\n    {\n      \"column\": \"Akci\\u00f3\",\n      \"properties\": {\n        \"dtype\": \"category\",\n        \"num_unique_values\": 2,\n        \"samples\": [\n          \" nem akci\\u00f3s \",\n          \" akci\\u00f3s \"\n        ],\n        \"semantic_type\": \"\",\n        \"description\": \"\"\n      }\n    },\n    {\n      \"column\": \"D\\u00e1tum\",\n      \"properties\": {\n        \"dtype\": \"object\",\n        \"num_unique_values\": 101,\n        \"samples\": [\n          \"2025-04-25\",\n          \"2025-06-02\"\n        ],\n        \"semantic_type\": \"\",\n        \"description\": \"\"\n      }\n    }\n  ]\n}",
       "type": "dataframe",
       "variable_name": "df"
      },
      "text/html": [
       "\n",
       "  <div id=\"df-1a9d2040-eaca-44d0-855c-a3fad00ecbf2\" class=\"colab-df-container\">\n",
       "    <div>\n",
       "<style scoped>\n",
       "    .dataframe tbody tr th:only-of-type {\n",
       "        vertical-align: middle;\n",
       "    }\n",
       "\n",
       "    .dataframe tbody tr th {\n",
       "        vertical-align: top;\n",
       "    }\n",
       "\n",
       "    .dataframe thead th {\n",
       "        text-align: right;\n",
       "    }\n",
       "</style>\n",
       "<table border=\"1\" class=\"dataframe\">\n",
       "  <thead>\n",
       "    <tr style=\"text-align: right;\">\n",
       "      <th></th>\n",
       "      <th>Termék</th>\n",
       "      <th>Mennyiség</th>\n",
       "      <th>Ár</th>\n",
       "      <th>Bevétel (eFt)</th>\n",
       "      <th>Kategória</th>\n",
       "      <th>Régió</th>\n",
       "      <th>Akció</th>\n",
       "      <th>Dátum</th>\n",
       "    </tr>\n",
       "  </thead>\n",
       "  <tbody>\n",
       "    <tr>\n",
       "      <th>0</th>\n",
       "      <td>Huawei P50</td>\n",
       "      <td>15.001</td>\n",
       "      <td>485727.001</td>\n",
       "      <td>7286.390742</td>\n",
       "      <td>Moobiltelefon</td>\n",
       "      <td>Nyíregyháza</td>\n",
       "      <td>akciós</td>\n",
       "      <td>2025-04-27</td>\n",
       "    </tr>\n",
       "    <tr>\n",
       "      <th>1</th>\n",
       "      <td>MacBook Air</td>\n",
       "      <td>10.001</td>\n",
       "      <td>605624.001</td>\n",
       "      <td>6056.845634</td>\n",
       "      <td>Laaptop</td>\n",
       "      <td>Nyíregyháza</td>\n",
       "      <td>akciós</td>\n",
       "      <td>2025-06-24</td>\n",
       "    </tr>\n",
       "    <tr>\n",
       "      <th>2</th>\n",
       "      <td>HP Spectre</td>\n",
       "      <td>14.001</td>\n",
       "      <td>321648.001</td>\n",
       "      <td>4503.393662</td>\n",
       "      <td>Laaptop</td>\n",
       "      <td>Miskolc</td>\n",
       "      <td>nem akciós</td>\n",
       "      <td>2025-07-09</td>\n",
       "    </tr>\n",
       "  </tbody>\n",
       "</table>\n",
       "</div>\n",
       "    <div class=\"colab-df-buttons\">\n",
       "\n",
       "  <div class=\"colab-df-container\">\n",
       "    <button class=\"colab-df-convert\" onclick=\"convertToInteractive('df-1a9d2040-eaca-44d0-855c-a3fad00ecbf2')\"\n",
       "            title=\"Convert this dataframe to an interactive table.\"\n",
       "            style=\"display:none;\">\n",
       "\n",
       "  <svg xmlns=\"http://www.w3.org/2000/svg\" height=\"24px\" viewBox=\"0 -960 960 960\">\n",
       "    <path d=\"M120-120v-720h720v720H120Zm60-500h600v-160H180v160Zm220 220h160v-160H400v160Zm0 220h160v-160H400v160ZM180-400h160v-160H180v160Zm440 0h160v-160H620v160ZM180-180h160v-160H180v160Zm440 0h160v-160H620v160Z\"/>\n",
       "  </svg>\n",
       "    </button>\n",
       "\n",
       "  <style>\n",
       "    .colab-df-container {\n",
       "      display:flex;\n",
       "      gap: 12px;\n",
       "    }\n",
       "\n",
       "    .colab-df-convert {\n",
       "      background-color: #E8F0FE;\n",
       "      border: none;\n",
       "      border-radius: 50%;\n",
       "      cursor: pointer;\n",
       "      display: none;\n",
       "      fill: #1967D2;\n",
       "      height: 32px;\n",
       "      padding: 0 0 0 0;\n",
       "      width: 32px;\n",
       "    }\n",
       "\n",
       "    .colab-df-convert:hover {\n",
       "      background-color: #E2EBFA;\n",
       "      box-shadow: 0px 1px 2px rgba(60, 64, 67, 0.3), 0px 1px 3px 1px rgba(60, 64, 67, 0.15);\n",
       "      fill: #174EA6;\n",
       "    }\n",
       "\n",
       "    .colab-df-buttons div {\n",
       "      margin-bottom: 4px;\n",
       "    }\n",
       "\n",
       "    [theme=dark] .colab-df-convert {\n",
       "      background-color: #3B4455;\n",
       "      fill: #D2E3FC;\n",
       "    }\n",
       "\n",
       "    [theme=dark] .colab-df-convert:hover {\n",
       "      background-color: #434B5C;\n",
       "      box-shadow: 0px 1px 3px 1px rgba(0, 0, 0, 0.15);\n",
       "      filter: drop-shadow(0px 1px 2px rgba(0, 0, 0, 0.3));\n",
       "      fill: #FFFFFF;\n",
       "    }\n",
       "  </style>\n",
       "\n",
       "    <script>\n",
       "      const buttonEl =\n",
       "        document.querySelector('#df-1a9d2040-eaca-44d0-855c-a3fad00ecbf2 button.colab-df-convert');\n",
       "      buttonEl.style.display =\n",
       "        google.colab.kernel.accessAllowed ? 'block' : 'none';\n",
       "\n",
       "      async function convertToInteractive(key) {\n",
       "        const element = document.querySelector('#df-1a9d2040-eaca-44d0-855c-a3fad00ecbf2');\n",
       "        const dataTable =\n",
       "          await google.colab.kernel.invokeFunction('convertToInteractive',\n",
       "                                                    [key], {});\n",
       "        if (!dataTable) return;\n",
       "\n",
       "        const docLinkHtml = 'Like what you see? Visit the ' +\n",
       "          '<a target=\"_blank\" href=https://colab.research.google.com/notebooks/data_table.ipynb>data table notebook</a>'\n",
       "          + ' to learn more about interactive tables.';\n",
       "        element.innerHTML = '';\n",
       "        dataTable['output_type'] = 'display_data';\n",
       "        await google.colab.output.renderOutput(dataTable, element);\n",
       "        const docLink = document.createElement('div');\n",
       "        docLink.innerHTML = docLinkHtml;\n",
       "        element.appendChild(docLink);\n",
       "      }\n",
       "    </script>\n",
       "  </div>\n",
       "\n",
       "\n",
       "    <div id=\"df-86e85a52-c8df-4887-b115-c0bfbf07f71c\">\n",
       "      <button class=\"colab-df-quickchart\" onclick=\"quickchart('df-86e85a52-c8df-4887-b115-c0bfbf07f71c')\"\n",
       "                title=\"Suggest charts\"\n",
       "                style=\"display:none;\">\n",
       "\n",
       "<svg xmlns=\"http://www.w3.org/2000/svg\" height=\"24px\"viewBox=\"0 0 24 24\"\n",
       "     width=\"24px\">\n",
       "    <g>\n",
       "        <path d=\"M19 3H5c-1.1 0-2 .9-2 2v14c0 1.1.9 2 2 2h14c1.1 0 2-.9 2-2V5c0-1.1-.9-2-2-2zM9 17H7v-7h2v7zm4 0h-2V7h2v10zm4 0h-2v-4h2v4z\"/>\n",
       "    </g>\n",
       "</svg>\n",
       "      </button>\n",
       "\n",
       "<style>\n",
       "  .colab-df-quickchart {\n",
       "      --bg-color: #E8F0FE;\n",
       "      --fill-color: #1967D2;\n",
       "      --hover-bg-color: #E2EBFA;\n",
       "      --hover-fill-color: #174EA6;\n",
       "      --disabled-fill-color: #AAA;\n",
       "      --disabled-bg-color: #DDD;\n",
       "  }\n",
       "\n",
       "  [theme=dark] .colab-df-quickchart {\n",
       "      --bg-color: #3B4455;\n",
       "      --fill-color: #D2E3FC;\n",
       "      --hover-bg-color: #434B5C;\n",
       "      --hover-fill-color: #FFFFFF;\n",
       "      --disabled-bg-color: #3B4455;\n",
       "      --disabled-fill-color: #666;\n",
       "  }\n",
       "\n",
       "  .colab-df-quickchart {\n",
       "    background-color: var(--bg-color);\n",
       "    border: none;\n",
       "    border-radius: 50%;\n",
       "    cursor: pointer;\n",
       "    display: none;\n",
       "    fill: var(--fill-color);\n",
       "    height: 32px;\n",
       "    padding: 0;\n",
       "    width: 32px;\n",
       "  }\n",
       "\n",
       "  .colab-df-quickchart:hover {\n",
       "    background-color: var(--hover-bg-color);\n",
       "    box-shadow: 0 1px 2px rgba(60, 64, 67, 0.3), 0 1px 3px 1px rgba(60, 64, 67, 0.15);\n",
       "    fill: var(--button-hover-fill-color);\n",
       "  }\n",
       "\n",
       "  .colab-df-quickchart-complete:disabled,\n",
       "  .colab-df-quickchart-complete:disabled:hover {\n",
       "    background-color: var(--disabled-bg-color);\n",
       "    fill: var(--disabled-fill-color);\n",
       "    box-shadow: none;\n",
       "  }\n",
       "\n",
       "  .colab-df-spinner {\n",
       "    border: 2px solid var(--fill-color);\n",
       "    border-color: transparent;\n",
       "    border-bottom-color: var(--fill-color);\n",
       "    animation:\n",
       "      spin 1s steps(1) infinite;\n",
       "  }\n",
       "\n",
       "  @keyframes spin {\n",
       "    0% {\n",
       "      border-color: transparent;\n",
       "      border-bottom-color: var(--fill-color);\n",
       "      border-left-color: var(--fill-color);\n",
       "    }\n",
       "    20% {\n",
       "      border-color: transparent;\n",
       "      border-left-color: var(--fill-color);\n",
       "      border-top-color: var(--fill-color);\n",
       "    }\n",
       "    30% {\n",
       "      border-color: transparent;\n",
       "      border-left-color: var(--fill-color);\n",
       "      border-top-color: var(--fill-color);\n",
       "      border-right-color: var(--fill-color);\n",
       "    }\n",
       "    40% {\n",
       "      border-color: transparent;\n",
       "      border-right-color: var(--fill-color);\n",
       "      border-top-color: var(--fill-color);\n",
       "    }\n",
       "    60% {\n",
       "      border-color: transparent;\n",
       "      border-right-color: var(--fill-color);\n",
       "    }\n",
       "    80% {\n",
       "      border-color: transparent;\n",
       "      border-right-color: var(--fill-color);\n",
       "      border-bottom-color: var(--fill-color);\n",
       "    }\n",
       "    90% {\n",
       "      border-color: transparent;\n",
       "      border-bottom-color: var(--fill-color);\n",
       "    }\n",
       "  }\n",
       "</style>\n",
       "\n",
       "      <script>\n",
       "        async function quickchart(key) {\n",
       "          const quickchartButtonEl =\n",
       "            document.querySelector('#' + key + ' button');\n",
       "          quickchartButtonEl.disabled = true;  // To prevent multiple clicks.\n",
       "          quickchartButtonEl.classList.add('colab-df-spinner');\n",
       "          try {\n",
       "            const charts = await google.colab.kernel.invokeFunction(\n",
       "                'suggestCharts', [key], {});\n",
       "          } catch (error) {\n",
       "            console.error('Error during call to suggestCharts:', error);\n",
       "          }\n",
       "          quickchartButtonEl.classList.remove('colab-df-spinner');\n",
       "          quickchartButtonEl.classList.add('colab-df-quickchart-complete');\n",
       "        }\n",
       "        (() => {\n",
       "          let quickchartButtonEl =\n",
       "            document.querySelector('#df-86e85a52-c8df-4887-b115-c0bfbf07f71c button');\n",
       "          quickchartButtonEl.style.display =\n",
       "            google.colab.kernel.accessAllowed ? 'block' : 'none';\n",
       "        })();\n",
       "      </script>\n",
       "    </div>\n",
       "\n",
       "    </div>\n",
       "  </div>\n"
      ],
      "text/plain": [
       "        Termék  Mennyiség          Ár  Bevétel (eFt)      Kategória  \\\n",
       "0   Huawei P50     15.001  485727.001    7286.390742  Moobiltelefon   \n",
       "1  MacBook Air     10.001  605624.001    6056.845634        Laaptop   \n",
       "2   HP Spectre     14.001  321648.001    4503.393662        Laaptop   \n",
       "\n",
       "         Régió         Akció       Dátum  \n",
       "0  Nyíregyháza       akciós   2025-04-27  \n",
       "1  Nyíregyháza       akciós   2025-06-24  \n",
       "2      Miskolc   nem akciós   2025-07-09  "
      ]
     },
     "execution_count": 34,
     "metadata": {},
     "output_type": "execute_result"
    }
   ],
   "source": [
    "df.head(3)"
   ]
  },
  {
   "cell_type": "markdown",
   "metadata": {
    "id": "uHU12Joy2c8q"
   },
   "source": [
    "* parancs megmutatja, az egyes oszlopokban milyen típusú adatok vannak a táblázatban (DataFrame).\n",
    "* df: Ez a változó tartalmazza az Excel fájlból beolvasott adatokat, egy táblázat formájában.\n",
    "* .dtypes: Ez egy Pandas tulajdonság, ami visszaadja az egyes oszlopok adattípusát.Például, ha egy oszlopban számok vannak, akkor  int64 (egész szám) vagy float64 (tizedes szám) típusú lesz. Ha szövegek, akkor object típusú.Ez a parancs segít megérteni, hogy a Pandas hogyan értelmezi az adataidat, ami fontos lehet a későbbi műveletekhez."
   ]
  },
  {
   "cell_type": "code",
   "execution_count": 13,
   "metadata": {
    "colab": {
     "base_uri": "https://localhost:8080/",
     "height": 335
    },
    "id": "Nbc0GJsMUbj9",
    "outputId": "70a22e42-4879-4041-9cb9-81de3cc55051"
   },
   "outputs": [
    {
     "data": {
      "text/plain": [
       "Termék            object\n",
       "Mennyiség        float64\n",
       "Ár               float64\n",
       "Bevétel (eFt)    float64\n",
       "Kategória         object\n",
       "Régió             object\n",
       "Akció             object\n",
       "Dátum             object\n",
       "dtype: object"
      ]
     },
     "execution_count": 13,
     "metadata": {},
     "output_type": "execute_result"
    }
   ],
   "source": [
    "# oszlopok adattípusának lekérdezése\n",
    "# Akció nem logikai típusú,\n",
    "# Mennyiség, Ár tizedestört\n",
    "df.dtypes\n"
   ]
  },
  {
   "cell_type": "markdown",
   "metadata": {
    "id": "YoIo6KEC21y5"
   },
   "source": [
    "* hány sor és hány oszlop van a táblázatban (DataFrame).\n",
    "* df: Ez a változó tartalmazza az Excel fájlból beolvasott adatokat, egy táblázat formájában.\n",
    "* .shape: Ez egy Pandas tulajdonság, ami egy szám-párost ad vissza: az első szám a sorok számát, a második pedig az oszlopok számát jelöli.Például, ha az eredmény (15, 8), az azt jelenti, hogy a táblázatban 15 sor és 8 oszlop van.Ez a parancs hasznos az adathalmaz méretének gyors áttekintéséhez."
   ]
  },
  {
   "cell_type": "code",
   "execution_count": 14,
   "metadata": {
    "colab": {
     "base_uri": "https://localhost:8080/"
    },
    "id": "MUGyrlcIfRtQ",
    "outputId": "c4cf496a-76f5-42bd-dbaa-1f263aa1f673"
   },
   "outputs": [
    {
     "data": {
      "text/plain": [
       "(1040, 8)"
      ]
     },
     "execution_count": 14,
     "metadata": {},
     "output_type": "execute_result"
    }
   ],
   "source": [
    "#hány sor és hány oszlop van\n",
    "df.shape"
   ]
  },
  {
   "cell_type": "markdown",
   "metadata": {
    "id": "6vAX0rGG3Qlx"
   },
   "source": [
    "* eltávolítja az ismétlődő sorokat a táblázatból\n",
    "* df: Ez az eredeti táblázat (DataFrame), amiből az ismétlődéseket el akarjuk távolítani.\n",
    "* .drop_duplicates(): Ez egy Pandas függvény, ami megkeresi és eltávolítja azokat a sorokat, amelyek teljesen megegyeznek egy másik sorral a táblázatban. Alapértelmezetten az összes oszlopot figyelembe veszi az ismétlődések keresésekor.\n"
   ]
  },
  {
   "cell_type": "code",
   "execution_count": 15,
   "metadata": {
    "colab": {
     "base_uri": "https://localhost:8080/",
     "height": 424
    },
    "id": "gdznD_UnUwH1",
    "outputId": "62021617-529e-4e52-f15a-64190df5d388"
   },
   "outputs": [
    {
     "data": {
      "text/html": [
       "<div>\n",
       "<style scoped>\n",
       "    .dataframe tbody tr th:only-of-type {\n",
       "        vertical-align: middle;\n",
       "    }\n",
       "\n",
       "    .dataframe tbody tr th {\n",
       "        vertical-align: top;\n",
       "    }\n",
       "\n",
       "    .dataframe thead th {\n",
       "        text-align: right;\n",
       "    }\n",
       "</style>\n",
       "<table border=\"1\" class=\"dataframe\">\n",
       "  <thead>\n",
       "    <tr style=\"text-align: right;\">\n",
       "      <th></th>\n",
       "      <th>Termék</th>\n",
       "      <th>Mennyiség</th>\n",
       "      <th>Ár</th>\n",
       "      <th>Bevétel (eFt)</th>\n",
       "      <th>Kategória</th>\n",
       "      <th>Régió</th>\n",
       "      <th>Akció</th>\n",
       "      <th>Dátum</th>\n",
       "    </tr>\n",
       "  </thead>\n",
       "  <tbody>\n",
       "    <tr>\n",
       "      <th>0</th>\n",
       "      <td>Huawei P50</td>\n",
       "      <td>15.001</td>\n",
       "      <td>485727.001</td>\n",
       "      <td>7286.390742</td>\n",
       "      <td>Moobiltelefon</td>\n",
       "      <td>Nyíregyháza</td>\n",
       "      <td>akciós</td>\n",
       "      <td>2025-04-27</td>\n",
       "    </tr>\n",
       "    <tr>\n",
       "      <th>1</th>\n",
       "      <td>MacBook Air</td>\n",
       "      <td>10.001</td>\n",
       "      <td>605624.001</td>\n",
       "      <td>6056.845634</td>\n",
       "      <td>Laaptop</td>\n",
       "      <td>Nyíregyháza</td>\n",
       "      <td>akciós</td>\n",
       "      <td>2025-06-24</td>\n",
       "    </tr>\n",
       "    <tr>\n",
       "      <th>2</th>\n",
       "      <td>HP Spectre</td>\n",
       "      <td>14.001</td>\n",
       "      <td>321648.001</td>\n",
       "      <td>4503.393662</td>\n",
       "      <td>Laaptop</td>\n",
       "      <td>Miskolc</td>\n",
       "      <td>nem akciós</td>\n",
       "      <td>2025-07-09</td>\n",
       "    </tr>\n",
       "    <tr>\n",
       "      <th>3</th>\n",
       "      <td>Oppo Find X5</td>\n",
       "      <td>15.001</td>\n",
       "      <td>310850.001</td>\n",
       "      <td>4663.060865</td>\n",
       "      <td>Moobiltelefon</td>\n",
       "      <td>Budddapest</td>\n",
       "      <td>nem akciós</td>\n",
       "      <td>2025-04-26</td>\n",
       "    </tr>\n",
       "    <tr>\n",
       "      <th>4</th>\n",
       "      <td>iPhone 13</td>\n",
       "      <td>19.001</td>\n",
       "      <td>302125.001</td>\n",
       "      <td>5740.677144</td>\n",
       "      <td>Moobiltelefon</td>\n",
       "      <td>Kecskemét</td>\n",
       "      <td>akciós</td>\n",
       "      <td>2025-06-12</td>\n",
       "    </tr>\n",
       "    <tr>\n",
       "      <th>...</th>\n",
       "      <td>...</td>\n",
       "      <td>...</td>\n",
       "      <td>...</td>\n",
       "      <td>...</td>\n",
       "      <td>...</td>\n",
       "      <td>...</td>\n",
       "      <td>...</td>\n",
       "      <td>...</td>\n",
       "    </tr>\n",
       "    <tr>\n",
       "      <th>996</th>\n",
       "      <td>MacBook Air</td>\n",
       "      <td>16.001</td>\n",
       "      <td>683497.001</td>\n",
       "      <td>10936.635513</td>\n",
       "      <td>Laaptop</td>\n",
       "      <td>Miskolc</td>\n",
       "      <td>akciós</td>\n",
       "      <td>2025-06-20</td>\n",
       "    </tr>\n",
       "    <tr>\n",
       "      <th>997</th>\n",
       "      <td>iPad Pro</td>\n",
       "      <td>27.001</td>\n",
       "      <td>194959.001</td>\n",
       "      <td>5264.087986</td>\n",
       "      <td>Taablet</td>\n",
       "      <td>Székesfehérvár</td>\n",
       "      <td>nem akciós</td>\n",
       "      <td>2025-06-09</td>\n",
       "    </tr>\n",
       "    <tr>\n",
       "      <th>998</th>\n",
       "      <td>Sony Bravia</td>\n",
       "      <td>22.001</td>\n",
       "      <td>156264.001</td>\n",
       "      <td>3437.964286</td>\n",
       "      <td>TtV</td>\n",
       "      <td>Székesfehérvár</td>\n",
       "      <td>akciós</td>\n",
       "      <td>2025-06-21</td>\n",
       "    </tr>\n",
       "    <tr>\n",
       "      <th>999</th>\n",
       "      <td>Védőtok</td>\n",
       "      <td>29.001</td>\n",
       "      <td>25664.001</td>\n",
       "      <td>744.281693</td>\n",
       "      <td>Kiiegészítő</td>\n",
       "      <td>Nyíregyháza</td>\n",
       "      <td>nem akciós</td>\n",
       "      <td>2025-06-21</td>\n",
       "    </tr>\n",
       "    <tr>\n",
       "      <th>1000</th>\n",
       "      <td>iPhone 13</td>\n",
       "      <td>25.001</td>\n",
       "      <td>350000.001</td>\n",
       "      <td>8750.350025</td>\n",
       "      <td>Mobiltelefon</td>\n",
       "      <td>Budapest</td>\n",
       "      <td>akciós</td>\n",
       "      <td>2025-07-19</td>\n",
       "    </tr>\n",
       "  </tbody>\n",
       "</table>\n",
       "<p>1001 rows × 8 columns</p>\n",
       "</div>"
      ],
      "text/plain": [
       "            Termék  Mennyiség          Ár  Bevétel (eFt)      Kategória  \\\n",
       "0       Huawei P50     15.001  485727.001    7286.390742  Moobiltelefon   \n",
       "1      MacBook Air     10.001  605624.001    6056.845634        Laaptop   \n",
       "2       HP Spectre     14.001  321648.001    4503.393662        Laaptop   \n",
       "3     Oppo Find X5     15.001  310850.001    4663.060865  Moobiltelefon   \n",
       "4        iPhone 13     19.001  302125.001    5740.677144  Moobiltelefon   \n",
       "...            ...        ...         ...            ...            ...   \n",
       "996    MacBook Air     16.001  683497.001   10936.635513        Laaptop   \n",
       "997       iPad Pro     27.001  194959.001    5264.087986        Taablet   \n",
       "998    Sony Bravia     22.001  156264.001    3437.964286            TtV   \n",
       "999        Védőtok     29.001   25664.001     744.281693    Kiiegészítő   \n",
       "1000     iPhone 13     25.001  350000.001    8750.350025   Mobiltelefon   \n",
       "\n",
       "               Régió         Akció       Dátum  \n",
       "0        Nyíregyháza       akciós   2025-04-27  \n",
       "1        Nyíregyháza       akciós   2025-06-24  \n",
       "2            Miskolc   nem akciós   2025-07-09  \n",
       "3         Budddapest   nem akciós   2025-04-26  \n",
       "4          Kecskemét       akciós   2025-06-12  \n",
       "...              ...           ...         ...  \n",
       "996          Miskolc       akciós   2025-06-20  \n",
       "997   Székesfehérvár   nem akciós   2025-06-09  \n",
       "998   Székesfehérvár       akciós   2025-06-21  \n",
       "999      Nyíregyháza   nem akciós   2025-06-21  \n",
       "1000        Budapest       akciós   2025-07-19  \n",
       "\n",
       "[1001 rows x 8 columns]"
      ]
     },
     "execution_count": 15,
     "metadata": {},
     "output_type": "execute_result"
    }
   ],
   "source": [
    "#eltávolítja az ismétlődő sorokat a táblázatból\n",
    "df = df.drop_duplicates()\n",
    "\n",
    "df"
   ]
  },
  {
   "cell_type": "code",
   "execution_count": 16,
   "metadata": {
    "colab": {
     "base_uri": "https://localhost:8080/"
    },
    "id": "an6iCfGizPY-",
    "outputId": "16166134-7184-43f9-8a4f-4460697c3be3"
   },
   "outputs": [
    {
     "data": {
      "text/plain": [
       "(1001, 8)"
      ]
     },
     "execution_count": 16,
     "metadata": {},
     "output_type": "execute_result"
    }
   ],
   "source": [
    "# oszlopok adattípusának lekérdezése\n",
    "df.shape"
   ]
  },
  {
   "cell_type": "markdown",
   "metadata": {
    "id": "QhQdPvY3mcLJ"
   },
   "source": [
    "Táblázatban a hiányzó értékek nullára cserélése (számításoknál ne okozzon gondot."
   ]
  },
  {
   "cell_type": "code",
   "execution_count": 17,
   "metadata": {
    "colab": {
     "base_uri": "https://localhost:8080/"
    },
    "id": "YoFGbqcimOy1",
    "outputId": "0f38fdba-258d-4a7f-cbda-5d2566b09bbd"
   },
   "outputs": [],
   "source": [
    "df['Mennyiség'] = df['Mennyiség'].fillna(0)\n",
    "df['Ár'] = df['Ár'].fillna(0)"
   ]
  },
  {
   "cell_type": "code",
   "execution_count": null,
   "metadata": {
    "id": "GAnWNRqsmt3t"
   },
   "outputs": [],
   "source": [
    "df"
   ]
  },
  {
   "cell_type": "code",
   "execution_count": 18,
   "metadata": {
    "colab": {
     "base_uri": "https://localhost:8080/",
     "height": 458
    },
    "id": "vQAN8mA9lMat",
    "outputId": "a759de2c-2d50-4755-c2d2-e57dffea0ebb"
   },
   "outputs": [
    {
     "data": {
      "text/plain": [
       "0       15.001\n",
       "1       10.001\n",
       "2       14.001\n",
       "3       15.001\n",
       "4       19.001\n",
       "         ...  \n",
       "996     16.001\n",
       "997     27.001\n",
       "998     22.001\n",
       "999     29.001\n",
       "1000    25.001\n",
       "Name: Mennyiség, Length: 1001, dtype: float64"
      ]
     },
     "execution_count": 18,
     "metadata": {},
     "output_type": "execute_result"
    }
   ],
   "source": [
    "#oszlop megtekintése\n",
    "df[\"Mennyiség\"]"
   ]
  },
  {
   "cell_type": "code",
   "execution_count": 19,
   "metadata": {
    "id": "jKk_E-RsDPQm"
   },
   "outputs": [
    {
     "data": {
      "text/plain": [
       "1    10.001\n",
       "2    14.001\n",
       "Name: Mennyiség, dtype: float64"
      ]
     },
     "execution_count": 19,
     "metadata": {},
     "output_type": "execute_result"
    }
   ],
   "source": [
    "# sorok megtekintése\n",
    "df[\"Mennyiség\"][1:3]"
   ]
  },
  {
   "cell_type": "code",
   "execution_count": 20,
   "metadata": {
    "colab": {
     "base_uri": "https://localhost:8080/"
    },
    "id": "vW_Gtm6PDhA_",
    "outputId": "f25a89d8-d248-4624-b021-93679d2b701c"
   },
   "outputs": [
    {
     "data": {
      "text/plain": [
       "dtype('float64')"
      ]
     },
     "execution_count": 20,
     "metadata": {},
     "output_type": "execute_result"
    }
   ],
   "source": [
    "df[\"Mennyiség\"].dtypes"
   ]
  },
  {
   "cell_type": "code",
   "execution_count": 21,
   "metadata": {
    "colab": {
     "base_uri": "https://localhost:8080/",
     "height": 583
    },
    "id": "O1xkVgmMU1GF",
    "outputId": "42874d33-cf2f-40cb-8b81-670012aed62c"
   },
   "outputs": [
    {
     "data": {
      "text/plain": [
       "0       15\n",
       "1       10\n",
       "2       14\n",
       "3       15\n",
       "4       19\n",
       "        ..\n",
       "996     16\n",
       "997     27\n",
       "998     22\n",
       "999     29\n",
       "1000    25\n",
       "Name: Mennyiség, Length: 1001, dtype: int64"
      ]
     },
     "execution_count": 21,
     "metadata": {},
     "output_type": "execute_result"
    }
   ],
   "source": [
    "\n",
    "# A `astype(int)` metódus a \"Mennyiség\" oszlop értékeit `int` (integer) típusúra konvertálja,\n",
    "#vagyis egész számokká.\n",
    "# A `DataFrame[\"oszlopnév\"]` egy `Series`, amely típuskonverzió után szintén `Series` marad.\n",
    "\n",
    "df[\"Mennyiség\"] = df[\"Mennyiség\"].astype(int)\n",
    "#df[\"Mennyiség\"] = df[\"Mennyiség\"].round().astype(int)\n",
    "df[\"Mennyiség\"]\n"
   ]
  },
  {
   "cell_type": "code",
   "execution_count": 22,
   "metadata": {
    "colab": {
     "base_uri": "https://localhost:8080/",
     "height": 241
    },
    "id": "LKyOq8scGzbg",
    "outputId": "585a5ee9-0445-4b91-a9db-db0b0ed364a7"
   },
   "outputs": [
    {
     "data": {
      "text/plain": [
       "0    485727.001\n",
       "1    605624.001\n",
       "2    321648.001\n",
       "3    310850.001\n",
       "4    302125.001\n",
       "Name: Ár, dtype: float64"
      ]
     },
     "execution_count": 22,
     "metadata": {},
     "output_type": "execute_result"
    }
   ],
   "source": [
    "df[\"Ár\"].head()"
   ]
  },
  {
   "cell_type": "code",
   "execution_count": 23,
   "metadata": {
    "colab": {
     "base_uri": "https://localhost:8080/",
     "height": 583
    },
    "id": "f7crJpjzKO8m",
    "outputId": "05062fa0-10ed-459e-dc7f-d712956bbb7b"
   },
   "outputs": [
    {
     "data": {
      "text/plain": [
       "0       485727\n",
       "1       605624\n",
       "2       321648\n",
       "3       310850\n",
       "4       302125\n",
       "         ...  \n",
       "996     683497\n",
       "997     194959\n",
       "998     156264\n",
       "999      25664\n",
       "1000    350000\n",
       "Name: Ár, Length: 1001, dtype: int64"
      ]
     },
     "execution_count": 23,
     "metadata": {},
     "output_type": "execute_result"
    }
   ],
   "source": [
    "df[\"Ár\"] = df[\"Ár\"].astype(int)\n",
    "df[\"Ár\"]"
   ]
  },
  {
   "cell_type": "code",
   "execution_count": 24,
   "metadata": {
    "colab": {
     "base_uri": "https://localhost:8080/",
     "height": 583
    },
    "id": "jAks2G_6U7Vd",
    "outputId": "d657799b-7624-4250-f8cb-790bcd0ff498"
   },
   "outputs": [
    {
     "data": {
      "text/plain": [
       "0       485727 Ft\n",
       "1       605624 Ft\n",
       "2       321648 Ft\n",
       "3       310850 Ft\n",
       "4       302125 Ft\n",
       "          ...    \n",
       "996     683497 Ft\n",
       "997     194959 Ft\n",
       "998     156264 Ft\n",
       "999      25664 Ft\n",
       "1000    350000 Ft\n",
       "Name: Ár, Length: 1001, dtype: object"
      ]
     },
     "execution_count": 24,
     "metadata": {},
     "output_type": "execute_result"
    }
   ],
   "source": [
    "# szöveggé alakítás\n",
    "df[\"Ár\"] = df[\"Ár\"].astype(str) + \" Ft\"\n",
    "df[\"Ár\"]"
   ]
  },
  {
   "cell_type": "code",
   "execution_count": 25,
   "metadata": {
    "colab": {
     "base_uri": "https://localhost:8080/",
     "height": 241
    },
    "id": "BEnvIeT0Mmp2",
    "outputId": "e95b675b-4686-44e7-c7d7-286917995fb5"
   },
   "outputs": [
    {
     "data": {
      "text/plain": [
       "0         akciós \n",
       "1         akciós \n",
       "2     nem akciós \n",
       "3     nem akciós \n",
       "4         akciós \n",
       "Name: Akció, dtype: object"
      ]
     },
     "execution_count": 25,
     "metadata": {},
     "output_type": "execute_result"
    }
   ],
   "source": [
    "df[\"Akció\"].head()"
   ]
  },
  {
   "cell_type": "code",
   "execution_count": 26,
   "metadata": {
    "colab": {
     "base_uri": "https://localhost:8080/",
     "height": 35
    },
    "id": "m0qw5kT_QGoV",
    "outputId": "b7575bb1-0431-417c-9da6-839d5ec1d769"
   },
   "outputs": [
    {
     "data": {
      "text/plain": [
       "' akciós '"
      ]
     },
     "execution_count": 26,
     "metadata": {},
     "output_type": "execute_result"
    }
   ],
   "source": [
    "# melyik akciós?\n",
    "## space van a szöveg után!\n",
    "df[\"Akció\"][4]"
   ]
  },
  {
   "cell_type": "markdown",
   "metadata": {
    "id": "RJL6aTZv-G-m"
   },
   "source": [
    "* A Pandas apply() f lehetővé teszi, hogy egy általad megadott függvényt alkalmazza egy DataFrame vagy  elemeire"
   ]
  },
  {
   "cell_type": "code",
   "execution_count": 27,
   "metadata": {
    "colab": {
     "base_uri": "https://localhost:8080/"
    },
    "id": "tCPCxaw5NrD4",
    "outputId": "c733676d-7ee7-42eb-fdc0-32f0b4c1e43d"
   },
   "outputs": [],
   "source": [
    "# szöveg csere\n",
    "def akcios_csere(x):\n",
    "      # eltávolítja a whitespace (szóköz, tab,.. ) karaktert.\n",
    "      x = x.strip()\n",
    "      if x == \"akciós\":\n",
    "          return True\n",
    "      elif x == \"nem akciós\":\n",
    "          return False\n",
    "\n",
    "if df[\"Akció\"].dtype != bool:\n",
    "  df[\"Akció\"] = df[\"Akció\"].apply(akcios_csere)"
   ]
  },
  {
   "cell_type": "code",
   "execution_count": 28,
   "metadata": {
    "colab": {
     "base_uri": "https://localhost:8080/",
     "height": 241
    },
    "id": "KytqkxOWOWLG",
    "outputId": "f8dfc3b7-8512-433b-e619-fe32da36c9fb"
   },
   "outputs": [
    {
     "data": {
      "text/plain": [
       "0     True\n",
       "1     True\n",
       "2    False\n",
       "3    False\n",
       "4     True\n",
       "Name: Akció, dtype: bool"
      ]
     },
     "execution_count": 28,
     "metadata": {},
     "output_type": "execute_result"
    }
   ],
   "source": [
    "df[\"Akció\"].head(5)"
   ]
  },
  {
   "cell_type": "code",
   "execution_count": null,
   "metadata": {
    "colab": {
     "base_uri": "https://localhost:8080/",
     "height": 458
    },
    "id": "RIhavgJATWTa",
    "outputId": "7c50db21-dfa4-4726-c6fd-8a645cbb2b78"
   },
   "outputs": [
    {
     "data": {
      "text/html": [
       "<div>\n",
       "<style scoped>\n",
       "    .dataframe tbody tr th:only-of-type {\n",
       "        vertical-align: middle;\n",
       "    }\n",
       "\n",
       "    .dataframe tbody tr th {\n",
       "        vertical-align: top;\n",
       "    }\n",
       "\n",
       "    .dataframe thead th {\n",
       "        text-align: right;\n",
       "    }\n",
       "</style>\n",
       "<table border=\"1\" class=\"dataframe\">\n",
       "  <thead>\n",
       "    <tr style=\"text-align: right;\">\n",
       "      <th></th>\n",
       "      <th>Kategória</th>\n",
       "    </tr>\n",
       "  </thead>\n",
       "  <tbody>\n",
       "    <tr>\n",
       "      <th>0</th>\n",
       "      <td>Moobiltelefon</td>\n",
       "    </tr>\n",
       "    <tr>\n",
       "      <th>1</th>\n",
       "      <td>Laaptop</td>\n",
       "    </tr>\n",
       "    <tr>\n",
       "      <th>2</th>\n",
       "      <td>Laaptop</td>\n",
       "    </tr>\n",
       "    <tr>\n",
       "      <th>3</th>\n",
       "      <td>Moobiltelefon</td>\n",
       "    </tr>\n",
       "    <tr>\n",
       "      <th>4</th>\n",
       "      <td>Moobiltelefon</td>\n",
       "    </tr>\n",
       "    <tr>\n",
       "      <th>...</th>\n",
       "      <td>...</td>\n",
       "    </tr>\n",
       "    <tr>\n",
       "      <th>996</th>\n",
       "      <td>Laaptop</td>\n",
       "    </tr>\n",
       "    <tr>\n",
       "      <th>997</th>\n",
       "      <td>Taablet</td>\n",
       "    </tr>\n",
       "    <tr>\n",
       "      <th>998</th>\n",
       "      <td>TtV</td>\n",
       "    </tr>\n",
       "    <tr>\n",
       "      <th>999</th>\n",
       "      <td>Kiiegészítő</td>\n",
       "    </tr>\n",
       "    <tr>\n",
       "      <th>1000</th>\n",
       "      <td>Mobiltelefon</td>\n",
       "    </tr>\n",
       "  </tbody>\n",
       "</table>\n",
       "<p>1001 rows × 1 columns</p>\n",
       "</div><br><label><b>dtype:</b> object</label>"
      ],
      "text/plain": [
       "0       Moobiltelefon\n",
       "1             Laaptop\n",
       "2             Laaptop\n",
       "3       Moobiltelefon\n",
       "4       Moobiltelefon\n",
       "            ...      \n",
       "996           Laaptop\n",
       "997           Taablet\n",
       "998               TtV\n",
       "999       Kiiegészítő\n",
       "1000     Mobiltelefon\n",
       "Name: Kategória, Length: 1001, dtype: object"
      ]
     },
     "execution_count": 50,
     "metadata": {},
     "output_type": "execute_result"
    }
   ],
   "source": [
    "# Szöveg javítása\n",
    "df[\"Kategória\"]"
   ]
  },
  {
   "cell_type": "code",
   "execution_count": 29,
   "metadata": {
    "colab": {
     "base_uri": "https://localhost:8080/"
    },
    "id": "WBaNEmqjQ-EA",
    "outputId": "f89a5817-141b-453f-deaf-9dbc25a28c17"
   },
   "outputs": [],
   "source": [
    "def csere(x):\n",
    "\n",
    "    x = x.replace(\"Moobiltelefon\", \"Mobiltelefon\")\n",
    "    x = x.replace(\"Laaptop\", \"Laptop\")\n",
    "    x = x.replace(\"TtV\", \"TV\")\n",
    "    x = x.replace(\"Taablet\", \"Tablet\")\n",
    "    x = x.replace(\"Kiiegészítő\", \"Kiegészítő\")\n",
    "    return x\n",
    "\n",
    "df[\"Kategória\"] = df[\"Kategória\"].apply(csere)"
   ]
  },
  {
   "cell_type": "code",
   "execution_count": 30,
   "metadata": {
    "colab": {
     "base_uri": "https://localhost:8080/",
     "height": 458
    },
    "id": "3wcpeS2BTemh",
    "outputId": "722bc24e-e762-401a-a3f7-5c695ba0bf92"
   },
   "outputs": [
    {
     "data": {
      "text/plain": [
       "0       Mobiltelefon\n",
       "1             Laptop\n",
       "2             Laptop\n",
       "3       Mobiltelefon\n",
       "4       Mobiltelefon\n",
       "            ...     \n",
       "996           Laptop\n",
       "997           Tablet\n",
       "998               TV\n",
       "999       Kiegészítő\n",
       "1000    Mobiltelefon\n",
       "Name: Kategória, Length: 1001, dtype: object"
      ]
     },
     "execution_count": 30,
     "metadata": {},
     "output_type": "execute_result"
    }
   ],
   "source": [
    "df[\"Kategória\"]"
   ]
  },
  {
   "cell_type": "code",
   "execution_count": 31,
   "metadata": {
    "colab": {
     "base_uri": "https://localhost:8080/"
    },
    "id": "fCYo-wMFp3rZ",
    "outputId": "240a5628-1c47-4388-e877-ac9ee9b30cdf"
   },
   "outputs": [
    {
     "data": {
      "text/plain": [
       "array(['Nyíregyháza', 'Miskolc', 'Budddapest', 'Kecskemét', 'Győr',\n",
       "       'Debbbrecen', 'Szeggged', 'Pécs', 'Székesfehérvár', 'Budapest'],\n",
       "      dtype=object)"
      ]
     },
     "execution_count": 31,
     "metadata": {},
     "output_type": "execute_result"
    }
   ],
   "source": [
    "df[\"Régió\"].unique()"
   ]
  },
  {
   "cell_type": "code",
   "execution_count": 32,
   "metadata": {
    "colab": {
     "base_uri": "https://localhost:8080/"
    },
    "id": "ofXwyrgypxw9",
    "outputId": "287283dd-247a-4752-d05b-f1c423bf9667"
   },
   "outputs": [],
   "source": [
    "def csere_regio(x):\n",
    "    x = x.replace(\"Budddapest\", \"Budapest\")\n",
    "    x = x.replace(\"Debbbrecen\", \"Debrecen\")\n",
    "    x = x.replace(\"Szeggged\", \"Szeged\")\n",
    "    return x\n",
    "\n",
    "\n",
    "df[\"Régió\"] = df[\"Régió\"].apply(csere_regio)"
   ]
  },
  {
   "cell_type": "code",
   "execution_count": null,
   "metadata": {
    "colab": {
     "base_uri": "https://localhost:8080/"
    },
    "id": "AHjH3vFBqW7M",
    "outputId": "b400bfa9-5005-4221-f1a6-2de2dd8b9fd0"
   },
   "outputs": [
    {
     "data": {
      "text/plain": [
       "array(['Nyíregyháza', 'Miskolc', 'Budapest', 'Kecskemét', 'Győr',\n",
       "       'Debrecen', 'Szeged', 'Pécs', 'Székesfehérvár'], dtype=object)"
      ]
     },
     "execution_count": 56,
     "metadata": {},
     "output_type": "execute_result"
    }
   ],
   "source": [
    "df[\"Régió\"].unique()"
   ]
  },
  {
   "cell_type": "code",
   "execution_count": 33,
   "metadata": {
    "colab": {
     "base_uri": "https://localhost:8080/",
     "height": 548
    },
    "id": "v2ORPQI_kqs2",
    "outputId": "319a1053-1ddc-447b-ac88-7506ab34d3c0"
   },
   "outputs": [
    {
     "data": {
      "text/html": [
       "<div>\n",
       "<style scoped>\n",
       "    .dataframe tbody tr th:only-of-type {\n",
       "        vertical-align: middle;\n",
       "    }\n",
       "\n",
       "    .dataframe tbody tr th {\n",
       "        vertical-align: top;\n",
       "    }\n",
       "\n",
       "    .dataframe thead th {\n",
       "        text-align: right;\n",
       "    }\n",
       "</style>\n",
       "<table border=\"1\" class=\"dataframe\">\n",
       "  <thead>\n",
       "    <tr style=\"text-align: right;\">\n",
       "      <th></th>\n",
       "      <th>Termék</th>\n",
       "      <th>Mennyiség</th>\n",
       "      <th>Ár</th>\n",
       "      <th>Bevétel (eFt)</th>\n",
       "      <th>Kategória</th>\n",
       "      <th>Régió</th>\n",
       "      <th>Akció</th>\n",
       "      <th>Dátum</th>\n",
       "      <th>Termék és Kategória</th>\n",
       "    </tr>\n",
       "  </thead>\n",
       "  <tbody>\n",
       "    <tr>\n",
       "      <th>0</th>\n",
       "      <td>Huawei P50</td>\n",
       "      <td>15</td>\n",
       "      <td>485727 Ft</td>\n",
       "      <td>7286.390742</td>\n",
       "      <td>Mobiltelefon</td>\n",
       "      <td>Nyíregyháza</td>\n",
       "      <td>True</td>\n",
       "      <td>2025-04-27</td>\n",
       "      <td>Huawei P50, (Mobiltelefon)</td>\n",
       "    </tr>\n",
       "    <tr>\n",
       "      <th>1</th>\n",
       "      <td>MacBook Air</td>\n",
       "      <td>10</td>\n",
       "      <td>605624 Ft</td>\n",
       "      <td>6056.845634</td>\n",
       "      <td>Laptop</td>\n",
       "      <td>Nyíregyháza</td>\n",
       "      <td>True</td>\n",
       "      <td>2025-06-24</td>\n",
       "      <td>MacBook Air, (Laptop)</td>\n",
       "    </tr>\n",
       "    <tr>\n",
       "      <th>2</th>\n",
       "      <td>HP Spectre</td>\n",
       "      <td>14</td>\n",
       "      <td>321648 Ft</td>\n",
       "      <td>4503.393662</td>\n",
       "      <td>Laptop</td>\n",
       "      <td>Miskolc</td>\n",
       "      <td>False</td>\n",
       "      <td>2025-07-09</td>\n",
       "      <td>HP Spectre, (Laptop)</td>\n",
       "    </tr>\n",
       "    <tr>\n",
       "      <th>3</th>\n",
       "      <td>Oppo Find X5</td>\n",
       "      <td>15</td>\n",
       "      <td>310850 Ft</td>\n",
       "      <td>4663.060865</td>\n",
       "      <td>Mobiltelefon</td>\n",
       "      <td>Budapest</td>\n",
       "      <td>False</td>\n",
       "      <td>2025-04-26</td>\n",
       "      <td>Oppo Find X5, (Mobiltelefon)</td>\n",
       "    </tr>\n",
       "    <tr>\n",
       "      <th>4</th>\n",
       "      <td>iPhone 13</td>\n",
       "      <td>19</td>\n",
       "      <td>302125 Ft</td>\n",
       "      <td>5740.677144</td>\n",
       "      <td>Mobiltelefon</td>\n",
       "      <td>Kecskemét</td>\n",
       "      <td>True</td>\n",
       "      <td>2025-06-12</td>\n",
       "      <td>iPhone 13, (Mobiltelefon)</td>\n",
       "    </tr>\n",
       "    <tr>\n",
       "      <th>...</th>\n",
       "      <td>...</td>\n",
       "      <td>...</td>\n",
       "      <td>...</td>\n",
       "      <td>...</td>\n",
       "      <td>...</td>\n",
       "      <td>...</td>\n",
       "      <td>...</td>\n",
       "      <td>...</td>\n",
       "      <td>...</td>\n",
       "    </tr>\n",
       "    <tr>\n",
       "      <th>996</th>\n",
       "      <td>MacBook Air</td>\n",
       "      <td>16</td>\n",
       "      <td>683497 Ft</td>\n",
       "      <td>10936.635513</td>\n",
       "      <td>Laptop</td>\n",
       "      <td>Miskolc</td>\n",
       "      <td>True</td>\n",
       "      <td>2025-06-20</td>\n",
       "      <td>MacBook Air, (Laptop)</td>\n",
       "    </tr>\n",
       "    <tr>\n",
       "      <th>997</th>\n",
       "      <td>iPad Pro</td>\n",
       "      <td>27</td>\n",
       "      <td>194959 Ft</td>\n",
       "      <td>5264.087986</td>\n",
       "      <td>Tablet</td>\n",
       "      <td>Székesfehérvár</td>\n",
       "      <td>False</td>\n",
       "      <td>2025-06-09</td>\n",
       "      <td>iPad Pro, (Tablet)</td>\n",
       "    </tr>\n",
       "    <tr>\n",
       "      <th>998</th>\n",
       "      <td>Sony Bravia</td>\n",
       "      <td>22</td>\n",
       "      <td>156264 Ft</td>\n",
       "      <td>3437.964286</td>\n",
       "      <td>TV</td>\n",
       "      <td>Székesfehérvár</td>\n",
       "      <td>True</td>\n",
       "      <td>2025-06-21</td>\n",
       "      <td>Sony Bravia, (TV)</td>\n",
       "    </tr>\n",
       "    <tr>\n",
       "      <th>999</th>\n",
       "      <td>Védőtok</td>\n",
       "      <td>29</td>\n",
       "      <td>25664 Ft</td>\n",
       "      <td>744.281693</td>\n",
       "      <td>Kiegészítő</td>\n",
       "      <td>Nyíregyháza</td>\n",
       "      <td>False</td>\n",
       "      <td>2025-06-21</td>\n",
       "      <td>Védőtok, (Kiegészítő)</td>\n",
       "    </tr>\n",
       "    <tr>\n",
       "      <th>1000</th>\n",
       "      <td>iPhone 13</td>\n",
       "      <td>25</td>\n",
       "      <td>350000 Ft</td>\n",
       "      <td>8750.350025</td>\n",
       "      <td>Mobiltelefon</td>\n",
       "      <td>Budapest</td>\n",
       "      <td>True</td>\n",
       "      <td>2025-07-19</td>\n",
       "      <td>iPhone 13, (Mobiltelefon)</td>\n",
       "    </tr>\n",
       "  </tbody>\n",
       "</table>\n",
       "<p>1001 rows × 9 columns</p>\n",
       "</div>"
      ],
      "text/plain": [
       "            Termék  Mennyiség         Ár  Bevétel (eFt)     Kategória  \\\n",
       "0       Huawei P50         15  485727 Ft    7286.390742  Mobiltelefon   \n",
       "1      MacBook Air         10  605624 Ft    6056.845634        Laptop   \n",
       "2       HP Spectre         14  321648 Ft    4503.393662        Laptop   \n",
       "3     Oppo Find X5         15  310850 Ft    4663.060865  Mobiltelefon   \n",
       "4        iPhone 13         19  302125 Ft    5740.677144  Mobiltelefon   \n",
       "...            ...        ...        ...            ...           ...   \n",
       "996    MacBook Air         16  683497 Ft   10936.635513        Laptop   \n",
       "997       iPad Pro         27  194959 Ft    5264.087986        Tablet   \n",
       "998    Sony Bravia         22  156264 Ft    3437.964286            TV   \n",
       "999        Védőtok         29   25664 Ft     744.281693    Kiegészítő   \n",
       "1000     iPhone 13         25  350000 Ft    8750.350025  Mobiltelefon   \n",
       "\n",
       "               Régió  Akció       Dátum           Termék és Kategória  \n",
       "0        Nyíregyháza   True  2025-04-27    Huawei P50, (Mobiltelefon)  \n",
       "1        Nyíregyháza   True  2025-06-24         MacBook Air, (Laptop)  \n",
       "2            Miskolc  False  2025-07-09          HP Spectre, (Laptop)  \n",
       "3           Budapest  False  2025-04-26  Oppo Find X5, (Mobiltelefon)  \n",
       "4          Kecskemét   True  2025-06-12     iPhone 13, (Mobiltelefon)  \n",
       "...              ...    ...         ...                           ...  \n",
       "996          Miskolc   True  2025-06-20         MacBook Air, (Laptop)  \n",
       "997   Székesfehérvár  False  2025-06-09            iPad Pro, (Tablet)  \n",
       "998   Székesfehérvár   True  2025-06-21             Sony Bravia, (TV)  \n",
       "999      Nyíregyháza  False  2025-06-21         Védőtok, (Kiegészítő)  \n",
       "1000        Budapest   True  2025-07-19     iPhone 13, (Mobiltelefon)  \n",
       "\n",
       "[1001 rows x 9 columns]"
      ]
     },
     "execution_count": 33,
     "metadata": {},
     "output_type": "execute_result"
    }
   ],
   "source": [
    "# nem oszlop, egész df\n",
    "# axis=1  paraméter\n",
    "def letrehoz(x):\n",
    "     return x[\"Termék\"] +\", (\"+  x[\"Kategória\"]+\")\"\n",
    "\n",
    "df[\"Termék és Kategória\"] = df.apply(letrehoz, axis=1)\n",
    "df"
   ]
  },
  {
   "cell_type": "code",
   "execution_count": null,
   "metadata": {
    "id": "E71OdfjfTCVc"
   },
   "outputs": [],
   "source": [
    "##Gyakorlás\n",
    "# 1. az első sortól lejátszás\n",
    "# 2. külön munkafüzet (https://colab.research.google.com/) kód átmásolása\n",
    "# 3. saját excel fájl feltöltés, az oszlopok átnevezése, tesztelés\n",
    "# Visszajelzés, kérdések\n",
    "\n",
    "\n"
   ]
  },
  {
   "cell_type": "markdown",
   "metadata": {
    "id": "OLAeyZxgl7q2"
   },
   "source": [
    "## Összefoglalás\n"
   ]
  },
  {
   "cell_type": "markdown",
   "metadata": {
    "id": "DcLFD4jjc2nF"
   },
   "source": [
    "# DataFrame kiírása Excel fájlba"
   ]
  },
  {
   "cell_type": "code",
   "execution_count": 36,
   "metadata": {
    "id": "7hbzmva3yzjW"
   },
   "outputs": [],
   "source": [
    "# index=False kikapcsolja a sorszámok mentését\n",
    "df.to_excel('output.xlsx', index=False)"
   ]
  },
  {
   "cell_type": "code",
   "execution_count": null,
   "metadata": {
    "id": "I6A1hpGYyzfe"
   },
   "outputs": [],
   "source": []
  },
  {
   "cell_type": "code",
   "execution_count": null,
   "metadata": {
    "id": "BDUELkMil-S9"
   },
   "outputs": [],
   "source": []
  }
 ],
 "metadata": {
  "colab": {
   "provenance": []
  },
  "kernelspec": {
   "display_name": "Python 3 (ipykernel)",
   "language": "python",
   "name": "python3"
  },
  "language_info": {
   "codemirror_mode": {
    "name": "ipython",
    "version": 3
   },
   "file_extension": ".py",
   "mimetype": "text/x-python",
   "name": "python",
   "nbconvert_exporter": "python",
   "pygments_lexer": "ipython3",
   "version": "3.13.5"
  }
 },
 "nbformat": 4,
 "nbformat_minor": 4
}

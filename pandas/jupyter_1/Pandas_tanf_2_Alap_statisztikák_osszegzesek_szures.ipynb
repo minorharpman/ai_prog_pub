{
 "cells": [
  {
   "cell_type": "markdown",
   "metadata": {
    "id": "9iy71NAWQ8xP"
   },
   "source": [
    "<img src=\"\n",
    "https://raw.githubusercontent.com/minorharpman/ai_prog_pub/main/pandas/szures_rendezes.png\n",
    "\" width=\"1000\">"
   ]
  },
  {
   "cell_type": "markdown",
   "metadata": {
    "id": "Qf4Z4aEu0Rkj"
   },
   "source": [
    "# Pandas: rendezés, szűrés,  számítások\n",
    "* következő (csoportosítások, df.groupby) részben is lesznek a számítások"
   ]
  },
  {
   "cell_type": "code",
   "execution_count": 19,
   "metadata": {
    "id": "ihjZ1DjBXR-x"
   },
   "outputs": [],
   "source": [
    "# Importáljuk a pandas könyvtárat, amit általában \"pd\" néven szokás rövidíteni.\n",
    "# A pandas egy Python könyvtár táblázatos (Excel-szerű) adatok kezelésére.\n",
    "import pandas as pd"
   ]
  },
  {
   "cell_type": "code",
   "execution_count": 20,
   "metadata": {
    "colab": {
     "base_uri": "https://localhost:8080/",
     "height": 230
    },
    "id": "OTNb5nd0XZ6y",
    "outputId": "a66cd239-7859-4eb1-f55b-86e0e927dd81"
   },
   "outputs": [
    {
     "data": {
      "text/html": [
       "<div>\n",
       "<style scoped>\n",
       "    .dataframe tbody tr th:only-of-type {\n",
       "        vertical-align: middle;\n",
       "    }\n",
       "\n",
       "    .dataframe tbody tr th {\n",
       "        vertical-align: top;\n",
       "    }\n",
       "\n",
       "    .dataframe thead th {\n",
       "        text-align: right;\n",
       "    }\n",
       "</style>\n",
       "<table border=\"1\" class=\"dataframe\">\n",
       "  <thead>\n",
       "    <tr style=\"text-align: right;\">\n",
       "      <th></th>\n",
       "      <th>Termék</th>\n",
       "      <th>Mennyiség</th>\n",
       "      <th>Ár</th>\n",
       "      <th>Bevétel (eFt)</th>\n",
       "      <th>Kategória</th>\n",
       "      <th>Régió</th>\n",
       "      <th>Akció</th>\n",
       "      <th>Dátum</th>\n",
       "    </tr>\n",
       "  </thead>\n",
       "  <tbody>\n",
       "    <tr>\n",
       "      <th>0</th>\n",
       "      <td>Samsung Galaxy Watch</td>\n",
       "      <td>29</td>\n",
       "      <td>31367</td>\n",
       "      <td>909.643</td>\n",
       "      <td>Kiegészítő</td>\n",
       "      <td>Székesfehérvár</td>\n",
       "      <td>False</td>\n",
       "      <td>2025-06-15</td>\n",
       "    </tr>\n",
       "    <tr>\n",
       "      <th>1</th>\n",
       "      <td>iPad Pro</td>\n",
       "      <td>14</td>\n",
       "      <td>118223</td>\n",
       "      <td>1655.122</td>\n",
       "      <td>Tablet</td>\n",
       "      <td>Székesfehérvár</td>\n",
       "      <td>True</td>\n",
       "      <td>2025-07-09</td>\n",
       "    </tr>\n",
       "    <tr>\n",
       "      <th>2</th>\n",
       "      <td>Oppo Find X5</td>\n",
       "      <td>10</td>\n",
       "      <td>176109</td>\n",
       "      <td>1761.090</td>\n",
       "      <td>Mobiltelefon</td>\n",
       "      <td>Szeged</td>\n",
       "      <td>False</td>\n",
       "      <td>2025-06-04</td>\n",
       "    </tr>\n",
       "  </tbody>\n",
       "</table>\n",
       "</div>"
      ],
      "text/plain": [
       "                 Termék  Mennyiség      Ár  Bevétel (eFt)     Kategória  \\\n",
       "0  Samsung Galaxy Watch         29   31367        909.643    Kiegészítő   \n",
       "1              iPad Pro         14  118223       1655.122        Tablet   \n",
       "2          Oppo Find X5         10  176109       1761.090  Mobiltelefon   \n",
       "\n",
       "            Régió  Akció       Dátum  \n",
       "0  Székesfehérvár  False  2025-06-15  \n",
       "1  Székesfehérvár   True  2025-07-09  \n",
       "2          Szeged  False  2025-06-04  "
      ]
     },
     "execution_count": 20,
     "metadata": {},
     "output_type": "execute_result"
    }
   ],
   "source": [
    "# Beolvasunk egy Excel fájlt DataFrame-be.\n",
    "# A pd.read_excel() függvény egy Excel fájlt olvas be és DataFrame-et ad vissza.\n",
    "# A DataFrame a pandas egyik legfontosabb adattípusa, egy táblázatszerű adatstruktúra.\n",
    "df = pd.read_excel(\"mobil_bob_shop.xlsx\")\n",
    "df.head(3)"
   ]
  },
  {
   "cell_type": "code",
   "execution_count": 21,
   "metadata": {
    "colab": {
     "base_uri": "https://localhost:8080/",
     "height": 250
    },
    "id": "3U277BmUXfRr",
    "outputId": "d9cfbcd5-25fa-4b29-e25f-3d9840e17d5b"
   },
   "outputs": [
    {
     "data": {
      "text/html": [
       "<div>\n",
       "<style scoped>\n",
       "    .dataframe tbody tr th:only-of-type {\n",
       "        vertical-align: middle;\n",
       "    }\n",
       "\n",
       "    .dataframe tbody tr th {\n",
       "        vertical-align: top;\n",
       "    }\n",
       "\n",
       "    .dataframe thead th {\n",
       "        text-align: right;\n",
       "    }\n",
       "</style>\n",
       "<table border=\"1\" class=\"dataframe\">\n",
       "  <thead>\n",
       "    <tr style=\"text-align: right;\">\n",
       "      <th></th>\n",
       "      <th>Termék</th>\n",
       "      <th>Mennyiség</th>\n",
       "      <th>Ár</th>\n",
       "      <th>Bevétel (eFt)</th>\n",
       "      <th>Kategória</th>\n",
       "      <th>Régió</th>\n",
       "      <th>Akció</th>\n",
       "      <th>Dátum</th>\n",
       "      <th>Bevétel</th>\n",
       "    </tr>\n",
       "  </thead>\n",
       "  <tbody>\n",
       "    <tr>\n",
       "      <th>0</th>\n",
       "      <td>Samsung Galaxy Watch</td>\n",
       "      <td>29</td>\n",
       "      <td>31367</td>\n",
       "      <td>909.643</td>\n",
       "      <td>Kiegészítő</td>\n",
       "      <td>Székesfehérvár</td>\n",
       "      <td>False</td>\n",
       "      <td>2025-06-15</td>\n",
       "      <td>909643</td>\n",
       "    </tr>\n",
       "    <tr>\n",
       "      <th>1</th>\n",
       "      <td>iPad Pro</td>\n",
       "      <td>14</td>\n",
       "      <td>118223</td>\n",
       "      <td>1655.122</td>\n",
       "      <td>Tablet</td>\n",
       "      <td>Székesfehérvár</td>\n",
       "      <td>True</td>\n",
       "      <td>2025-07-09</td>\n",
       "      <td>1655122</td>\n",
       "    </tr>\n",
       "    <tr>\n",
       "      <th>2</th>\n",
       "      <td>Oppo Find X5</td>\n",
       "      <td>10</td>\n",
       "      <td>176109</td>\n",
       "      <td>1761.090</td>\n",
       "      <td>Mobiltelefon</td>\n",
       "      <td>Szeged</td>\n",
       "      <td>False</td>\n",
       "      <td>2025-06-04</td>\n",
       "      <td>1761090</td>\n",
       "    </tr>\n",
       "  </tbody>\n",
       "</table>\n",
       "</div>"
      ],
      "text/plain": [
       "                 Termék  Mennyiség      Ár  Bevétel (eFt)     Kategória  \\\n",
       "0  Samsung Galaxy Watch         29   31367        909.643    Kiegészítő   \n",
       "1              iPad Pro         14  118223       1655.122        Tablet   \n",
       "2          Oppo Find X5         10  176109       1761.090  Mobiltelefon   \n",
       "\n",
       "            Régió  Akció       Dátum  Bevétel  \n",
       "0  Székesfehérvár  False  2025-06-15   909643  \n",
       "1  Székesfehérvár   True  2025-07-09  1655122  \n",
       "2          Szeged  False  2025-06-04  1761090  "
      ]
     },
     "execution_count": 21,
     "metadata": {},
     "output_type": "execute_result"
    }
   ],
   "source": [
    "# Értékesítési excel\n",
    "# Új oszlopot hozunk létre 'bevétel' néven.\n",
    "# A df['mennyiség'] és df['ár'] oszlopokat összeszorozzuk soronként.\n",
    "# Ez szintén egy pandas Series típusú objektum, amit új oszlopként tárolunk.\n",
    "df['Bevétel'] = df['Mennyiség'] * df['Ár']\n",
    "df.head(3)"
   ]
  },
  {
   "cell_type": "code",
   "execution_count": 22,
   "metadata": {
    "colab": {
     "base_uri": "https://localhost:8080/",
     "height": 178
    },
    "id": "3CsZq7k8LB0z",
    "outputId": "3303f5fe-8352-4ee9-8a7c-5a7cd6bdf6a2"
   },
   "outputs": [
    {
     "data": {
      "text/plain": [
       "0     909643\n",
       "1    1655122\n",
       "2    1761090\n",
       "Name: Bevétel, dtype: int64"
      ]
     },
     "execution_count": 22,
     "metadata": {},
     "output_type": "execute_result"
    }
   ],
   "source": [
    "## lekérdezés\n",
    "df['Bevétel'].head(3)"
   ]
  },
  {
   "cell_type": "code",
   "execution_count": 23,
   "metadata": {
    "colab": {
     "base_uri": "https://localhost:8080/"
    },
    "id": "-t-RFvvyX6oD",
    "outputId": "9ba9b8ff-5de7-45f2-b211-d84f924a55de"
   },
   "outputs": [
    {
     "data": {
      "text/plain": [
       "np.int64(6263550557)"
      ]
     },
     "execution_count": 23,
     "metadata": {},
     "output_type": "execute_result"
    }
   ],
   "source": [
    "# Összes árbevétel kiszámítása az egész táblázatra.\n",
    "# A sum() metódus itt a teljes 'bevétel' oszlop összegét adja vissza.\n",
    "teljes_bevetel = df['Bevétel'].sum()\n",
    "teljes_bevetel"
   ]
  },
  {
   "cell_type": "code",
   "execution_count": 24,
   "metadata": {
    "colab": {
     "base_uri": "https://localhost:8080/"
    },
    "id": "wg7r2DfsLn6V",
    "outputId": "6b5ca4ad-4664-4b6d-b2ff-e34032c53fae"
   },
   "outputs": [
    {
     "data": {
      "text/plain": [
       "numpy.int64"
      ]
     },
     "execution_count": 24,
     "metadata": {},
     "output_type": "execute_result"
    }
   ],
   "source": [
    "type(teljes_bevetel)"
   ]
  },
  {
   "cell_type": "code",
   "execution_count": 25,
   "metadata": {
    "colab": {
     "base_uri": "https://localhost:8080/",
     "height": 36
    },
    "id": "sfTjeEldV39j",
    "outputId": "b3e6a494-5501-4b8d-eda4-4aa4a52cab5b"
   },
   "outputs": [
    {
     "data": {
      "text/plain": [
       "'6,263,550,557 Ft'"
      ]
     },
     "execution_count": 25,
     "metadata": {},
     "output_type": "execute_result"
    }
   ],
   "source": [
    "#  f-string, formázott string ,  pl. egyszerűen lehet számokat olvashatóan tagolni\n",
    "# f\"{szam:,}\"\n",
    "formazott = f\"{teljes_bevetel:,} Ft\"\n",
    "formazott"
   ]
  },
  {
   "cell_type": "code",
   "execution_count": 26,
   "metadata": {
    "colab": {
     "base_uri": "https://localhost:8080/"
    },
    "id": "LHq0lYFu9uKV",
    "outputId": "7daccf73-2690-4296-a8c5-35aa8a5c04ce"
   },
   "outputs": [
    {
     "data": {
      "text/plain": [
       "str"
      ]
     },
     "execution_count": 26,
     "metadata": {},
     "output_type": "execute_result"
    }
   ],
   "source": [
    "type( formazott)"
   ]
  },
  {
   "cell_type": "markdown",
   "metadata": {
    "id": "jorVQgCPJne8"
   },
   "source": [
    "#Szűrés"
   ]
  },
  {
   "cell_type": "code",
   "execution_count": 27,
   "metadata": {
    "colab": {
     "base_uri": "https://localhost:8080/",
     "height": 669
    },
    "id": "cVAweuKkMBaY",
    "outputId": "a4badbb1-9997-4d95-c277-fc6e55a1bdce"
   },
   "outputs": [
    {
     "data": {
      "text/html": [
       "<div>\n",
       "<style scoped>\n",
       "    .dataframe tbody tr th:only-of-type {\n",
       "        vertical-align: middle;\n",
       "    }\n",
       "\n",
       "    .dataframe tbody tr th {\n",
       "        vertical-align: top;\n",
       "    }\n",
       "\n",
       "    .dataframe thead th {\n",
       "        text-align: right;\n",
       "    }\n",
       "</style>\n",
       "<table border=\"1\" class=\"dataframe\">\n",
       "  <thead>\n",
       "    <tr style=\"text-align: right;\">\n",
       "      <th></th>\n",
       "      <th>Termék</th>\n",
       "      <th>Mennyiség</th>\n",
       "      <th>Ár</th>\n",
       "      <th>Bevétel (eFt)</th>\n",
       "      <th>Kategória</th>\n",
       "      <th>Régió</th>\n",
       "      <th>Akció</th>\n",
       "      <th>Dátum</th>\n",
       "      <th>Bevétel</th>\n",
       "    </tr>\n",
       "  </thead>\n",
       "  <tbody>\n",
       "    <tr>\n",
       "      <th>0</th>\n",
       "      <td>Samsung Galaxy Watch</td>\n",
       "      <td>29</td>\n",
       "      <td>31367</td>\n",
       "      <td>909.643</td>\n",
       "      <td>Kiegészítő</td>\n",
       "      <td>Székesfehérvár</td>\n",
       "      <td>False</td>\n",
       "      <td>2025-06-15</td>\n",
       "      <td>909643</td>\n",
       "    </tr>\n",
       "    <tr>\n",
       "      <th>1</th>\n",
       "      <td>iPad Pro</td>\n",
       "      <td>14</td>\n",
       "      <td>118223</td>\n",
       "      <td>1655.122</td>\n",
       "      <td>Tablet</td>\n",
       "      <td>Székesfehérvár</td>\n",
       "      <td>True</td>\n",
       "      <td>2025-07-09</td>\n",
       "      <td>1655122</td>\n",
       "    </tr>\n",
       "    <tr>\n",
       "      <th>2</th>\n",
       "      <td>Oppo Find X5</td>\n",
       "      <td>10</td>\n",
       "      <td>176109</td>\n",
       "      <td>1761.090</td>\n",
       "      <td>Mobiltelefon</td>\n",
       "      <td>Szeged</td>\n",
       "      <td>False</td>\n",
       "      <td>2025-06-04</td>\n",
       "      <td>1761090</td>\n",
       "    </tr>\n",
       "    <tr>\n",
       "      <th>3</th>\n",
       "      <td>Panasonic TX</td>\n",
       "      <td>28</td>\n",
       "      <td>488628</td>\n",
       "      <td>13681.584</td>\n",
       "      <td>TV</td>\n",
       "      <td>Kecskemét</td>\n",
       "      <td>False</td>\n",
       "      <td>2025-05-29</td>\n",
       "      <td>13681584</td>\n",
       "    </tr>\n",
       "    <tr>\n",
       "      <th>4</th>\n",
       "      <td>Samsung QLED</td>\n",
       "      <td>20</td>\n",
       "      <td>748406</td>\n",
       "      <td>14968.120</td>\n",
       "      <td>TV</td>\n",
       "      <td>Győr</td>\n",
       "      <td>True</td>\n",
       "      <td>2025-06-07</td>\n",
       "      <td>14968120</td>\n",
       "    </tr>\n",
       "    <tr>\n",
       "      <th>...</th>\n",
       "      <td>...</td>\n",
       "      <td>...</td>\n",
       "      <td>...</td>\n",
       "      <td>...</td>\n",
       "      <td>...</td>\n",
       "      <td>...</td>\n",
       "      <td>...</td>\n",
       "      <td>...</td>\n",
       "      <td>...</td>\n",
       "    </tr>\n",
       "    <tr>\n",
       "      <th>995</th>\n",
       "      <td>Oppo Find X5</td>\n",
       "      <td>16</td>\n",
       "      <td>405636</td>\n",
       "      <td>6490.176</td>\n",
       "      <td>Mobiltelefon</td>\n",
       "      <td>Kecskemét</td>\n",
       "      <td>False</td>\n",
       "      <td>2025-04-15</td>\n",
       "      <td>6490176</td>\n",
       "    </tr>\n",
       "    <tr>\n",
       "      <th>996</th>\n",
       "      <td>MacBook Air</td>\n",
       "      <td>13</td>\n",
       "      <td>229292</td>\n",
       "      <td>2980.796</td>\n",
       "      <td>Laptop</td>\n",
       "      <td>Szeged</td>\n",
       "      <td>False</td>\n",
       "      <td>2025-04-30</td>\n",
       "      <td>2980796</td>\n",
       "    </tr>\n",
       "    <tr>\n",
       "      <th>997</th>\n",
       "      <td>Samsung Galaxy Tab S8</td>\n",
       "      <td>20</td>\n",
       "      <td>178929</td>\n",
       "      <td>3578.580</td>\n",
       "      <td>Tablet</td>\n",
       "      <td>Pécs</td>\n",
       "      <td>True</td>\n",
       "      <td>2025-07-11</td>\n",
       "      <td>3578580</td>\n",
       "    </tr>\n",
       "    <tr>\n",
       "      <th>998</th>\n",
       "      <td>Panasonic TX</td>\n",
       "      <td>17</td>\n",
       "      <td>178137</td>\n",
       "      <td>3028.329</td>\n",
       "      <td>TV</td>\n",
       "      <td>Pécs</td>\n",
       "      <td>False</td>\n",
       "      <td>2025-05-04</td>\n",
       "      <td>3028329</td>\n",
       "    </tr>\n",
       "    <tr>\n",
       "      <th>999</th>\n",
       "      <td>Dell XPS 13</td>\n",
       "      <td>23</td>\n",
       "      <td>316454</td>\n",
       "      <td>7278.442</td>\n",
       "      <td>Laptop</td>\n",
       "      <td>Győr</td>\n",
       "      <td>False</td>\n",
       "      <td>2025-05-25</td>\n",
       "      <td>7278442</td>\n",
       "    </tr>\n",
       "  </tbody>\n",
       "</table>\n",
       "<p>1000 rows × 9 columns</p>\n",
       "</div>"
      ],
      "text/plain": [
       "                    Termék  Mennyiség      Ár  Bevétel (eFt)     Kategória  \\\n",
       "0     Samsung Galaxy Watch         29   31367        909.643    Kiegészítő   \n",
       "1                 iPad Pro         14  118223       1655.122        Tablet   \n",
       "2             Oppo Find X5         10  176109       1761.090  Mobiltelefon   \n",
       "3             Panasonic TX         28  488628      13681.584            TV   \n",
       "4             Samsung QLED         20  748406      14968.120            TV   \n",
       "..                     ...        ...     ...            ...           ...   \n",
       "995           Oppo Find X5         16  405636       6490.176  Mobiltelefon   \n",
       "996            MacBook Air         13  229292       2980.796        Laptop   \n",
       "997  Samsung Galaxy Tab S8         20  178929       3578.580        Tablet   \n",
       "998           Panasonic TX         17  178137       3028.329            TV   \n",
       "999            Dell XPS 13         23  316454       7278.442        Laptop   \n",
       "\n",
       "              Régió  Akció       Dátum   Bevétel  \n",
       "0    Székesfehérvár  False  2025-06-15    909643  \n",
       "1    Székesfehérvár   True  2025-07-09   1655122  \n",
       "2            Szeged  False  2025-06-04   1761090  \n",
       "3         Kecskemét  False  2025-05-29  13681584  \n",
       "4              Győr   True  2025-06-07  14968120  \n",
       "..              ...    ...         ...       ...  \n",
       "995       Kecskemét  False  2025-04-15   6490176  \n",
       "996          Szeged  False  2025-04-30   2980796  \n",
       "997            Pécs   True  2025-07-11   3578580  \n",
       "998            Pécs  False  2025-05-04   3028329  \n",
       "999            Győr  False  2025-05-25   7278442  \n",
       "\n",
       "[1000 rows x 9 columns]"
      ]
     },
     "execution_count": 27,
     "metadata": {},
     "output_type": "execute_result"
    }
   ],
   "source": [
    "df"
   ]
  },
  {
   "cell_type": "code",
   "execution_count": 28,
   "metadata": {
    "colab": {
     "base_uri": "https://localhost:8080/",
     "height": 704
    },
    "id": "h_xiktuCLx_K",
    "outputId": "a98b939a-6dcb-4d88-881d-629a52b53da5"
   },
   "outputs": [
    {
     "data": {
      "text/html": [
       "<div>\n",
       "<style scoped>\n",
       "    .dataframe tbody tr th:only-of-type {\n",
       "        vertical-align: middle;\n",
       "    }\n",
       "\n",
       "    .dataframe tbody tr th {\n",
       "        vertical-align: top;\n",
       "    }\n",
       "\n",
       "    .dataframe thead th {\n",
       "        text-align: right;\n",
       "    }\n",
       "</style>\n",
       "<table border=\"1\" class=\"dataframe\">\n",
       "  <thead>\n",
       "    <tr style=\"text-align: right;\">\n",
       "      <th></th>\n",
       "      <th>Termék</th>\n",
       "      <th>Mennyiség</th>\n",
       "      <th>Ár</th>\n",
       "      <th>Bevétel (eFt)</th>\n",
       "      <th>Kategória</th>\n",
       "      <th>Régió</th>\n",
       "      <th>Akció</th>\n",
       "      <th>Dátum</th>\n",
       "      <th>Bevétel</th>\n",
       "    </tr>\n",
       "  </thead>\n",
       "  <tbody>\n",
       "    <tr>\n",
       "      <th>1</th>\n",
       "      <td>iPad Pro</td>\n",
       "      <td>14</td>\n",
       "      <td>118223</td>\n",
       "      <td>1655.122</td>\n",
       "      <td>Tablet</td>\n",
       "      <td>Székesfehérvár</td>\n",
       "      <td>True</td>\n",
       "      <td>2025-07-09</td>\n",
       "      <td>1655122</td>\n",
       "    </tr>\n",
       "    <tr>\n",
       "      <th>14</th>\n",
       "      <td>Lenovo Tab P11</td>\n",
       "      <td>25</td>\n",
       "      <td>311306</td>\n",
       "      <td>7782.650</td>\n",
       "      <td>Tablet</td>\n",
       "      <td>Debrecen</td>\n",
       "      <td>True</td>\n",
       "      <td>2025-05-16</td>\n",
       "      <td>7782650</td>\n",
       "    </tr>\n",
       "    <tr>\n",
       "      <th>21</th>\n",
       "      <td>iPad Pro</td>\n",
       "      <td>11</td>\n",
       "      <td>257640</td>\n",
       "      <td>2834.040</td>\n",
       "      <td>Tablet</td>\n",
       "      <td>Budapest</td>\n",
       "      <td>False</td>\n",
       "      <td>2025-05-26</td>\n",
       "      <td>2834040</td>\n",
       "    </tr>\n",
       "    <tr>\n",
       "      <th>22</th>\n",
       "      <td>Huawei MatePad</td>\n",
       "      <td>26</td>\n",
       "      <td>294029</td>\n",
       "      <td>7644.754</td>\n",
       "      <td>Tablet</td>\n",
       "      <td>Miskolc</td>\n",
       "      <td>False</td>\n",
       "      <td>2025-05-29</td>\n",
       "      <td>7644754</td>\n",
       "    </tr>\n",
       "    <tr>\n",
       "      <th>28</th>\n",
       "      <td>Huawei MatePad</td>\n",
       "      <td>20</td>\n",
       "      <td>218550</td>\n",
       "      <td>4371.000</td>\n",
       "      <td>Tablet</td>\n",
       "      <td>Szeged</td>\n",
       "      <td>True</td>\n",
       "      <td>2025-07-16</td>\n",
       "      <td>4371000</td>\n",
       "    </tr>\n",
       "    <tr>\n",
       "      <th>...</th>\n",
       "      <td>...</td>\n",
       "      <td>...</td>\n",
       "      <td>...</td>\n",
       "      <td>...</td>\n",
       "      <td>...</td>\n",
       "      <td>...</td>\n",
       "      <td>...</td>\n",
       "      <td>...</td>\n",
       "      <td>...</td>\n",
       "    </tr>\n",
       "    <tr>\n",
       "      <th>966</th>\n",
       "      <td>iPad Pro</td>\n",
       "      <td>29</td>\n",
       "      <td>190426</td>\n",
       "      <td>5522.354</td>\n",
       "      <td>Tablet</td>\n",
       "      <td>Győr</td>\n",
       "      <td>True</td>\n",
       "      <td>2025-07-05</td>\n",
       "      <td>5522354</td>\n",
       "    </tr>\n",
       "    <tr>\n",
       "      <th>974</th>\n",
       "      <td>Samsung Galaxy Tab S8</td>\n",
       "      <td>21</td>\n",
       "      <td>210632</td>\n",
       "      <td>4423.272</td>\n",
       "      <td>Tablet</td>\n",
       "      <td>Szeged</td>\n",
       "      <td>True</td>\n",
       "      <td>2025-07-18</td>\n",
       "      <td>4423272</td>\n",
       "    </tr>\n",
       "    <tr>\n",
       "      <th>984</th>\n",
       "      <td>Samsung Galaxy Tab S8</td>\n",
       "      <td>19</td>\n",
       "      <td>102386</td>\n",
       "      <td>1945.334</td>\n",
       "      <td>Tablet</td>\n",
       "      <td>Miskolc</td>\n",
       "      <td>False</td>\n",
       "      <td>2025-04-17</td>\n",
       "      <td>1945334</td>\n",
       "    </tr>\n",
       "    <tr>\n",
       "      <th>989</th>\n",
       "      <td>Samsung Galaxy Tab S8</td>\n",
       "      <td>15</td>\n",
       "      <td>398295</td>\n",
       "      <td>5974.425</td>\n",
       "      <td>Tablet</td>\n",
       "      <td>Debrecen</td>\n",
       "      <td>False</td>\n",
       "      <td>2025-06-29</td>\n",
       "      <td>5974425</td>\n",
       "    </tr>\n",
       "    <tr>\n",
       "      <th>997</th>\n",
       "      <td>Samsung Galaxy Tab S8</td>\n",
       "      <td>20</td>\n",
       "      <td>178929</td>\n",
       "      <td>3578.580</td>\n",
       "      <td>Tablet</td>\n",
       "      <td>Pécs</td>\n",
       "      <td>True</td>\n",
       "      <td>2025-07-11</td>\n",
       "      <td>3578580</td>\n",
       "    </tr>\n",
       "  </tbody>\n",
       "</table>\n",
       "<p>202 rows × 9 columns</p>\n",
       "</div>"
      ],
      "text/plain": [
       "                    Termék  Mennyiség      Ár  Bevétel (eFt) Kategória  \\\n",
       "1                 iPad Pro         14  118223       1655.122    Tablet   \n",
       "14          Lenovo Tab P11         25  311306       7782.650    Tablet   \n",
       "21                iPad Pro         11  257640       2834.040    Tablet   \n",
       "22          Huawei MatePad         26  294029       7644.754    Tablet   \n",
       "28          Huawei MatePad         20  218550       4371.000    Tablet   \n",
       "..                     ...        ...     ...            ...       ...   \n",
       "966               iPad Pro         29  190426       5522.354    Tablet   \n",
       "974  Samsung Galaxy Tab S8         21  210632       4423.272    Tablet   \n",
       "984  Samsung Galaxy Tab S8         19  102386       1945.334    Tablet   \n",
       "989  Samsung Galaxy Tab S8         15  398295       5974.425    Tablet   \n",
       "997  Samsung Galaxy Tab S8         20  178929       3578.580    Tablet   \n",
       "\n",
       "              Régió  Akció       Dátum  Bevétel  \n",
       "1    Székesfehérvár   True  2025-07-09  1655122  \n",
       "14         Debrecen   True  2025-05-16  7782650  \n",
       "21         Budapest  False  2025-05-26  2834040  \n",
       "22          Miskolc  False  2025-05-29  7644754  \n",
       "28           Szeged   True  2025-07-16  4371000  \n",
       "..              ...    ...         ...      ...  \n",
       "966            Győr   True  2025-07-05  5522354  \n",
       "974          Szeged   True  2025-07-18  4423272  \n",
       "984         Miskolc  False  2025-04-17  1945334  \n",
       "989        Debrecen  False  2025-06-29  5974425  \n",
       "997            Pécs   True  2025-07-11  3578580  \n",
       "\n",
       "[202 rows x 9 columns]"
      ]
     },
     "execution_count": 28,
     "metadata": {},
     "output_type": "execute_result"
    }
   ],
   "source": [
    "##Szűrés\n",
    "df[ df['Kategória'] == 'Tablet']"
   ]
  },
  {
   "cell_type": "markdown",
   "metadata": {
    "id": "Dda4nX4l5kzz"
   },
   "source": [
    "#Rendezés"
   ]
  },
  {
   "cell_type": "code",
   "execution_count": 29,
   "metadata": {
    "colab": {
     "base_uri": "https://localhost:8080/",
     "height": 652
    },
    "id": "ZZ3pSFMY5VUR",
    "outputId": "b89a1d7c-b4cd-449a-ffd2-44e594ca128f"
   },
   "outputs": [
    {
     "data": {
      "text/html": [
       "<div>\n",
       "<style scoped>\n",
       "    .dataframe tbody tr th:only-of-type {\n",
       "        vertical-align: middle;\n",
       "    }\n",
       "\n",
       "    .dataframe tbody tr th {\n",
       "        vertical-align: top;\n",
       "    }\n",
       "\n",
       "    .dataframe thead th {\n",
       "        text-align: right;\n",
       "    }\n",
       "</style>\n",
       "<table border=\"1\" class=\"dataframe\">\n",
       "  <thead>\n",
       "    <tr style=\"text-align: right;\">\n",
       "      <th></th>\n",
       "      <th>Termék</th>\n",
       "      <th>Mennyiség</th>\n",
       "      <th>Ár</th>\n",
       "      <th>Bevétel (eFt)</th>\n",
       "      <th>Kategória</th>\n",
       "      <th>Régió</th>\n",
       "      <th>Akció</th>\n",
       "      <th>Dátum</th>\n",
       "      <th>Bevétel</th>\n",
       "    </tr>\n",
       "  </thead>\n",
       "  <tbody>\n",
       "    <tr>\n",
       "      <th>700</th>\n",
       "      <td>Samsung QLED</td>\n",
       "      <td>14</td>\n",
       "      <td>778366</td>\n",
       "      <td>10897.124</td>\n",
       "      <td>TV</td>\n",
       "      <td>Pécs</td>\n",
       "      <td>True</td>\n",
       "      <td>2025-05-03</td>\n",
       "      <td>10897124</td>\n",
       "    </tr>\n",
       "    <tr>\n",
       "      <th>269</th>\n",
       "      <td>LG OLED</td>\n",
       "      <td>15</td>\n",
       "      <td>776944</td>\n",
       "      <td>11654.160</td>\n",
       "      <td>TV</td>\n",
       "      <td>Debrecen</td>\n",
       "      <td>True</td>\n",
       "      <td>2025-05-02</td>\n",
       "      <td>11654160</td>\n",
       "    </tr>\n",
       "    <tr>\n",
       "      <th>801</th>\n",
       "      <td>Sony Bravia</td>\n",
       "      <td>22</td>\n",
       "      <td>772805</td>\n",
       "      <td>17001.710</td>\n",
       "      <td>TV</td>\n",
       "      <td>Győr</td>\n",
       "      <td>False</td>\n",
       "      <td>2025-04-25</td>\n",
       "      <td>17001710</td>\n",
       "    </tr>\n",
       "    <tr>\n",
       "      <th>31</th>\n",
       "      <td>Philips Ambilight</td>\n",
       "      <td>11</td>\n",
       "      <td>772776</td>\n",
       "      <td>8500.536</td>\n",
       "      <td>TV</td>\n",
       "      <td>Pécs</td>\n",
       "      <td>False</td>\n",
       "      <td>2025-04-22</td>\n",
       "      <td>8500536</td>\n",
       "    </tr>\n",
       "    <tr>\n",
       "      <th>895</th>\n",
       "      <td>LG OLED</td>\n",
       "      <td>22</td>\n",
       "      <td>769248</td>\n",
       "      <td>16923.456</td>\n",
       "      <td>TV</td>\n",
       "      <td>Kecskemét</td>\n",
       "      <td>False</td>\n",
       "      <td>2025-05-27</td>\n",
       "      <td>16923456</td>\n",
       "    </tr>\n",
       "    <tr>\n",
       "      <th>...</th>\n",
       "      <td>...</td>\n",
       "      <td>...</td>\n",
       "      <td>...</td>\n",
       "      <td>...</td>\n",
       "      <td>...</td>\n",
       "      <td>...</td>\n",
       "      <td>...</td>\n",
       "      <td>...</td>\n",
       "      <td>...</td>\n",
       "    </tr>\n",
       "    <tr>\n",
       "      <th>301</th>\n",
       "      <td>Powerbank</td>\n",
       "      <td>24</td>\n",
       "      <td>6730</td>\n",
       "      <td>161.520</td>\n",
       "      <td>Kiegészítő</td>\n",
       "      <td>Nyíregyháza</td>\n",
       "      <td>True</td>\n",
       "      <td>2025-05-14</td>\n",
       "      <td>161520</td>\n",
       "    </tr>\n",
       "    <tr>\n",
       "      <th>531</th>\n",
       "      <td>Vezeték nélküli töltő</td>\n",
       "      <td>34</td>\n",
       "      <td>6554</td>\n",
       "      <td>222.836</td>\n",
       "      <td>Kiegészítő</td>\n",
       "      <td>Szeged</td>\n",
       "      <td>True</td>\n",
       "      <td>2025-04-11</td>\n",
       "      <td>222836</td>\n",
       "    </tr>\n",
       "    <tr>\n",
       "      <th>931</th>\n",
       "      <td>Vezeték nélküli töltő</td>\n",
       "      <td>37</td>\n",
       "      <td>6450</td>\n",
       "      <td>238.650</td>\n",
       "      <td>Kiegészítő</td>\n",
       "      <td>Székesfehérvár</td>\n",
       "      <td>True</td>\n",
       "      <td>2025-05-13</td>\n",
       "      <td>238650</td>\n",
       "    </tr>\n",
       "    <tr>\n",
       "      <th>240</th>\n",
       "      <td>Samsung Galaxy Watch</td>\n",
       "      <td>22</td>\n",
       "      <td>6338</td>\n",
       "      <td>139.436</td>\n",
       "      <td>Kiegészítő</td>\n",
       "      <td>Miskolc</td>\n",
       "      <td>False</td>\n",
       "      <td>2025-05-02</td>\n",
       "      <td>139436</td>\n",
       "    </tr>\n",
       "    <tr>\n",
       "      <th>680</th>\n",
       "      <td>Vezeték nélküli töltő</td>\n",
       "      <td>32</td>\n",
       "      <td>5786</td>\n",
       "      <td>185.152</td>\n",
       "      <td>Kiegészítő</td>\n",
       "      <td>Miskolc</td>\n",
       "      <td>True</td>\n",
       "      <td>2025-05-16</td>\n",
       "      <td>185152</td>\n",
       "    </tr>\n",
       "  </tbody>\n",
       "</table>\n",
       "<p>1000 rows × 9 columns</p>\n",
       "</div>"
      ],
      "text/plain": [
       "                    Termék  Mennyiség      Ár  Bevétel (eFt)   Kategória  \\\n",
       "700           Samsung QLED         14  778366      10897.124          TV   \n",
       "269                LG OLED         15  776944      11654.160          TV   \n",
       "801            Sony Bravia         22  772805      17001.710          TV   \n",
       "31       Philips Ambilight         11  772776       8500.536          TV   \n",
       "895                LG OLED         22  769248      16923.456          TV   \n",
       "..                     ...        ...     ...            ...         ...   \n",
       "301              Powerbank         24    6730        161.520  Kiegészítő   \n",
       "531  Vezeték nélküli töltő         34    6554        222.836  Kiegészítő   \n",
       "931  Vezeték nélküli töltő         37    6450        238.650  Kiegészítő   \n",
       "240   Samsung Galaxy Watch         22    6338        139.436  Kiegészítő   \n",
       "680  Vezeték nélküli töltő         32    5786        185.152  Kiegészítő   \n",
       "\n",
       "              Régió  Akció       Dátum   Bevétel  \n",
       "700            Pécs   True  2025-05-03  10897124  \n",
       "269        Debrecen   True  2025-05-02  11654160  \n",
       "801            Győr  False  2025-04-25  17001710  \n",
       "31             Pécs  False  2025-04-22   8500536  \n",
       "895       Kecskemét  False  2025-05-27  16923456  \n",
       "..              ...    ...         ...       ...  \n",
       "301     Nyíregyháza   True  2025-05-14    161520  \n",
       "531          Szeged   True  2025-04-11    222836  \n",
       "931  Székesfehérvár   True  2025-05-13    238650  \n",
       "240         Miskolc  False  2025-05-02    139436  \n",
       "680         Miskolc   True  2025-05-16    185152  \n",
       "\n",
       "[1000 rows x 9 columns]"
      ]
     },
     "execution_count": 29,
     "metadata": {},
     "output_type": "execute_result"
    }
   ],
   "source": [
    "df.sort_values(by='Ár', ascending=False)"
   ]
  },
  {
   "cell_type": "markdown",
   "metadata": {
    "id": "V3bFi1dp618k"
   },
   "source": [
    "#Szűrés, néhány oszlop megtartása"
   ]
  },
  {
   "cell_type": "code",
   "execution_count": 30,
   "metadata": {
    "colab": {
     "base_uri": "https://localhost:8080/",
     "height": 143
    },
    "id": "O3sBokKD58Fx",
    "outputId": "7bd2b456-384c-4819-8d0f-1843b471a695"
   },
   "outputs": [
    {
     "data": {
      "text/html": [
       "<div>\n",
       "<style scoped>\n",
       "    .dataframe tbody tr th:only-of-type {\n",
       "        vertical-align: middle;\n",
       "    }\n",
       "\n",
       "    .dataframe tbody tr th {\n",
       "        vertical-align: top;\n",
       "    }\n",
       "\n",
       "    .dataframe thead th {\n",
       "        text-align: right;\n",
       "    }\n",
       "</style>\n",
       "<table border=\"1\" class=\"dataframe\">\n",
       "  <thead>\n",
       "    <tr style=\"text-align: right;\">\n",
       "      <th></th>\n",
       "      <th>Termék</th>\n",
       "      <th>Ár</th>\n",
       "      <th>Bevétel</th>\n",
       "    </tr>\n",
       "  </thead>\n",
       "  <tbody>\n",
       "    <tr>\n",
       "      <th>5</th>\n",
       "      <td>HP Spectre</td>\n",
       "      <td>599643</td>\n",
       "      <td>7195716</td>\n",
       "    </tr>\n",
       "    <tr>\n",
       "      <th>13</th>\n",
       "      <td>Dell XPS 13</td>\n",
       "      <td>505796</td>\n",
       "      <td>9104328</td>\n",
       "    </tr>\n",
       "    <tr>\n",
       "      <th>16</th>\n",
       "      <td>Dell XPS 13</td>\n",
       "      <td>622220</td>\n",
       "      <td>17422160</td>\n",
       "    </tr>\n",
       "  </tbody>\n",
       "</table>\n",
       "</div>"
      ],
      "text/plain": [
       "         Termék      Ár   Bevétel\n",
       "5    HP Spectre  599643   7195716\n",
       "13  Dell XPS 13  505796   9104328\n",
       "16  Dell XPS 13  622220  17422160"
      ]
     },
     "execution_count": 30,
     "metadata": {},
     "output_type": "execute_result"
    }
   ],
   "source": [
    " laptop_df = df[ df['Kategória'] == 'Laptop' ]\n",
    " laptop_df = laptop_df[ ['Termék','Ár', 'Bevétel'] ]\n",
    " laptop_df.head(3)"
   ]
  },
  {
   "cell_type": "code",
   "execution_count": 31,
   "metadata": {
    "colab": {
     "base_uri": "https://localhost:8080/",
     "height": 423
    },
    "id": "OxlWQ7vlMzSc",
    "outputId": "8f030b6d-ab66-4b42-975a-6aca1f064eab"
   },
   "outputs": [
    {
     "data": {
      "text/html": [
       "<div>\n",
       "<style scoped>\n",
       "    .dataframe tbody tr th:only-of-type {\n",
       "        vertical-align: middle;\n",
       "    }\n",
       "\n",
       "    .dataframe tbody tr th {\n",
       "        vertical-align: top;\n",
       "    }\n",
       "\n",
       "    .dataframe thead th {\n",
       "        text-align: right;\n",
       "    }\n",
       "</style>\n",
       "<table border=\"1\" class=\"dataframe\">\n",
       "  <thead>\n",
       "    <tr style=\"text-align: right;\">\n",
       "      <th></th>\n",
       "      <th>Termék</th>\n",
       "      <th>Ár</th>\n",
       "      <th>Bevétel</th>\n",
       "    </tr>\n",
       "  </thead>\n",
       "  <tbody>\n",
       "    <tr>\n",
       "      <th>342</th>\n",
       "      <td>Asus ZenBook</td>\n",
       "      <td>698094</td>\n",
       "      <td>10471410</td>\n",
       "    </tr>\n",
       "    <tr>\n",
       "      <th>106</th>\n",
       "      <td>Lenovo ThinkPad</td>\n",
       "      <td>696578</td>\n",
       "      <td>11145248</td>\n",
       "    </tr>\n",
       "    <tr>\n",
       "      <th>679</th>\n",
       "      <td>Dell XPS 13</td>\n",
       "      <td>696159</td>\n",
       "      <td>17403975</td>\n",
       "    </tr>\n",
       "    <tr>\n",
       "      <th>992</th>\n",
       "      <td>Dell XPS 13</td>\n",
       "      <td>691629</td>\n",
       "      <td>20748870</td>\n",
       "    </tr>\n",
       "    <tr>\n",
       "      <th>545</th>\n",
       "      <td>Lenovo ThinkPad</td>\n",
       "      <td>687005</td>\n",
       "      <td>18549135</td>\n",
       "    </tr>\n",
       "    <tr>\n",
       "      <th>...</th>\n",
       "      <td>...</td>\n",
       "      <td>...</td>\n",
       "      <td>...</td>\n",
       "    </tr>\n",
       "    <tr>\n",
       "      <th>635</th>\n",
       "      <td>Lenovo ThinkPad</td>\n",
       "      <td>210999</td>\n",
       "      <td>2109990</td>\n",
       "    </tr>\n",
       "    <tr>\n",
       "      <th>871</th>\n",
       "      <td>Dell XPS 13</td>\n",
       "      <td>206184</td>\n",
       "      <td>3917496</td>\n",
       "    </tr>\n",
       "    <tr>\n",
       "      <th>532</th>\n",
       "      <td>MacBook Air</td>\n",
       "      <td>205626</td>\n",
       "      <td>2261886</td>\n",
       "    </tr>\n",
       "    <tr>\n",
       "      <th>209</th>\n",
       "      <td>MacBook Air</td>\n",
       "      <td>203725</td>\n",
       "      <td>3870775</td>\n",
       "    </tr>\n",
       "    <tr>\n",
       "      <th>624</th>\n",
       "      <td>HP Spectre</td>\n",
       "      <td>201035</td>\n",
       "      <td>3015525</td>\n",
       "    </tr>\n",
       "  </tbody>\n",
       "</table>\n",
       "<p>209 rows × 3 columns</p>\n",
       "</div>"
      ],
      "text/plain": [
       "              Termék      Ár   Bevétel\n",
       "342     Asus ZenBook  698094  10471410\n",
       "106  Lenovo ThinkPad  696578  11145248\n",
       "679      Dell XPS 13  696159  17403975\n",
       "992      Dell XPS 13  691629  20748870\n",
       "545  Lenovo ThinkPad  687005  18549135\n",
       "..               ...     ...       ...\n",
       "635  Lenovo ThinkPad  210999   2109990\n",
       "871      Dell XPS 13  206184   3917496\n",
       "532      MacBook Air  205626   2261886\n",
       "209      MacBook Air  203725   3870775\n",
       "624       HP Spectre  201035   3015525\n",
       "\n",
       "[209 rows x 3 columns]"
      ]
     },
     "execution_count": 31,
     "metadata": {},
     "output_type": "execute_result"
    }
   ],
   "source": [
    " laptop_df.sort_values(by='Ár', ascending=False)"
   ]
  },
  {
   "cell_type": "markdown",
   "metadata": {},
   "source": [
    "# Matplotlib telepítése"
   ]
  },
  {
   "cell_type": "code",
   "execution_count": 32,
   "metadata": {},
   "outputs": [
    {
     "name": "stdout",
     "output_type": "stream",
     "text": [
      "Requirement already satisfied: matplotlib in c:\\users\\zsx\\appdata\\local\\programs\\python\\python313\\lib\\site-packages (3.10.5)\n",
      "Requirement already satisfied: contourpy>=1.0.1 in c:\\users\\zsx\\appdata\\local\\programs\\python\\python313\\lib\\site-packages (from matplotlib) (1.3.3)\n",
      "Requirement already satisfied: cycler>=0.10 in c:\\users\\zsx\\appdata\\local\\programs\\python\\python313\\lib\\site-packages (from matplotlib) (0.12.1)\n",
      "Requirement already satisfied: fonttools>=4.22.0 in c:\\users\\zsx\\appdata\\local\\programs\\python\\python313\\lib\\site-packages (from matplotlib) (4.59.0)\n",
      "Requirement already satisfied: kiwisolver>=1.3.1 in c:\\users\\zsx\\appdata\\local\\programs\\python\\python313\\lib\\site-packages (from matplotlib) (1.4.8)\n",
      "Requirement already satisfied: numpy>=1.23 in c:\\users\\zsx\\appdata\\local\\programs\\python\\python313\\lib\\site-packages (from matplotlib) (2.3.2)\n",
      "Requirement already satisfied: packaging>=20.0 in c:\\users\\zsx\\appdata\\local\\programs\\python\\python313\\lib\\site-packages (from matplotlib) (25.0)\n",
      "Requirement already satisfied: pillow>=8 in c:\\users\\zsx\\appdata\\local\\programs\\python\\python313\\lib\\site-packages (from matplotlib) (11.3.0)\n",
      "Requirement already satisfied: pyparsing>=2.3.1 in c:\\users\\zsx\\appdata\\local\\programs\\python\\python313\\lib\\site-packages (from matplotlib) (3.2.3)\n",
      "Requirement already satisfied: python-dateutil>=2.7 in c:\\users\\zsx\\appdata\\local\\programs\\python\\python313\\lib\\site-packages (from matplotlib) (2.9.0.post0)\n",
      "Requirement already satisfied: six>=1.5 in c:\\users\\zsx\\appdata\\local\\programs\\python\\python313\\lib\\site-packages (from python-dateutil>=2.7->matplotlib) (1.17.0)\n"
     ]
    },
    {
     "name": "stderr",
     "output_type": "stream",
     "text": [
      "\n",
      "[notice] A new release of pip is available: 25.1.1 -> 25.2\n",
      "[notice] To update, run: python.exe -m pip install --upgrade pip\n"
     ]
    }
   ],
   "source": [
    "#!pip install matplotlib"
   ]
  },
  {
   "cell_type": "markdown",
   "metadata": {
    "id": "DpBx9Mor_4_z"
   },
   "source": [
    "* Ábrázolásról külön fejezet\n",
    "*  scatter plot (szórásdiagram) két numerikus változó összefüggését mutatja."
   ]
  },
  {
   "cell_type": "code",
   "execution_count": 33,
   "metadata": {
    "colab": {
     "base_uri": "https://localhost:8080/",
     "height": 447
    },
    "id": "DXZGSfKc-ENA",
    "outputId": "4b43ffc4-3e6a-4ec3-9824-9f7c04ddec93"
   },
   "outputs": [
    {
     "data": {
      "text/plain": [
       "<matplotlib.collections.PathCollection at 0x164dd3f6f90>"
      ]
     },
     "execution_count": 33,
     "metadata": {},
     "output_type": "execute_result"
    },
    {
     "data": {
      "image/png": "[encoded data removed]",
      "text/plain": [
       "<Figure size 640x480 with 1 Axes>"
      ]
     },
     "metadata": {},
     "output_type": "display_data"
    }
   ],
   "source": [
    "import matplotlib.pyplot as plt\n",
    "x =  laptop_df['Termék']\n",
    "y =  laptop_df['Ár']\n",
    "plt.scatter(x, y)"
   ]
  },
  {
   "cell_type": "markdown",
   "metadata": {
    "id": "sLrAYsuDs11Q"
   },
   "source": [
    "# Számítás, szöveg formázása"
   ]
  },
  {
   "cell_type": "code",
   "execution_count": 34,
   "metadata": {
    "colab": {
     "base_uri": "https://localhost:8080/",
     "height": 250
    },
    "id": "odxCvR_ONcci",
    "outputId": "331f29a2-344b-43c4-f40b-3b833edb7376"
   },
   "outputs": [
    {
     "data": {
      "text/html": [
       "<div>\n",
       "<style scoped>\n",
       "    .dataframe tbody tr th:only-of-type {\n",
       "        vertical-align: middle;\n",
       "    }\n",
       "\n",
       "    .dataframe tbody tr th {\n",
       "        vertical-align: top;\n",
       "    }\n",
       "\n",
       "    .dataframe thead th {\n",
       "        text-align: right;\n",
       "    }\n",
       "</style>\n",
       "<table border=\"1\" class=\"dataframe\">\n",
       "  <thead>\n",
       "    <tr style=\"text-align: right;\">\n",
       "      <th></th>\n",
       "      <th>Termék</th>\n",
       "      <th>Mennyiség</th>\n",
       "      <th>Ár</th>\n",
       "      <th>Bevétel (eFt)</th>\n",
       "      <th>Kategória</th>\n",
       "      <th>Régió</th>\n",
       "      <th>Akció</th>\n",
       "      <th>Dátum</th>\n",
       "      <th>Bevétel</th>\n",
       "    </tr>\n",
       "  </thead>\n",
       "  <tbody>\n",
       "    <tr>\n",
       "      <th>0</th>\n",
       "      <td>Samsung Galaxy Watch</td>\n",
       "      <td>29</td>\n",
       "      <td>31367</td>\n",
       "      <td>909.643</td>\n",
       "      <td>Kiegészítő</td>\n",
       "      <td>Székesfehérvár</td>\n",
       "      <td>False</td>\n",
       "      <td>2025-06-15</td>\n",
       "      <td>909643</td>\n",
       "    </tr>\n",
       "    <tr>\n",
       "      <th>1</th>\n",
       "      <td>iPad Pro</td>\n",
       "      <td>14</td>\n",
       "      <td>118223</td>\n",
       "      <td>1655.122</td>\n",
       "      <td>Tablet</td>\n",
       "      <td>Székesfehérvár</td>\n",
       "      <td>True</td>\n",
       "      <td>2025-07-09</td>\n",
       "      <td>1655122</td>\n",
       "    </tr>\n",
       "    <tr>\n",
       "      <th>2</th>\n",
       "      <td>Oppo Find X5</td>\n",
       "      <td>10</td>\n",
       "      <td>176109</td>\n",
       "      <td>1761.090</td>\n",
       "      <td>Mobiltelefon</td>\n",
       "      <td>Szeged</td>\n",
       "      <td>False</td>\n",
       "      <td>2025-06-04</td>\n",
       "      <td>1761090</td>\n",
       "    </tr>\n",
       "  </tbody>\n",
       "</table>\n",
       "</div>"
      ],
      "text/plain": [
       "                 Termék  Mennyiség      Ár  Bevétel (eFt)     Kategória  \\\n",
       "0  Samsung Galaxy Watch         29   31367        909.643    Kiegészítő   \n",
       "1              iPad Pro         14  118223       1655.122        Tablet   \n",
       "2          Oppo Find X5         10  176109       1761.090  Mobiltelefon   \n",
       "\n",
       "            Régió  Akció       Dátum  Bevétel  \n",
       "0  Székesfehérvár  False  2025-06-15   909643  \n",
       "1  Székesfehérvár   True  2025-07-09  1655122  \n",
       "2          Szeged  False  2025-06-04  1761090  "
      ]
     },
     "execution_count": 34,
     "metadata": {},
     "output_type": "execute_result"
    }
   ],
   "source": [
    "df.head(3)"
   ]
  },
  {
   "cell_type": "code",
   "execution_count": 35,
   "metadata": {
    "colab": {
     "base_uri": "https://localhost:8080/",
     "height": 178
    },
    "id": "5p-hHf84Nlew",
    "outputId": "57365632-eb56-41ca-885e-67dd5573aa4f"
   },
   "outputs": [
    {
     "data": {
      "text/plain": [
       "5      7195716\n",
       "13     9104328\n",
       "16    17422160\n",
       "Name: Bevétel, dtype: int64"
      ]
     },
     "execution_count": 35,
     "metadata": {},
     "output_type": "execute_result"
    }
   ],
   "source": [
    "laptop_bevetel = df[ df['Kategória'] == 'Laptop']['Bevétel']\n",
    "laptop_bevetel.head(3)"
   ]
  },
  {
   "cell_type": "markdown",
   "metadata": {
    "id": "8S14S4FsNnql"
   },
   "source": []
  },
  {
   "cell_type": "code",
   "execution_count": 36,
   "metadata": {
    "colab": {
     "base_uri": "https://localhost:8080/"
    },
    "id": "gynj02VxVdJd",
    "outputId": "e4eb4393-ae29-4698-90e5-df1379f26571"
   },
   "outputs": [
    {
     "data": {
      "text/plain": [
       "np.int64(1836413286)"
      ]
     },
     "execution_count": 36,
     "metadata": {},
     "output_type": "execute_result"
    }
   ],
   "source": [
    "laptop_bevetel = df[ df['Kategória'] == 'Laptop']['Bevétel'].sum()\n",
    "laptop_bevetel"
   ]
  },
  {
   "cell_type": "code",
   "execution_count": 37,
   "metadata": {
    "colab": {
     "base_uri": "https://localhost:8080/",
     "height": 36
    },
    "id": "n3Bz--A7XOhE",
    "outputId": "2a254f09-bf7a-487c-eb01-401f1b4336c4"
   },
   "outputs": [
    {
     "data": {
      "text/plain": [
       "'1.836.413.286 Ft'"
      ]
     },
     "execution_count": 37,
     "metadata": {},
     "output_type": "execute_result"
    }
   ],
   "source": [
    "formazott = f\"{laptop_bevetel:,} Ft\".replace(\",\", \".\")\n",
    "formazott"
   ]
  },
  {
   "cell_type": "markdown",
   "metadata": {
    "id": "PcT6gvRRBgbZ"
   },
   "source": [
    "# Szűrés"
   ]
  },
  {
   "cell_type": "code",
   "execution_count": 38,
   "metadata": {
    "colab": {
     "base_uri": "https://localhost:8080/",
     "height": 250
    },
    "id": "8_ZSjqsCOBjk",
    "outputId": "2e836e1c-d092-4cb3-a25a-366690de7d02"
   },
   "outputs": [
    {
     "data": {
      "text/html": [
       "<div>\n",
       "<style scoped>\n",
       "    .dataframe tbody tr th:only-of-type {\n",
       "        vertical-align: middle;\n",
       "    }\n",
       "\n",
       "    .dataframe tbody tr th {\n",
       "        vertical-align: top;\n",
       "    }\n",
       "\n",
       "    .dataframe thead th {\n",
       "        text-align: right;\n",
       "    }\n",
       "</style>\n",
       "<table border=\"1\" class=\"dataframe\">\n",
       "  <thead>\n",
       "    <tr style=\"text-align: right;\">\n",
       "      <th></th>\n",
       "      <th>Termék</th>\n",
       "      <th>Mennyiség</th>\n",
       "      <th>Ár</th>\n",
       "      <th>Bevétel (eFt)</th>\n",
       "      <th>Kategória</th>\n",
       "      <th>Régió</th>\n",
       "      <th>Akció</th>\n",
       "      <th>Dátum</th>\n",
       "      <th>Bevétel</th>\n",
       "    </tr>\n",
       "  </thead>\n",
       "  <tbody>\n",
       "    <tr>\n",
       "      <th>0</th>\n",
       "      <td>Samsung Galaxy Watch</td>\n",
       "      <td>29</td>\n",
       "      <td>31367</td>\n",
       "      <td>909.643</td>\n",
       "      <td>Kiegészítő</td>\n",
       "      <td>Székesfehérvár</td>\n",
       "      <td>False</td>\n",
       "      <td>2025-06-15</td>\n",
       "      <td>909643</td>\n",
       "    </tr>\n",
       "    <tr>\n",
       "      <th>1</th>\n",
       "      <td>iPad Pro</td>\n",
       "      <td>14</td>\n",
       "      <td>118223</td>\n",
       "      <td>1655.122</td>\n",
       "      <td>Tablet</td>\n",
       "      <td>Székesfehérvár</td>\n",
       "      <td>True</td>\n",
       "      <td>2025-07-09</td>\n",
       "      <td>1655122</td>\n",
       "    </tr>\n",
       "    <tr>\n",
       "      <th>2</th>\n",
       "      <td>Oppo Find X5</td>\n",
       "      <td>10</td>\n",
       "      <td>176109</td>\n",
       "      <td>1761.090</td>\n",
       "      <td>Mobiltelefon</td>\n",
       "      <td>Szeged</td>\n",
       "      <td>False</td>\n",
       "      <td>2025-06-04</td>\n",
       "      <td>1761090</td>\n",
       "    </tr>\n",
       "  </tbody>\n",
       "</table>\n",
       "</div>"
      ],
      "text/plain": [
       "                 Termék  Mennyiség      Ár  Bevétel (eFt)     Kategória  \\\n",
       "0  Samsung Galaxy Watch         29   31367        909.643    Kiegészítő   \n",
       "1              iPad Pro         14  118223       1655.122        Tablet   \n",
       "2          Oppo Find X5         10  176109       1761.090  Mobiltelefon   \n",
       "\n",
       "            Régió  Akció       Dátum  Bevétel  \n",
       "0  Székesfehérvár  False  2025-06-15   909643  \n",
       "1  Székesfehérvár   True  2025-07-09  1655122  \n",
       "2          Szeged  False  2025-06-04  1761090  "
      ]
     },
     "execution_count": 38,
     "metadata": {},
     "output_type": "execute_result"
    }
   ],
   "source": [
    "df.head(3)"
   ]
  },
  {
   "cell_type": "code",
   "execution_count": 39,
   "metadata": {
    "colab": {
     "base_uri": "https://localhost:8080/",
     "height": 669
    },
    "id": "6eyRP2a3YRN8",
    "outputId": "efc13066-48d3-4a30-a907-0b349f8abe61"
   },
   "outputs": [
    {
     "data": {
      "text/html": [
       "<div>\n",
       "<style scoped>\n",
       "    .dataframe tbody tr th:only-of-type {\n",
       "        vertical-align: middle;\n",
       "    }\n",
       "\n",
       "    .dataframe tbody tr th {\n",
       "        vertical-align: top;\n",
       "    }\n",
       "\n",
       "    .dataframe thead th {\n",
       "        text-align: right;\n",
       "    }\n",
       "</style>\n",
       "<table border=\"1\" class=\"dataframe\">\n",
       "  <thead>\n",
       "    <tr style=\"text-align: right;\">\n",
       "      <th></th>\n",
       "      <th>Termék</th>\n",
       "      <th>Mennyiség</th>\n",
       "      <th>Ár</th>\n",
       "      <th>Bevétel (eFt)</th>\n",
       "      <th>Kategória</th>\n",
       "      <th>Régió</th>\n",
       "      <th>Akció</th>\n",
       "      <th>Dátum</th>\n",
       "      <th>Bevétel</th>\n",
       "    </tr>\n",
       "  </thead>\n",
       "  <tbody>\n",
       "    <tr>\n",
       "      <th>1</th>\n",
       "      <td>iPad Pro</td>\n",
       "      <td>14</td>\n",
       "      <td>118223</td>\n",
       "      <td>1655.122</td>\n",
       "      <td>Tablet</td>\n",
       "      <td>Székesfehérvár</td>\n",
       "      <td>True</td>\n",
       "      <td>2025-07-09</td>\n",
       "      <td>1655122</td>\n",
       "    </tr>\n",
       "    <tr>\n",
       "      <th>4</th>\n",
       "      <td>Samsung QLED</td>\n",
       "      <td>20</td>\n",
       "      <td>748406</td>\n",
       "      <td>14968.120</td>\n",
       "      <td>TV</td>\n",
       "      <td>Győr</td>\n",
       "      <td>True</td>\n",
       "      <td>2025-06-07</td>\n",
       "      <td>14968120</td>\n",
       "    </tr>\n",
       "    <tr>\n",
       "      <th>5</th>\n",
       "      <td>HP Spectre</td>\n",
       "      <td>12</td>\n",
       "      <td>599643</td>\n",
       "      <td>7195.716</td>\n",
       "      <td>Laptop</td>\n",
       "      <td>Debrecen</td>\n",
       "      <td>True</td>\n",
       "      <td>2025-04-26</td>\n",
       "      <td>7195716</td>\n",
       "    </tr>\n",
       "    <tr>\n",
       "      <th>6</th>\n",
       "      <td>Huawei P50</td>\n",
       "      <td>10</td>\n",
       "      <td>220545</td>\n",
       "      <td>2205.450</td>\n",
       "      <td>Mobiltelefon</td>\n",
       "      <td>Budapest</td>\n",
       "      <td>True</td>\n",
       "      <td>2025-06-23</td>\n",
       "      <td>2205450</td>\n",
       "    </tr>\n",
       "    <tr>\n",
       "      <th>11</th>\n",
       "      <td>Samsung QLED</td>\n",
       "      <td>27</td>\n",
       "      <td>542869</td>\n",
       "      <td>14657.463</td>\n",
       "      <td>TV</td>\n",
       "      <td>Szeged</td>\n",
       "      <td>True</td>\n",
       "      <td>2025-06-06</td>\n",
       "      <td>14657463</td>\n",
       "    </tr>\n",
       "    <tr>\n",
       "      <th>...</th>\n",
       "      <td>...</td>\n",
       "      <td>...</td>\n",
       "      <td>...</td>\n",
       "      <td>...</td>\n",
       "      <td>...</td>\n",
       "      <td>...</td>\n",
       "      <td>...</td>\n",
       "      <td>...</td>\n",
       "      <td>...</td>\n",
       "    </tr>\n",
       "    <tr>\n",
       "      <th>990</th>\n",
       "      <td>Vezeték nélküli töltő</td>\n",
       "      <td>29</td>\n",
       "      <td>68220</td>\n",
       "      <td>1978.380</td>\n",
       "      <td>Kiegészítő</td>\n",
       "      <td>Kecskemét</td>\n",
       "      <td>True</td>\n",
       "      <td>2025-04-29</td>\n",
       "      <td>1978380</td>\n",
       "    </tr>\n",
       "    <tr>\n",
       "      <th>992</th>\n",
       "      <td>Dell XPS 13</td>\n",
       "      <td>30</td>\n",
       "      <td>691629</td>\n",
       "      <td>20748.870</td>\n",
       "      <td>Laptop</td>\n",
       "      <td>Debrecen</td>\n",
       "      <td>True</td>\n",
       "      <td>2025-05-16</td>\n",
       "      <td>20748870</td>\n",
       "    </tr>\n",
       "    <tr>\n",
       "      <th>993</th>\n",
       "      <td>Huawei P50</td>\n",
       "      <td>19</td>\n",
       "      <td>378816</td>\n",
       "      <td>7197.504</td>\n",
       "      <td>Mobiltelefon</td>\n",
       "      <td>Budapest</td>\n",
       "      <td>True</td>\n",
       "      <td>2025-05-07</td>\n",
       "      <td>7197504</td>\n",
       "    </tr>\n",
       "    <tr>\n",
       "      <th>994</th>\n",
       "      <td>Védőtok</td>\n",
       "      <td>22</td>\n",
       "      <td>62816</td>\n",
       "      <td>1381.952</td>\n",
       "      <td>Kiegészítő</td>\n",
       "      <td>Miskolc</td>\n",
       "      <td>True</td>\n",
       "      <td>2025-04-26</td>\n",
       "      <td>1381952</td>\n",
       "    </tr>\n",
       "    <tr>\n",
       "      <th>997</th>\n",
       "      <td>Samsung Galaxy Tab S8</td>\n",
       "      <td>20</td>\n",
       "      <td>178929</td>\n",
       "      <td>3578.580</td>\n",
       "      <td>Tablet</td>\n",
       "      <td>Pécs</td>\n",
       "      <td>True</td>\n",
       "      <td>2025-07-11</td>\n",
       "      <td>3578580</td>\n",
       "    </tr>\n",
       "  </tbody>\n",
       "</table>\n",
       "<p>504 rows × 9 columns</p>\n",
       "</div>"
      ],
      "text/plain": [
       "                    Termék  Mennyiség      Ár  Bevétel (eFt)     Kategória  \\\n",
       "1                 iPad Pro         14  118223       1655.122        Tablet   \n",
       "4             Samsung QLED         20  748406      14968.120            TV   \n",
       "5               HP Spectre         12  599643       7195.716        Laptop   \n",
       "6               Huawei P50         10  220545       2205.450  Mobiltelefon   \n",
       "11            Samsung QLED         27  542869      14657.463            TV   \n",
       "..                     ...        ...     ...            ...           ...   \n",
       "990  Vezeték nélküli töltő         29   68220       1978.380    Kiegészítő   \n",
       "992            Dell XPS 13         30  691629      20748.870        Laptop   \n",
       "993             Huawei P50         19  378816       7197.504  Mobiltelefon   \n",
       "994                Védőtok         22   62816       1381.952    Kiegészítő   \n",
       "997  Samsung Galaxy Tab S8         20  178929       3578.580        Tablet   \n",
       "\n",
       "              Régió  Akció       Dátum   Bevétel  \n",
       "1    Székesfehérvár   True  2025-07-09   1655122  \n",
       "4              Győr   True  2025-06-07  14968120  \n",
       "5          Debrecen   True  2025-04-26   7195716  \n",
       "6          Budapest   True  2025-06-23   2205450  \n",
       "11           Szeged   True  2025-06-06  14657463  \n",
       "..              ...    ...         ...       ...  \n",
       "990       Kecskemét   True  2025-04-29   1978380  \n",
       "992        Debrecen   True  2025-05-16  20748870  \n",
       "993        Budapest   True  2025-05-07   7197504  \n",
       "994         Miskolc   True  2025-04-26   1381952  \n",
       "997            Pécs   True  2025-07-11   3578580  \n",
       "\n",
       "[504 rows x 9 columns]"
      ]
     },
     "execution_count": 39,
     "metadata": {},
     "output_type": "execute_result"
    }
   ],
   "source": [
    "# Szűrés: Csak az akciós termékek adatait nézzük meg.\n",
    "# A df[df['akció'] == True] egy logikai szűrés: csak azok a sorok maradnak, ahol az 'akció' értéke True.\n",
    "akcios_df = df[df['Akció'] == True]\n",
    "akcios_df"
   ]
  },
  {
   "cell_type": "code",
   "execution_count": 40,
   "metadata": {
    "colab": {
     "base_uri": "https://localhost:8080/"
    },
    "id": "CspzIqysYUah",
    "outputId": "0d4538bf-a51d-407e-bdd3-1e9c5a0db72a"
   },
   "outputs": [
    {
     "data": {
      "text/plain": [
       "np.int64(3162991114)"
      ]
     },
     "execution_count": 40,
     "metadata": {},
     "output_type": "execute_result"
    }
   ],
   "source": [
    "# Akciós termékekből befolyt árbevétel kiszámítása.\n",
    "# Ismét egyszerű sum() a szűrt DataFrame 'bevétel' oszlopára.\n",
    "akcios_bevetel = akcios_df['Bevétel'].sum()\n",
    "akcios_bevetel"
   ]
  },
  {
   "cell_type": "code",
   "execution_count": 41,
   "metadata": {
    "colab": {
     "base_uri": "https://localhost:8080/",
     "height": 36
    },
    "id": "YTJ7O8MqXhEe",
    "outputId": "6985d4e8-0de6-4051-b0e1-ac2a8d26dee7"
   },
   "outputs": [
    {
     "data": {
      "text/plain": [
       "'3.162.991.114 Ft'"
      ]
     },
     "execution_count": 41,
     "metadata": {},
     "output_type": "execute_result"
    }
   ],
   "source": [
    "formazott_akcios = f\"{akcios_bevetel:,} Ft\".replace(\",\", \".\")\n",
    "formazott_akcios"
   ]
  },
  {
   "cell_type": "code",
   "execution_count": 42,
   "metadata": {
    "colab": {
     "base_uri": "https://localhost:8080/",
     "height": 347
    },
    "id": "GQz5RKpmS5-d",
    "outputId": "8cebdfab-f664-4170-b33e-6499dbcf254a"
   },
   "outputs": [
    {
     "data": {
      "text/html": [
       "<div>\n",
       "<style scoped>\n",
       "    .dataframe tbody tr th:only-of-type {\n",
       "        vertical-align: middle;\n",
       "    }\n",
       "\n",
       "    .dataframe tbody tr th {\n",
       "        vertical-align: top;\n",
       "    }\n",
       "\n",
       "    .dataframe thead th {\n",
       "        text-align: right;\n",
       "    }\n",
       "</style>\n",
       "<table border=\"1\" class=\"dataframe\">\n",
       "  <thead>\n",
       "    <tr style=\"text-align: right;\">\n",
       "      <th></th>\n",
       "      <th>Termék</th>\n",
       "      <th>Mennyiség</th>\n",
       "      <th>Ár</th>\n",
       "      <th>Bevétel (eFt)</th>\n",
       "      <th>Kategória</th>\n",
       "      <th>Régió</th>\n",
       "      <th>Akció</th>\n",
       "      <th>Dátum</th>\n",
       "      <th>Bevétel</th>\n",
       "    </tr>\n",
       "  </thead>\n",
       "  <tbody>\n",
       "    <tr>\n",
       "      <th>0</th>\n",
       "      <td>Samsung Galaxy Watch</td>\n",
       "      <td>29</td>\n",
       "      <td>31367</td>\n",
       "      <td>909.643</td>\n",
       "      <td>Kiegészítő</td>\n",
       "      <td>Székesfehérvár</td>\n",
       "      <td>False</td>\n",
       "      <td>2025-06-15</td>\n",
       "      <td>909643</td>\n",
       "    </tr>\n",
       "    <tr>\n",
       "      <th>2</th>\n",
       "      <td>Oppo Find X5</td>\n",
       "      <td>10</td>\n",
       "      <td>176109</td>\n",
       "      <td>1761.090</td>\n",
       "      <td>Mobiltelefon</td>\n",
       "      <td>Szeged</td>\n",
       "      <td>False</td>\n",
       "      <td>2025-06-04</td>\n",
       "      <td>1761090</td>\n",
       "    </tr>\n",
       "    <tr>\n",
       "      <th>3</th>\n",
       "      <td>Panasonic TX</td>\n",
       "      <td>28</td>\n",
       "      <td>488628</td>\n",
       "      <td>13681.584</td>\n",
       "      <td>TV</td>\n",
       "      <td>Kecskemét</td>\n",
       "      <td>False</td>\n",
       "      <td>2025-05-29</td>\n",
       "      <td>13681584</td>\n",
       "    </tr>\n",
       "    <tr>\n",
       "      <th>7</th>\n",
       "      <td>Sony Bravia</td>\n",
       "      <td>19</td>\n",
       "      <td>449037</td>\n",
       "      <td>8531.703</td>\n",
       "      <td>TV</td>\n",
       "      <td>Győr</td>\n",
       "      <td>False</td>\n",
       "      <td>2025-05-14</td>\n",
       "      <td>8531703</td>\n",
       "    </tr>\n",
       "    <tr>\n",
       "      <th>8</th>\n",
       "      <td>Samsung QLED</td>\n",
       "      <td>18</td>\n",
       "      <td>220352</td>\n",
       "      <td>3966.336</td>\n",
       "      <td>TV</td>\n",
       "      <td>Győr</td>\n",
       "      <td>False</td>\n",
       "      <td>2025-07-13</td>\n",
       "      <td>3966336</td>\n",
       "    </tr>\n",
       "  </tbody>\n",
       "</table>\n",
       "</div>"
      ],
      "text/plain": [
       "                 Termék  Mennyiség      Ár  Bevétel (eFt)     Kategória  \\\n",
       "0  Samsung Galaxy Watch         29   31367        909.643    Kiegészítő   \n",
       "2          Oppo Find X5         10  176109       1761.090  Mobiltelefon   \n",
       "3          Panasonic TX         28  488628      13681.584            TV   \n",
       "7           Sony Bravia         19  449037       8531.703            TV   \n",
       "8          Samsung QLED         18  220352       3966.336            TV   \n",
       "\n",
       "            Régió  Akció       Dátum   Bevétel  \n",
       "0  Székesfehérvár  False  2025-06-15    909643  \n",
       "2          Szeged  False  2025-06-04   1761090  \n",
       "3       Kecskemét  False  2025-05-29  13681584  \n",
       "7            Győr  False  2025-05-14   8531703  \n",
       "8            Győr  False  2025-07-13   3966336  "
      ]
     },
     "execution_count": 42,
     "metadata": {},
     "output_type": "execute_result"
    }
   ],
   "source": [
    "#Nem akciós\n",
    "nem_akcios_df = df[df['Akció'] == False]\n",
    "nem_akcios_df.head()"
   ]
  },
  {
   "cell_type": "code",
   "execution_count": 43,
   "metadata": {
    "colab": {
     "base_uri": "https://localhost:8080/"
    },
    "id": "IX7DsSrHTTQD",
    "outputId": "c0584e79-bba8-4295-adb2-95b84c05c18b"
   },
   "outputs": [
    {
     "data": {
      "text/plain": [
       "np.int64(3100559443)"
      ]
     },
     "execution_count": 43,
     "metadata": {},
     "output_type": "execute_result"
    }
   ],
   "source": [
    "nem_akcios_bevetel = nem_akcios_df['Bevétel'].sum()\n",
    "nem_akcios_bevetel"
   ]
  },
  {
   "cell_type": "code",
   "execution_count": 44,
   "metadata": {
    "colab": {
     "base_uri": "https://localhost:8080/",
     "height": 36
    },
    "id": "T_nREwhWXx6B",
    "outputId": "d989045c-4910-41e6-ec34-8fdffcc5debc"
   },
   "outputs": [
    {
     "data": {
      "text/plain": [
       "'3.100.559.443 Ft'"
      ]
     },
     "execution_count": 44,
     "metadata": {},
     "output_type": "execute_result"
    }
   ],
   "source": [
    "formazott_nem_akcios = f\"{nem_akcios_bevetel:,} Ft\".replace(\",\", \".\")\n",
    "formazott_nem_akcios"
   ]
  },
  {
   "cell_type": "code",
   "execution_count": 45,
   "metadata": {
    "colab": {
     "base_uri": "https://localhost:8080/"
    },
    "id": "QVCND1lJTgJz",
    "outputId": "bda4e9b2-d3e0-4e75-cfc1-91de21ff974d"
   },
   "outputs": [
    {
     "data": {
      "text/plain": [
       "np.True_"
      ]
     },
     "execution_count": 45,
     "metadata": {},
     "output_type": "execute_result"
    }
   ],
   "source": [
    "#ellenőrzés\n",
    "akcios_bevetel + nem_akcios_bevetel == teljes_bevetel"
   ]
  },
  {
   "cell_type": "markdown",
   "metadata": {
    "id": "DR_LQZC4YtD8"
   },
   "source": [
    "## Feltételes szűrés: ár > 200.000 és akciós"
   ]
  },
  {
   "cell_type": "code",
   "execution_count": 46,
   "metadata": {
    "colab": {
     "base_uri": "https://localhost:8080/",
     "height": 250
    },
    "id": "2Aj0JMmpOv1f",
    "outputId": "8979f303-4142-4b56-b926-478d7c22fac9"
   },
   "outputs": [
    {
     "data": {
      "text/html": [
       "<div>\n",
       "<style scoped>\n",
       "    .dataframe tbody tr th:only-of-type {\n",
       "        vertical-align: middle;\n",
       "    }\n",
       "\n",
       "    .dataframe tbody tr th {\n",
       "        vertical-align: top;\n",
       "    }\n",
       "\n",
       "    .dataframe thead th {\n",
       "        text-align: right;\n",
       "    }\n",
       "</style>\n",
       "<table border=\"1\" class=\"dataframe\">\n",
       "  <thead>\n",
       "    <tr style=\"text-align: right;\">\n",
       "      <th></th>\n",
       "      <th>Termék</th>\n",
       "      <th>Mennyiség</th>\n",
       "      <th>Ár</th>\n",
       "      <th>Bevétel (eFt)</th>\n",
       "      <th>Kategória</th>\n",
       "      <th>Régió</th>\n",
       "      <th>Akció</th>\n",
       "      <th>Dátum</th>\n",
       "      <th>Bevétel</th>\n",
       "    </tr>\n",
       "  </thead>\n",
       "  <tbody>\n",
       "    <tr>\n",
       "      <th>0</th>\n",
       "      <td>Samsung Galaxy Watch</td>\n",
       "      <td>29</td>\n",
       "      <td>31367</td>\n",
       "      <td>909.643</td>\n",
       "      <td>Kiegészítő</td>\n",
       "      <td>Székesfehérvár</td>\n",
       "      <td>False</td>\n",
       "      <td>2025-06-15</td>\n",
       "      <td>909643</td>\n",
       "    </tr>\n",
       "    <tr>\n",
       "      <th>1</th>\n",
       "      <td>iPad Pro</td>\n",
       "      <td>14</td>\n",
       "      <td>118223</td>\n",
       "      <td>1655.122</td>\n",
       "      <td>Tablet</td>\n",
       "      <td>Székesfehérvár</td>\n",
       "      <td>True</td>\n",
       "      <td>2025-07-09</td>\n",
       "      <td>1655122</td>\n",
       "    </tr>\n",
       "    <tr>\n",
       "      <th>2</th>\n",
       "      <td>Oppo Find X5</td>\n",
       "      <td>10</td>\n",
       "      <td>176109</td>\n",
       "      <td>1761.090</td>\n",
       "      <td>Mobiltelefon</td>\n",
       "      <td>Szeged</td>\n",
       "      <td>False</td>\n",
       "      <td>2025-06-04</td>\n",
       "      <td>1761090</td>\n",
       "    </tr>\n",
       "  </tbody>\n",
       "</table>\n",
       "</div>"
      ],
      "text/plain": [
       "                 Termék  Mennyiség      Ár  Bevétel (eFt)     Kategória  \\\n",
       "0  Samsung Galaxy Watch         29   31367        909.643    Kiegészítő   \n",
       "1              iPad Pro         14  118223       1655.122        Tablet   \n",
       "2          Oppo Find X5         10  176109       1761.090  Mobiltelefon   \n",
       "\n",
       "            Régió  Akció       Dátum  Bevétel  \n",
       "0  Székesfehérvár  False  2025-06-15   909643  \n",
       "1  Székesfehérvár   True  2025-07-09  1655122  \n",
       "2          Szeged  False  2025-06-04  1761090  "
      ]
     },
     "execution_count": 46,
     "metadata": {},
     "output_type": "execute_result"
    }
   ],
   "source": [
    "df.head(3)"
   ]
  },
  {
   "cell_type": "code",
   "execution_count": 47,
   "metadata": {
    "colab": {
     "base_uri": "https://localhost:8080/",
     "height": 652
    },
    "id": "n1Yfo2PfuFyQ",
    "outputId": "c5eea437-5171-4106-fa41-803acc292c30"
   },
   "outputs": [
    {
     "name": "stdout",
     "output_type": "stream",
     "text": [
      "Termékek, amelyek ára 200 000 felett van ÉS akciósak:\n"
     ]
    },
    {
     "data": {
      "text/html": [
       "<div>\n",
       "<style scoped>\n",
       "    .dataframe tbody tr th:only-of-type {\n",
       "        vertical-align: middle;\n",
       "    }\n",
       "\n",
       "    .dataframe tbody tr th {\n",
       "        vertical-align: top;\n",
       "    }\n",
       "\n",
       "    .dataframe thead th {\n",
       "        text-align: right;\n",
       "    }\n",
       "</style>\n",
       "<table border=\"1\" class=\"dataframe\">\n",
       "  <thead>\n",
       "    <tr style=\"text-align: right;\">\n",
       "      <th></th>\n",
       "      <th>Termék</th>\n",
       "      <th>Mennyiség</th>\n",
       "      <th>Ár</th>\n",
       "      <th>Bevétel (eFt)</th>\n",
       "      <th>Kategória</th>\n",
       "      <th>Régió</th>\n",
       "      <th>Akció</th>\n",
       "      <th>Dátum</th>\n",
       "      <th>Bevétel</th>\n",
       "    </tr>\n",
       "  </thead>\n",
       "  <tbody>\n",
       "    <tr>\n",
       "      <th>4</th>\n",
       "      <td>Samsung QLED</td>\n",
       "      <td>20</td>\n",
       "      <td>748406</td>\n",
       "      <td>14968.120</td>\n",
       "      <td>TV</td>\n",
       "      <td>Győr</td>\n",
       "      <td>True</td>\n",
       "      <td>2025-06-07</td>\n",
       "      <td>14968120</td>\n",
       "    </tr>\n",
       "    <tr>\n",
       "      <th>5</th>\n",
       "      <td>HP Spectre</td>\n",
       "      <td>12</td>\n",
       "      <td>599643</td>\n",
       "      <td>7195.716</td>\n",
       "      <td>Laptop</td>\n",
       "      <td>Debrecen</td>\n",
       "      <td>True</td>\n",
       "      <td>2025-04-26</td>\n",
       "      <td>7195716</td>\n",
       "    </tr>\n",
       "    <tr>\n",
       "      <th>6</th>\n",
       "      <td>Huawei P50</td>\n",
       "      <td>10</td>\n",
       "      <td>220545</td>\n",
       "      <td>2205.450</td>\n",
       "      <td>Mobiltelefon</td>\n",
       "      <td>Budapest</td>\n",
       "      <td>True</td>\n",
       "      <td>2025-06-23</td>\n",
       "      <td>2205450</td>\n",
       "    </tr>\n",
       "    <tr>\n",
       "      <th>11</th>\n",
       "      <td>Samsung QLED</td>\n",
       "      <td>27</td>\n",
       "      <td>542869</td>\n",
       "      <td>14657.463</td>\n",
       "      <td>TV</td>\n",
       "      <td>Szeged</td>\n",
       "      <td>True</td>\n",
       "      <td>2025-06-06</td>\n",
       "      <td>14657463</td>\n",
       "    </tr>\n",
       "    <tr>\n",
       "      <th>13</th>\n",
       "      <td>Dell XPS 13</td>\n",
       "      <td>18</td>\n",
       "      <td>505796</td>\n",
       "      <td>9104.328</td>\n",
       "      <td>Laptop</td>\n",
       "      <td>Szeged</td>\n",
       "      <td>True</td>\n",
       "      <td>2025-07-15</td>\n",
       "      <td>9104328</td>\n",
       "    </tr>\n",
       "    <tr>\n",
       "      <th>...</th>\n",
       "      <td>...</td>\n",
       "      <td>...</td>\n",
       "      <td>...</td>\n",
       "      <td>...</td>\n",
       "      <td>...</td>\n",
       "      <td>...</td>\n",
       "      <td>...</td>\n",
       "      <td>...</td>\n",
       "      <td>...</td>\n",
       "    </tr>\n",
       "    <tr>\n",
       "      <th>980</th>\n",
       "      <td>MacBook Air</td>\n",
       "      <td>29</td>\n",
       "      <td>343908</td>\n",
       "      <td>9973.332</td>\n",
       "      <td>Laptop</td>\n",
       "      <td>Székesfehérvár</td>\n",
       "      <td>True</td>\n",
       "      <td>2025-05-11</td>\n",
       "      <td>9973332</td>\n",
       "    </tr>\n",
       "    <tr>\n",
       "      <th>983</th>\n",
       "      <td>Samsung QLED</td>\n",
       "      <td>30</td>\n",
       "      <td>451481</td>\n",
       "      <td>13544.430</td>\n",
       "      <td>TV</td>\n",
       "      <td>Debrecen</td>\n",
       "      <td>True</td>\n",
       "      <td>2025-04-18</td>\n",
       "      <td>13544430</td>\n",
       "    </tr>\n",
       "    <tr>\n",
       "      <th>986</th>\n",
       "      <td>HP Spectre</td>\n",
       "      <td>24</td>\n",
       "      <td>417430</td>\n",
       "      <td>10018.320</td>\n",
       "      <td>Laptop</td>\n",
       "      <td>Debrecen</td>\n",
       "      <td>True</td>\n",
       "      <td>2025-06-02</td>\n",
       "      <td>10018320</td>\n",
       "    </tr>\n",
       "    <tr>\n",
       "      <th>992</th>\n",
       "      <td>Dell XPS 13</td>\n",
       "      <td>30</td>\n",
       "      <td>691629</td>\n",
       "      <td>20748.870</td>\n",
       "      <td>Laptop</td>\n",
       "      <td>Debrecen</td>\n",
       "      <td>True</td>\n",
       "      <td>2025-05-16</td>\n",
       "      <td>20748870</td>\n",
       "    </tr>\n",
       "    <tr>\n",
       "      <th>993</th>\n",
       "      <td>Huawei P50</td>\n",
       "      <td>19</td>\n",
       "      <td>378816</td>\n",
       "      <td>7197.504</td>\n",
       "      <td>Mobiltelefon</td>\n",
       "      <td>Budapest</td>\n",
       "      <td>True</td>\n",
       "      <td>2025-05-07</td>\n",
       "      <td>7197504</td>\n",
       "    </tr>\n",
       "  </tbody>\n",
       "</table>\n",
       "<p>339 rows × 9 columns</p>\n",
       "</div>"
      ],
      "text/plain": [
       "           Termék  Mennyiség      Ár  Bevétel (eFt)     Kategória  \\\n",
       "4    Samsung QLED         20  748406      14968.120            TV   \n",
       "5      HP Spectre         12  599643       7195.716        Laptop   \n",
       "6      Huawei P50         10  220545       2205.450  Mobiltelefon   \n",
       "11   Samsung QLED         27  542869      14657.463            TV   \n",
       "13    Dell XPS 13         18  505796       9104.328        Laptop   \n",
       "..            ...        ...     ...            ...           ...   \n",
       "980   MacBook Air         29  343908       9973.332        Laptop   \n",
       "983  Samsung QLED         30  451481      13544.430            TV   \n",
       "986    HP Spectre         24  417430      10018.320        Laptop   \n",
       "992   Dell XPS 13         30  691629      20748.870        Laptop   \n",
       "993    Huawei P50         19  378816       7197.504  Mobiltelefon   \n",
       "\n",
       "              Régió  Akció       Dátum   Bevétel  \n",
       "4              Győr   True  2025-06-07  14968120  \n",
       "5          Debrecen   True  2025-04-26   7195716  \n",
       "6          Budapest   True  2025-06-23   2205450  \n",
       "11           Szeged   True  2025-06-06  14657463  \n",
       "13           Szeged   True  2025-07-15   9104328  \n",
       "..              ...    ...         ...       ...  \n",
       "980  Székesfehérvár   True  2025-05-11   9973332  \n",
       "983        Debrecen   True  2025-04-18  13544430  \n",
       "986        Debrecen   True  2025-06-02  10018320  \n",
       "992        Debrecen   True  2025-05-16  20748870  \n",
       "993        Budapest   True  2025-05-07   7197504  \n",
       "\n",
       "[339 rows x 9 columns]"
      ]
     },
     "execution_count": 47,
     "metadata": {},
     "output_type": "execute_result"
    }
   ],
   "source": [
    "# Feltételes szűrés – csak azokat a sorokat keressük, ahol:\n",
    "# - az 'Ár' nagyobb mint 10 000\n",
    "# - és az 'Akció' oszlop értéke True (logikai típus)\n",
    "\n",
    "# A szűrés egy logikai maszkot készít, majd csak azokat a sorokat tartja meg, ahol az értékek True\n",
    "\n",
    "szurt_df = df[   (df['Ár'] > 200000) & (df['Akció'] == True)   ]\n",
    "\n",
    "# Az eredmény egy új DataFrame, amely csak azokat a sorokat tartalmazza, amelyek megfelelnek a feltételeknek\n",
    "\n",
    "print(\"Termékek, amelyek ára 200 000 felett van ÉS akciósak:\")\n",
    "szurt_df"
   ]
  },
  {
   "cell_type": "markdown",
   "metadata": {
    "id": "prMutnXSuSIm"
   },
   "source": [
    "##Szűrés dátum szerint (pl. 2025-05-01 utáni adatokra)"
   ]
  },
  {
   "cell_type": "code",
   "execution_count": 48,
   "metadata": {
    "colab": {
     "base_uri": "https://localhost:8080/"
    },
    "id": "YLK9bgLyPLvn",
    "outputId": "3af72281-ce64-4e61-a08a-66a330701bfa"
   },
   "outputs": [
    {
     "data": {
      "text/plain": [
       "str"
      ]
     },
     "execution_count": 48,
     "metadata": {},
     "output_type": "execute_result"
    }
   ],
   "source": [
    "type(df['Dátum'][0])"
   ]
  },
  {
   "cell_type": "code",
   "execution_count": 49,
   "metadata": {
    "id": "SOqyNMudPTEU"
   },
   "outputs": [],
   "source": [
    "df['Dátum'] = pd.to_datetime(df['Dátum'])\n"
   ]
  },
  {
   "cell_type": "code",
   "execution_count": 50,
   "metadata": {
    "colab": {
     "base_uri": "https://localhost:8080/"
    },
    "id": "nIZlwxs4PXTL",
    "outputId": "6ed8d659-91fd-48c1-8ac0-235c29e63712"
   },
   "outputs": [
    {
     "data": {
      "text/plain": [
       "pandas._libs.tslibs.timestamps.Timestamp"
      ]
     },
     "execution_count": 50,
     "metadata": {},
     "output_type": "execute_result"
    }
   ],
   "source": [
    "type(df['Dátum'][0])"
   ]
  },
  {
   "cell_type": "code",
   "execution_count": 51,
   "metadata": {
    "colab": {
     "base_uri": "https://localhost:8080/",
     "height": 686
    },
    "id": "iIS1lN5juRj2",
    "outputId": "979ec9ae-3810-4373-f82a-0c52f4086f6a"
   },
   "outputs": [
    {
     "name": "stdout",
     "output_type": "stream",
     "text": [
      "2025-05 es tranzakciók:\n"
     ]
    },
    {
     "data": {
      "text/html": [
       "<div>\n",
       "<style scoped>\n",
       "    .dataframe tbody tr th:only-of-type {\n",
       "        vertical-align: middle;\n",
       "    }\n",
       "\n",
       "    .dataframe tbody tr th {\n",
       "        vertical-align: top;\n",
       "    }\n",
       "\n",
       "    .dataframe thead th {\n",
       "        text-align: right;\n",
       "    }\n",
       "</style>\n",
       "<table border=\"1\" class=\"dataframe\">\n",
       "  <thead>\n",
       "    <tr style=\"text-align: right;\">\n",
       "      <th></th>\n",
       "      <th>Termék</th>\n",
       "      <th>Mennyiség</th>\n",
       "      <th>Ár</th>\n",
       "      <th>Bevétel (eFt)</th>\n",
       "      <th>Kategória</th>\n",
       "      <th>Régió</th>\n",
       "      <th>Akció</th>\n",
       "      <th>Dátum</th>\n",
       "      <th>Bevétel</th>\n",
       "    </tr>\n",
       "  </thead>\n",
       "  <tbody>\n",
       "    <tr>\n",
       "      <th>0</th>\n",
       "      <td>Samsung Galaxy Watch</td>\n",
       "      <td>29</td>\n",
       "      <td>31367</td>\n",
       "      <td>909.643</td>\n",
       "      <td>Kiegészítő</td>\n",
       "      <td>Székesfehérvár</td>\n",
       "      <td>False</td>\n",
       "      <td>2025-06-15</td>\n",
       "      <td>909643</td>\n",
       "    </tr>\n",
       "    <tr>\n",
       "      <th>1</th>\n",
       "      <td>iPad Pro</td>\n",
       "      <td>14</td>\n",
       "      <td>118223</td>\n",
       "      <td>1655.122</td>\n",
       "      <td>Tablet</td>\n",
       "      <td>Székesfehérvár</td>\n",
       "      <td>True</td>\n",
       "      <td>2025-07-09</td>\n",
       "      <td>1655122</td>\n",
       "    </tr>\n",
       "    <tr>\n",
       "      <th>2</th>\n",
       "      <td>Oppo Find X5</td>\n",
       "      <td>10</td>\n",
       "      <td>176109</td>\n",
       "      <td>1761.090</td>\n",
       "      <td>Mobiltelefon</td>\n",
       "      <td>Szeged</td>\n",
       "      <td>False</td>\n",
       "      <td>2025-06-04</td>\n",
       "      <td>1761090</td>\n",
       "    </tr>\n",
       "    <tr>\n",
       "      <th>3</th>\n",
       "      <td>Panasonic TX</td>\n",
       "      <td>28</td>\n",
       "      <td>488628</td>\n",
       "      <td>13681.584</td>\n",
       "      <td>TV</td>\n",
       "      <td>Kecskemét</td>\n",
       "      <td>False</td>\n",
       "      <td>2025-05-29</td>\n",
       "      <td>13681584</td>\n",
       "    </tr>\n",
       "    <tr>\n",
       "      <th>4</th>\n",
       "      <td>Samsung QLED</td>\n",
       "      <td>20</td>\n",
       "      <td>748406</td>\n",
       "      <td>14968.120</td>\n",
       "      <td>TV</td>\n",
       "      <td>Győr</td>\n",
       "      <td>True</td>\n",
       "      <td>2025-06-07</td>\n",
       "      <td>14968120</td>\n",
       "    </tr>\n",
       "    <tr>\n",
       "      <th>...</th>\n",
       "      <td>...</td>\n",
       "      <td>...</td>\n",
       "      <td>...</td>\n",
       "      <td>...</td>\n",
       "      <td>...</td>\n",
       "      <td>...</td>\n",
       "      <td>...</td>\n",
       "      <td>...</td>\n",
       "      <td>...</td>\n",
       "    </tr>\n",
       "    <tr>\n",
       "      <th>992</th>\n",
       "      <td>Dell XPS 13</td>\n",
       "      <td>30</td>\n",
       "      <td>691629</td>\n",
       "      <td>20748.870</td>\n",
       "      <td>Laptop</td>\n",
       "      <td>Debrecen</td>\n",
       "      <td>True</td>\n",
       "      <td>2025-05-16</td>\n",
       "      <td>20748870</td>\n",
       "    </tr>\n",
       "    <tr>\n",
       "      <th>993</th>\n",
       "      <td>Huawei P50</td>\n",
       "      <td>19</td>\n",
       "      <td>378816</td>\n",
       "      <td>7197.504</td>\n",
       "      <td>Mobiltelefon</td>\n",
       "      <td>Budapest</td>\n",
       "      <td>True</td>\n",
       "      <td>2025-05-07</td>\n",
       "      <td>7197504</td>\n",
       "    </tr>\n",
       "    <tr>\n",
       "      <th>997</th>\n",
       "      <td>Samsung Galaxy Tab S8</td>\n",
       "      <td>20</td>\n",
       "      <td>178929</td>\n",
       "      <td>3578.580</td>\n",
       "      <td>Tablet</td>\n",
       "      <td>Pécs</td>\n",
       "      <td>True</td>\n",
       "      <td>2025-07-11</td>\n",
       "      <td>3578580</td>\n",
       "    </tr>\n",
       "    <tr>\n",
       "      <th>998</th>\n",
       "      <td>Panasonic TX</td>\n",
       "      <td>17</td>\n",
       "      <td>178137</td>\n",
       "      <td>3028.329</td>\n",
       "      <td>TV</td>\n",
       "      <td>Pécs</td>\n",
       "      <td>False</td>\n",
       "      <td>2025-05-04</td>\n",
       "      <td>3028329</td>\n",
       "    </tr>\n",
       "    <tr>\n",
       "      <th>999</th>\n",
       "      <td>Dell XPS 13</td>\n",
       "      <td>23</td>\n",
       "      <td>316454</td>\n",
       "      <td>7278.442</td>\n",
       "      <td>Laptop</td>\n",
       "      <td>Győr</td>\n",
       "      <td>False</td>\n",
       "      <td>2025-05-25</td>\n",
       "      <td>7278442</td>\n",
       "    </tr>\n",
       "  </tbody>\n",
       "</table>\n",
       "<p>803 rows × 9 columns</p>\n",
       "</div>"
      ],
      "text/plain": [
       "                    Termék  Mennyiség      Ár  Bevétel (eFt)     Kategória  \\\n",
       "0     Samsung Galaxy Watch         29   31367        909.643    Kiegészítő   \n",
       "1                 iPad Pro         14  118223       1655.122        Tablet   \n",
       "2             Oppo Find X5         10  176109       1761.090  Mobiltelefon   \n",
       "3             Panasonic TX         28  488628      13681.584            TV   \n",
       "4             Samsung QLED         20  748406      14968.120            TV   \n",
       "..                     ...        ...     ...            ...           ...   \n",
       "992            Dell XPS 13         30  691629      20748.870        Laptop   \n",
       "993             Huawei P50         19  378816       7197.504  Mobiltelefon   \n",
       "997  Samsung Galaxy Tab S8         20  178929       3578.580        Tablet   \n",
       "998           Panasonic TX         17  178137       3028.329            TV   \n",
       "999            Dell XPS 13         23  316454       7278.442        Laptop   \n",
       "\n",
       "              Régió  Akció      Dátum   Bevétel  \n",
       "0    Székesfehérvár  False 2025-06-15    909643  \n",
       "1    Székesfehérvár   True 2025-07-09   1655122  \n",
       "2            Szeged  False 2025-06-04   1761090  \n",
       "3         Kecskemét  False 2025-05-29  13681584  \n",
       "4              Győr   True 2025-06-07  14968120  \n",
       "..              ...    ...        ...       ...  \n",
       "992        Debrecen   True 2025-05-16  20748870  \n",
       "993        Budapest   True 2025-05-07   7197504  \n",
       "997            Pécs   True 2025-07-11   3578580  \n",
       "998            Pécs  False 2025-05-04   3028329  \n",
       "999            Győr  False 2025-05-25   7278442  \n",
       "\n",
       "[803 rows x 9 columns]"
      ]
     },
     "execution_count": 51,
     "metadata": {},
     "output_type": "execute_result"
    }
   ],
   "source": [
    "#df['Dátum'] = pd.to_datetime(df['Dátum'])  # csak akkor, ha még nem datetime típusú\n",
    "df_2025_05 = df[df['Dátum']>='2025-05-01']\n",
    "\n",
    "print(\"2025-05 es tranzakciók:\")\n",
    "df_2025_05"
   ]
  },
  {
   "cell_type": "markdown",
   "metadata": {
    "id": "JDZbdTt0u9l-"
   },
   "source": [
    "##Szűrés régió szerint (pl. „Budapest” régióban történt eladások)"
   ]
  },
  {
   "cell_type": "code",
   "execution_count": 52,
   "metadata": {
    "colab": {
     "base_uri": "https://localhost:8080/",
     "height": 250
    },
    "id": "r-xMnH81QZBX",
    "outputId": "990e189e-5693-44cc-ab5b-7e1227d47a45"
   },
   "outputs": [
    {
     "data": {
      "text/html": [
       "<div>\n",
       "<style scoped>\n",
       "    .dataframe tbody tr th:only-of-type {\n",
       "        vertical-align: middle;\n",
       "    }\n",
       "\n",
       "    .dataframe tbody tr th {\n",
       "        vertical-align: top;\n",
       "    }\n",
       "\n",
       "    .dataframe thead th {\n",
       "        text-align: right;\n",
       "    }\n",
       "</style>\n",
       "<table border=\"1\" class=\"dataframe\">\n",
       "  <thead>\n",
       "    <tr style=\"text-align: right;\">\n",
       "      <th></th>\n",
       "      <th>Termék</th>\n",
       "      <th>Mennyiség</th>\n",
       "      <th>Ár</th>\n",
       "      <th>Bevétel (eFt)</th>\n",
       "      <th>Kategória</th>\n",
       "      <th>Régió</th>\n",
       "      <th>Akció</th>\n",
       "      <th>Dátum</th>\n",
       "      <th>Bevétel</th>\n",
       "    </tr>\n",
       "  </thead>\n",
       "  <tbody>\n",
       "    <tr>\n",
       "      <th>0</th>\n",
       "      <td>Samsung Galaxy Watch</td>\n",
       "      <td>29</td>\n",
       "      <td>31367</td>\n",
       "      <td>909.643</td>\n",
       "      <td>Kiegészítő</td>\n",
       "      <td>Székesfehérvár</td>\n",
       "      <td>False</td>\n",
       "      <td>2025-06-15</td>\n",
       "      <td>909643</td>\n",
       "    </tr>\n",
       "    <tr>\n",
       "      <th>1</th>\n",
       "      <td>iPad Pro</td>\n",
       "      <td>14</td>\n",
       "      <td>118223</td>\n",
       "      <td>1655.122</td>\n",
       "      <td>Tablet</td>\n",
       "      <td>Székesfehérvár</td>\n",
       "      <td>True</td>\n",
       "      <td>2025-07-09</td>\n",
       "      <td>1655122</td>\n",
       "    </tr>\n",
       "    <tr>\n",
       "      <th>2</th>\n",
       "      <td>Oppo Find X5</td>\n",
       "      <td>10</td>\n",
       "      <td>176109</td>\n",
       "      <td>1761.090</td>\n",
       "      <td>Mobiltelefon</td>\n",
       "      <td>Szeged</td>\n",
       "      <td>False</td>\n",
       "      <td>2025-06-04</td>\n",
       "      <td>1761090</td>\n",
       "    </tr>\n",
       "  </tbody>\n",
       "</table>\n",
       "</div>"
      ],
      "text/plain": [
       "                 Termék  Mennyiség      Ár  Bevétel (eFt)     Kategória  \\\n",
       "0  Samsung Galaxy Watch         29   31367        909.643    Kiegészítő   \n",
       "1              iPad Pro         14  118223       1655.122        Tablet   \n",
       "2          Oppo Find X5         10  176109       1761.090  Mobiltelefon   \n",
       "\n",
       "            Régió  Akció      Dátum  Bevétel  \n",
       "0  Székesfehérvár  False 2025-06-15   909643  \n",
       "1  Székesfehérvár   True 2025-07-09  1655122  \n",
       "2          Szeged  False 2025-06-04  1761090  "
      ]
     },
     "execution_count": 52,
     "metadata": {},
     "output_type": "execute_result"
    }
   ],
   "source": [
    "df.head(3)"
   ]
  },
  {
   "cell_type": "code",
   "execution_count": 53,
   "metadata": {
    "colab": {
     "base_uri": "https://localhost:8080/",
     "height": 652
    },
    "id": "_d_B_3Ztu--T",
    "outputId": "f53503d9-7ef0-40c0-a9a7-eaabc1ca32f8"
   },
   "outputs": [
    {
     "name": "stdout",
     "output_type": "stream",
     "text": [
      "Eladások a Budapest régióban:\n"
     ]
    },
    {
     "data": {
      "text/html": [
       "<div>\n",
       "<style scoped>\n",
       "    .dataframe tbody tr th:only-of-type {\n",
       "        vertical-align: middle;\n",
       "    }\n",
       "\n",
       "    .dataframe tbody tr th {\n",
       "        vertical-align: top;\n",
       "    }\n",
       "\n",
       "    .dataframe thead th {\n",
       "        text-align: right;\n",
       "    }\n",
       "</style>\n",
       "<table border=\"1\" class=\"dataframe\">\n",
       "  <thead>\n",
       "    <tr style=\"text-align: right;\">\n",
       "      <th></th>\n",
       "      <th>Termék</th>\n",
       "      <th>Mennyiség</th>\n",
       "      <th>Ár</th>\n",
       "      <th>Bevétel (eFt)</th>\n",
       "      <th>Kategória</th>\n",
       "      <th>Régió</th>\n",
       "      <th>Akció</th>\n",
       "      <th>Dátum</th>\n",
       "      <th>Bevétel</th>\n",
       "    </tr>\n",
       "  </thead>\n",
       "  <tbody>\n",
       "    <tr>\n",
       "      <th>6</th>\n",
       "      <td>Huawei P50</td>\n",
       "      <td>10</td>\n",
       "      <td>220545</td>\n",
       "      <td>2205.450</td>\n",
       "      <td>Mobiltelefon</td>\n",
       "      <td>Budapest</td>\n",
       "      <td>True</td>\n",
       "      <td>2025-06-23</td>\n",
       "      <td>2205450</td>\n",
       "    </tr>\n",
       "    <tr>\n",
       "      <th>10</th>\n",
       "      <td>Powerbank</td>\n",
       "      <td>44</td>\n",
       "      <td>12874</td>\n",
       "      <td>566.456</td>\n",
       "      <td>Kiegészítő</td>\n",
       "      <td>Budapest</td>\n",
       "      <td>False</td>\n",
       "      <td>2025-05-12</td>\n",
       "      <td>566456</td>\n",
       "    </tr>\n",
       "    <tr>\n",
       "      <th>21</th>\n",
       "      <td>iPad Pro</td>\n",
       "      <td>11</td>\n",
       "      <td>257640</td>\n",
       "      <td>2834.040</td>\n",
       "      <td>Tablet</td>\n",
       "      <td>Budapest</td>\n",
       "      <td>False</td>\n",
       "      <td>2025-05-26</td>\n",
       "      <td>2834040</td>\n",
       "    </tr>\n",
       "    <tr>\n",
       "      <th>23</th>\n",
       "      <td>iPhone 13</td>\n",
       "      <td>10</td>\n",
       "      <td>477420</td>\n",
       "      <td>4774.200</td>\n",
       "      <td>Mobiltelefon</td>\n",
       "      <td>Budapest</td>\n",
       "      <td>False</td>\n",
       "      <td>2025-05-14</td>\n",
       "      <td>4774200</td>\n",
       "    </tr>\n",
       "    <tr>\n",
       "      <th>25</th>\n",
       "      <td>Panasonic TX</td>\n",
       "      <td>10</td>\n",
       "      <td>360516</td>\n",
       "      <td>3605.160</td>\n",
       "      <td>TV</td>\n",
       "      <td>Budapest</td>\n",
       "      <td>True</td>\n",
       "      <td>2025-05-27</td>\n",
       "      <td>3605160</td>\n",
       "    </tr>\n",
       "    <tr>\n",
       "      <th>...</th>\n",
       "      <td>...</td>\n",
       "      <td>...</td>\n",
       "      <td>...</td>\n",
       "      <td>...</td>\n",
       "      <td>...</td>\n",
       "      <td>...</td>\n",
       "      <td>...</td>\n",
       "      <td>...</td>\n",
       "      <td>...</td>\n",
       "    </tr>\n",
       "    <tr>\n",
       "      <th>954</th>\n",
       "      <td>Lenovo ThinkPad</td>\n",
       "      <td>18</td>\n",
       "      <td>458821</td>\n",
       "      <td>8258.778</td>\n",
       "      <td>Laptop</td>\n",
       "      <td>Budapest</td>\n",
       "      <td>False</td>\n",
       "      <td>2025-04-26</td>\n",
       "      <td>8258778</td>\n",
       "    </tr>\n",
       "    <tr>\n",
       "      <th>965</th>\n",
       "      <td>Vezeték nélküli töltő</td>\n",
       "      <td>44</td>\n",
       "      <td>24241</td>\n",
       "      <td>1066.604</td>\n",
       "      <td>Kiegészítő</td>\n",
       "      <td>Budapest</td>\n",
       "      <td>True</td>\n",
       "      <td>2025-06-13</td>\n",
       "      <td>1066604</td>\n",
       "    </tr>\n",
       "    <tr>\n",
       "      <th>979</th>\n",
       "      <td>Vezeték nélküli töltő</td>\n",
       "      <td>22</td>\n",
       "      <td>14986</td>\n",
       "      <td>329.692</td>\n",
       "      <td>Kiegészítő</td>\n",
       "      <td>Budapest</td>\n",
       "      <td>True</td>\n",
       "      <td>2025-05-30</td>\n",
       "      <td>329692</td>\n",
       "    </tr>\n",
       "    <tr>\n",
       "      <th>981</th>\n",
       "      <td>Philips Ambilight</td>\n",
       "      <td>26</td>\n",
       "      <td>361947</td>\n",
       "      <td>9410.622</td>\n",
       "      <td>TV</td>\n",
       "      <td>Budapest</td>\n",
       "      <td>False</td>\n",
       "      <td>2025-07-10</td>\n",
       "      <td>9410622</td>\n",
       "    </tr>\n",
       "    <tr>\n",
       "      <th>993</th>\n",
       "      <td>Huawei P50</td>\n",
       "      <td>19</td>\n",
       "      <td>378816</td>\n",
       "      <td>7197.504</td>\n",
       "      <td>Mobiltelefon</td>\n",
       "      <td>Budapest</td>\n",
       "      <td>True</td>\n",
       "      <td>2025-05-07</td>\n",
       "      <td>7197504</td>\n",
       "    </tr>\n",
       "  </tbody>\n",
       "</table>\n",
       "<p>102 rows × 9 columns</p>\n",
       "</div>"
      ],
      "text/plain": [
       "                    Termék  Mennyiség      Ár  Bevétel (eFt)     Kategória  \\\n",
       "6               Huawei P50         10  220545       2205.450  Mobiltelefon   \n",
       "10               Powerbank         44   12874        566.456    Kiegészítő   \n",
       "21                iPad Pro         11  257640       2834.040        Tablet   \n",
       "23               iPhone 13         10  477420       4774.200  Mobiltelefon   \n",
       "25            Panasonic TX         10  360516       3605.160            TV   \n",
       "..                     ...        ...     ...            ...           ...   \n",
       "954        Lenovo ThinkPad         18  458821       8258.778        Laptop   \n",
       "965  Vezeték nélküli töltő         44   24241       1066.604    Kiegészítő   \n",
       "979  Vezeték nélküli töltő         22   14986        329.692    Kiegészítő   \n",
       "981      Philips Ambilight         26  361947       9410.622            TV   \n",
       "993             Huawei P50         19  378816       7197.504  Mobiltelefon   \n",
       "\n",
       "        Régió  Akció      Dátum  Bevétel  \n",
       "6    Budapest   True 2025-06-23  2205450  \n",
       "10   Budapest  False 2025-05-12   566456  \n",
       "21   Budapest  False 2025-05-26  2834040  \n",
       "23   Budapest  False 2025-05-14  4774200  \n",
       "25   Budapest   True 2025-05-27  3605160  \n",
       "..        ...    ...        ...      ...  \n",
       "954  Budapest  False 2025-04-26  8258778  \n",
       "965  Budapest   True 2025-06-13  1066604  \n",
       "979  Budapest   True 2025-05-30   329692  \n",
       "981  Budapest  False 2025-07-10  9410622  \n",
       "993  Budapest   True 2025-05-07  7197504  \n",
       "\n",
       "[102 rows x 9 columns]"
      ]
     },
     "execution_count": 53,
     "metadata": {},
     "output_type": "execute_result"
    }
   ],
   "source": [
    "# Szöveges szűrés: csak azok a sorok, ahol a Régió oszlop pontosan egyezik\n",
    "\n",
    "budapest_df = df[ df['Régió'] == 'Budapest' ]\n",
    "\n",
    "print(\"Eladások a Budapest régióban:\")\n",
    "budapest_df"
   ]
  },
  {
   "cell_type": "code",
   "execution_count": 54,
   "metadata": {
    "colab": {
     "base_uri": "https://localhost:8080/"
    },
    "id": "8kDkun0QARWJ",
    "outputId": "a609f20f-b57a-48aa-dfc5-53947bc11be3"
   },
   "outputs": [
    {
     "data": {
      "text/plain": [
       "np.int64(609888932)"
      ]
     },
     "execution_count": 54,
     "metadata": {},
     "output_type": "execute_result"
    }
   ],
   "source": [
    "budapest_bevetel = budapest_df['Bevétel'].sum()\n",
    "budapest_bevetel"
   ]
  },
  {
   "cell_type": "code",
   "execution_count": 55,
   "metadata": {
    "colab": {
     "base_uri": "https://localhost:8080/",
     "height": 36
    },
    "id": "RxZjVRnSAi_U",
    "outputId": "64408b43-772a-4e3e-e6b9-eaea367ea27d"
   },
   "outputs": [
    {
     "data": {
      "text/plain": [
       "'609.888.932 Ft'"
      ]
     },
     "execution_count": 55,
     "metadata": {},
     "output_type": "execute_result"
    }
   ],
   "source": [
    "formazott = f\"{budapest_bevetel:,} Ft\".replace(\",\", \".\")\n",
    "formazott"
   ]
  },
  {
   "cell_type": "code",
   "execution_count": 56,
   "metadata": {
    "id": "bLTldL1hKmoW"
   },
   "outputs": [],
   "source": [
    "##Gyakorlás\n",
    "# 1. az első sortól lejátszás\n",
    "# 2. külön munkafüzet (https://colab.research.google.com/) kód átmásolása\n",
    "# 3. saját excel fájl feltöltés, az oszlopok átnevezése, tesztelés\n",
    "# Visszajelzés, kérdések"
   ]
  },
  {
   "cell_type": "markdown",
   "metadata": {
    "id": "AG0G8B-BIhwH"
   },
   "source": [
    "# Összefoglalás"
   ]
  },
  {
   "cell_type": "markdown",
   "metadata": {
    "id": "pGFE9Km4Ii9D"
   },
   "source": [
    "# DataFrame kiírása Excel fájlba"
   ]
  },
  {
   "cell_type": "code",
   "execution_count": 59,
   "metadata": {},
   "outputs": [],
   "source": [
    "# index=False kikapcsolja a sorszámok mentését\n",
    "budapest_df.to_excel('output.xlsx', index=True)"
   ]
  },
  {
   "cell_type": "code",
   "execution_count": null,
   "metadata": {},
   "outputs": [],
   "source": []
  }
 ],
 "metadata": {
  "colab": {
   "provenance": []
  },
  "kernelspec": {
   "display_name": "Python 3 (ipykernel)",
   "language": "python",
   "name": "python3"
  },
  "language_info": {
   "codemirror_mode": {
    "name": "ipython",
    "version": 3
   },
   "file_extension": ".py",
   "mimetype": "text/x-python",
   "name": "python",
   "nbconvert_exporter": "python",
   "pygments_lexer": "ipython3",
   "version": "3.13.5"
  }
 },
 "nbformat": 4,
 "nbformat_minor": 4
}

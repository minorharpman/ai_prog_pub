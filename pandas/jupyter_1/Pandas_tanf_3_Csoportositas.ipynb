{
 "cells": [
  {
   "cell_type": "markdown",
   "metadata": {
    "id": "DL75Q4tVUOeK"
   },
   "source": [
    "<img src=\"\n",
    "https://raw.githubusercontent.com/minorharpman/ai_prog_pub/main/pandas/csoportositas.png\"\n",
    " width=\"1000\">"
   ]
  },
  {
   "cell_type": "markdown",
   "metadata": {
    "id": "Qf4Z4aEu0Rkj"
   },
   "source": [
    "## Pandas: csoportosítás"
   ]
  },
  {
   "cell_type": "code",
   "execution_count": 1,
   "metadata": {
    "id": "ihjZ1DjBXR-x"
   },
   "outputs": [],
   "source": [
    "# Importáljuk a pandas könyvtárat, amit általában \"pd\" néven szokás rövidíteni.\n",
    "# A pandas egy Python könyvtár táblázatos (Excel-szerű) adatok kezelésére.\n",
    "import pandas as pd"
   ]
  },
  {
   "cell_type": "code",
   "execution_count": 2,
   "metadata": {
    "id": "OTNb5nd0XZ6y"
   },
   "outputs": [],
   "source": [
    "# Beolvasunk egy Excel fájlt DataFrame-be.\n",
    "# A pd.read_excel() függvény egy Excel fájlt olvas be és DataFrame-et ad vissza.\n",
    "# A DataFrame a pandas egyik legfontosabb adattípusa, egy táblázatszerű adatstruktúra.\n",
    "df = pd.read_excel(\"mobil_bob_shop.xlsx\")"
   ]
  },
  {
   "cell_type": "code",
   "execution_count": 3,
   "metadata": {
    "colab": {
     "base_uri": "https://localhost:8080/",
     "height": 424
    },
    "id": "3U277BmUXfRr",
    "outputId": "53bfabf9-3eb7-4f68-a666-e3e12866c5d4"
   },
   "outputs": [
    {
     "data": {
      "text/html": [
       "<div>\n",
       "<style scoped>\n",
       "    .dataframe tbody tr th:only-of-type {\n",
       "        vertical-align: middle;\n",
       "    }\n",
       "\n",
       "    .dataframe tbody tr th {\n",
       "        vertical-align: top;\n",
       "    }\n",
       "\n",
       "    .dataframe thead th {\n",
       "        text-align: right;\n",
       "    }\n",
       "</style>\n",
       "<table border=\"1\" class=\"dataframe\">\n",
       "  <thead>\n",
       "    <tr style=\"text-align: right;\">\n",
       "      <th></th>\n",
       "      <th>Termék</th>\n",
       "      <th>Mennyiség</th>\n",
       "      <th>Ár</th>\n",
       "      <th>Bevétel (eFt)</th>\n",
       "      <th>Kategória</th>\n",
       "      <th>Régió</th>\n",
       "      <th>Akció</th>\n",
       "      <th>Dátum</th>\n",
       "      <th>Bevétel</th>\n",
       "    </tr>\n",
       "  </thead>\n",
       "  <tbody>\n",
       "    <tr>\n",
       "      <th>0</th>\n",
       "      <td>Samsung Galaxy Watch</td>\n",
       "      <td>29</td>\n",
       "      <td>31367</td>\n",
       "      <td>909.643</td>\n",
       "      <td>Kiegészítő</td>\n",
       "      <td>Székesfehérvár</td>\n",
       "      <td>False</td>\n",
       "      <td>2025-06-15</td>\n",
       "      <td>909643</td>\n",
       "    </tr>\n",
       "    <tr>\n",
       "      <th>1</th>\n",
       "      <td>iPad Pro</td>\n",
       "      <td>14</td>\n",
       "      <td>118223</td>\n",
       "      <td>1655.122</td>\n",
       "      <td>Tablet</td>\n",
       "      <td>Székesfehérvár</td>\n",
       "      <td>True</td>\n",
       "      <td>2025-07-09</td>\n",
       "      <td>1655122</td>\n",
       "    </tr>\n",
       "    <tr>\n",
       "      <th>2</th>\n",
       "      <td>Oppo Find X5</td>\n",
       "      <td>10</td>\n",
       "      <td>176109</td>\n",
       "      <td>1761.090</td>\n",
       "      <td>Mobiltelefon</td>\n",
       "      <td>Szeged</td>\n",
       "      <td>False</td>\n",
       "      <td>2025-06-04</td>\n",
       "      <td>1761090</td>\n",
       "    </tr>\n",
       "    <tr>\n",
       "      <th>3</th>\n",
       "      <td>Panasonic TX</td>\n",
       "      <td>28</td>\n",
       "      <td>488628</td>\n",
       "      <td>13681.584</td>\n",
       "      <td>TV</td>\n",
       "      <td>Kecskemét</td>\n",
       "      <td>False</td>\n",
       "      <td>2025-05-29</td>\n",
       "      <td>13681584</td>\n",
       "    </tr>\n",
       "    <tr>\n",
       "      <th>4</th>\n",
       "      <td>Samsung QLED</td>\n",
       "      <td>20</td>\n",
       "      <td>748406</td>\n",
       "      <td>14968.120</td>\n",
       "      <td>TV</td>\n",
       "      <td>Győr</td>\n",
       "      <td>True</td>\n",
       "      <td>2025-06-07</td>\n",
       "      <td>14968120</td>\n",
       "    </tr>\n",
       "    <tr>\n",
       "      <th>...</th>\n",
       "      <td>...</td>\n",
       "      <td>...</td>\n",
       "      <td>...</td>\n",
       "      <td>...</td>\n",
       "      <td>...</td>\n",
       "      <td>...</td>\n",
       "      <td>...</td>\n",
       "      <td>...</td>\n",
       "      <td>...</td>\n",
       "    </tr>\n",
       "    <tr>\n",
       "      <th>995</th>\n",
       "      <td>Oppo Find X5</td>\n",
       "      <td>16</td>\n",
       "      <td>405636</td>\n",
       "      <td>6490.176</td>\n",
       "      <td>Mobiltelefon</td>\n",
       "      <td>Kecskemét</td>\n",
       "      <td>False</td>\n",
       "      <td>2025-04-15</td>\n",
       "      <td>6490176</td>\n",
       "    </tr>\n",
       "    <tr>\n",
       "      <th>996</th>\n",
       "      <td>MacBook Air</td>\n",
       "      <td>13</td>\n",
       "      <td>229292</td>\n",
       "      <td>2980.796</td>\n",
       "      <td>Laptop</td>\n",
       "      <td>Szeged</td>\n",
       "      <td>False</td>\n",
       "      <td>2025-04-30</td>\n",
       "      <td>2980796</td>\n",
       "    </tr>\n",
       "    <tr>\n",
       "      <th>997</th>\n",
       "      <td>Samsung Galaxy Tab S8</td>\n",
       "      <td>20</td>\n",
       "      <td>178929</td>\n",
       "      <td>3578.580</td>\n",
       "      <td>Tablet</td>\n",
       "      <td>Pécs</td>\n",
       "      <td>True</td>\n",
       "      <td>2025-07-11</td>\n",
       "      <td>3578580</td>\n",
       "    </tr>\n",
       "    <tr>\n",
       "      <th>998</th>\n",
       "      <td>Panasonic TX</td>\n",
       "      <td>17</td>\n",
       "      <td>178137</td>\n",
       "      <td>3028.329</td>\n",
       "      <td>TV</td>\n",
       "      <td>Pécs</td>\n",
       "      <td>False</td>\n",
       "      <td>2025-05-04</td>\n",
       "      <td>3028329</td>\n",
       "    </tr>\n",
       "    <tr>\n",
       "      <th>999</th>\n",
       "      <td>Dell XPS 13</td>\n",
       "      <td>23</td>\n",
       "      <td>316454</td>\n",
       "      <td>7278.442</td>\n",
       "      <td>Laptop</td>\n",
       "      <td>Győr</td>\n",
       "      <td>False</td>\n",
       "      <td>2025-05-25</td>\n",
       "      <td>7278442</td>\n",
       "    </tr>\n",
       "  </tbody>\n",
       "</table>\n",
       "<p>1000 rows × 9 columns</p>\n",
       "</div>"
      ],
      "text/plain": [
       "                    Termék  Mennyiség      Ár  Bevétel (eFt)     Kategória  \\\n",
       "0     Samsung Galaxy Watch         29   31367        909.643    Kiegészítő   \n",
       "1                 iPad Pro         14  118223       1655.122        Tablet   \n",
       "2             Oppo Find X5         10  176109       1761.090  Mobiltelefon   \n",
       "3             Panasonic TX         28  488628      13681.584            TV   \n",
       "4             Samsung QLED         20  748406      14968.120            TV   \n",
       "..                     ...        ...     ...            ...           ...   \n",
       "995           Oppo Find X5         16  405636       6490.176  Mobiltelefon   \n",
       "996            MacBook Air         13  229292       2980.796        Laptop   \n",
       "997  Samsung Galaxy Tab S8         20  178929       3578.580        Tablet   \n",
       "998           Panasonic TX         17  178137       3028.329            TV   \n",
       "999            Dell XPS 13         23  316454       7278.442        Laptop   \n",
       "\n",
       "              Régió  Akció       Dátum   Bevétel  \n",
       "0    Székesfehérvár  False  2025-06-15    909643  \n",
       "1    Székesfehérvár   True  2025-07-09   1655122  \n",
       "2            Szeged  False  2025-06-04   1761090  \n",
       "3         Kecskemét  False  2025-05-29  13681584  \n",
       "4              Győr   True  2025-06-07  14968120  \n",
       "..              ...    ...         ...       ...  \n",
       "995       Kecskemét  False  2025-04-15   6490176  \n",
       "996          Szeged  False  2025-04-30   2980796  \n",
       "997            Pécs   True  2025-07-11   3578580  \n",
       "998            Pécs  False  2025-05-04   3028329  \n",
       "999            Győr  False  2025-05-25   7278442  \n",
       "\n",
       "[1000 rows x 9 columns]"
      ]
     },
     "execution_count": 3,
     "metadata": {},
     "output_type": "execute_result"
    }
   ],
   "source": [
    "# Új oszlopot hozunk létre 'bevétel' néven.\n",
    "# A df['mennyiség'] és df['ár'] oszlopokat összeszorozzuk soronként.\n",
    "# Ez szintén egy pandas Series típusú objektum, amit új oszlopként tárolunk.\n",
    "df['Bevétel'] = df['Mennyiség'] * df['Ár']\n",
    "df"
   ]
  },
  {
   "cell_type": "code",
   "execution_count": 4,
   "metadata": {
    "colab": {
     "base_uri": "https://localhost:8080/",
     "height": 206
    },
    "id": "B28NktUBjKXT",
    "outputId": "f7e57761-0f8e-432e-b7b4-21d2088e0cef"
   },
   "outputs": [
    {
     "data": {
      "text/html": [
       "<div>\n",
       "<style scoped>\n",
       "    .dataframe tbody tr th:only-of-type {\n",
       "        vertical-align: middle;\n",
       "    }\n",
       "\n",
       "    .dataframe tbody tr th {\n",
       "        vertical-align: top;\n",
       "    }\n",
       "\n",
       "    .dataframe thead th {\n",
       "        text-align: right;\n",
       "    }\n",
       "</style>\n",
       "<table border=\"1\" class=\"dataframe\">\n",
       "  <thead>\n",
       "    <tr style=\"text-align: right;\">\n",
       "      <th></th>\n",
       "      <th>Termék</th>\n",
       "      <th>Mennyiség</th>\n",
       "      <th>Ár</th>\n",
       "      <th>Bevétel (eFt)</th>\n",
       "      <th>Kategória</th>\n",
       "      <th>Régió</th>\n",
       "      <th>Akció</th>\n",
       "      <th>Dátum</th>\n",
       "      <th>Bevétel</th>\n",
       "    </tr>\n",
       "  </thead>\n",
       "  <tbody>\n",
       "    <tr>\n",
       "      <th>0</th>\n",
       "      <td>Samsung Galaxy Watch</td>\n",
       "      <td>29</td>\n",
       "      <td>31367</td>\n",
       "      <td>909.643</td>\n",
       "      <td>Kiegészítő</td>\n",
       "      <td>Székesfehérvár</td>\n",
       "      <td>False</td>\n",
       "      <td>2025-06-15</td>\n",
       "      <td>909643</td>\n",
       "    </tr>\n",
       "    <tr>\n",
       "      <th>1</th>\n",
       "      <td>iPad Pro</td>\n",
       "      <td>14</td>\n",
       "      <td>118223</td>\n",
       "      <td>1655.122</td>\n",
       "      <td>Tablet</td>\n",
       "      <td>Székesfehérvár</td>\n",
       "      <td>True</td>\n",
       "      <td>2025-07-09</td>\n",
       "      <td>1655122</td>\n",
       "    </tr>\n",
       "    <tr>\n",
       "      <th>2</th>\n",
       "      <td>Oppo Find X5</td>\n",
       "      <td>10</td>\n",
       "      <td>176109</td>\n",
       "      <td>1761.090</td>\n",
       "      <td>Mobiltelefon</td>\n",
       "      <td>Szeged</td>\n",
       "      <td>False</td>\n",
       "      <td>2025-06-04</td>\n",
       "      <td>1761090</td>\n",
       "    </tr>\n",
       "    <tr>\n",
       "      <th>3</th>\n",
       "      <td>Panasonic TX</td>\n",
       "      <td>28</td>\n",
       "      <td>488628</td>\n",
       "      <td>13681.584</td>\n",
       "      <td>TV</td>\n",
       "      <td>Kecskemét</td>\n",
       "      <td>False</td>\n",
       "      <td>2025-05-29</td>\n",
       "      <td>13681584</td>\n",
       "    </tr>\n",
       "    <tr>\n",
       "      <th>4</th>\n",
       "      <td>Samsung QLED</td>\n",
       "      <td>20</td>\n",
       "      <td>748406</td>\n",
       "      <td>14968.120</td>\n",
       "      <td>TV</td>\n",
       "      <td>Győr</td>\n",
       "      <td>True</td>\n",
       "      <td>2025-06-07</td>\n",
       "      <td>14968120</td>\n",
       "    </tr>\n",
       "  </tbody>\n",
       "</table>\n",
       "</div>"
      ],
      "text/plain": [
       "                 Termék  Mennyiség      Ár  Bevétel (eFt)     Kategória  \\\n",
       "0  Samsung Galaxy Watch         29   31367        909.643    Kiegészítő   \n",
       "1              iPad Pro         14  118223       1655.122        Tablet   \n",
       "2          Oppo Find X5         10  176109       1761.090  Mobiltelefon   \n",
       "3          Panasonic TX         28  488628      13681.584            TV   \n",
       "4          Samsung QLED         20  748406      14968.120            TV   \n",
       "\n",
       "            Régió  Akció       Dátum   Bevétel  \n",
       "0  Székesfehérvár  False  2025-06-15    909643  \n",
       "1  Székesfehérvár   True  2025-07-09   1655122  \n",
       "2          Szeged  False  2025-06-04   1761090  \n",
       "3       Kecskemét  False  2025-05-29  13681584  \n",
       "4            Győr   True  2025-06-07  14968120  "
      ]
     },
     "execution_count": 4,
     "metadata": {},
     "output_type": "execute_result"
    }
   ],
   "source": [
    "# Megnézzük az első néhány sort, hogy lássuk, hogyan néz ki az adatkeret.\n",
    "df.head()"
   ]
  },
  {
   "cell_type": "markdown",
   "metadata": {
    "id": "n9CeigkmaW5K"
   },
   "source": [
    "* A pandas.DataFrame.groupby() egy nagyon hasznos módszer a csoportosított adatelemzésre Pythonban. Lehetővé teszi, hogy egy DataFrame-et egy vagy több oszlop alapján csoportosíts, majd ezekre a csoportokra összesítő műveleteket"
   ]
  },
  {
   "cell_type": "code",
   "execution_count": 5,
   "metadata": {
    "colab": {
     "base_uri": "https://localhost:8080/",
     "height": 272
    },
    "id": "j0gcfDuxs0C0",
    "outputId": "b8b510fc-9a8a-4197-836d-b5f82c9b14e2"
   },
   "outputs": [
    {
     "data": {
      "text/plain": [
       "Kategória\n",
       "Kiegészítő      6669\n",
       "Laptop          4148\n",
       "Mobiltelefon    3642\n",
       "TV              4385\n",
       "Tablet          4068\n",
       "Name: Mennyiség, dtype: int64"
      ]
     },
     "execution_count": 5,
     "metadata": {},
     "output_type": "execute_result"
    }
   ],
   "source": [
    "# Összesítjük a termékek eladott mennyiségét kategóriánként.\n",
    "# A groupby() függvény logikailag \"szétválasztja\" a táblázatot a 'kategória' értékek szerint.\n",
    "# Ezután a ['mennyiség'].sum() összegzi az eladásokat kategóriánként.\n",
    "kategoriai_mennyiseg = df.groupby('Kategória')['Mennyiség'].sum()\n",
    "kategoriai_mennyiseg"
   ]
  },
  {
   "cell_type": "code",
   "execution_count": 6,
   "metadata": {
    "colab": {
     "base_uri": "https://localhost:8080/"
    },
    "id": "Z6urOKzjaHBG",
    "outputId": "6c0f7293-2912-4137-b050-24d040672925"
   },
   "outputs": [
    {
     "data": {
      "text/plain": [
       "<pandas.core.groupby.generic.DataFrameGroupBy object at 0x0000026B0D6216D0>"
      ]
     },
     "execution_count": 6,
     "metadata": {},
     "output_type": "execute_result"
    }
   ],
   "source": [
    "# DataFrameGroupBy objektum, nem ad vissza adatot\n",
    "# DataFrame - kétdimenziós táblázat\n",
    "test = df.groupby('Kategória')\n",
    "test"
   ]
  },
  {
   "cell_type": "code",
   "execution_count": 7,
   "metadata": {
    "colab": {
     "base_uri": "https://localhost:8080/"
    },
    "id": "0B6iCDCNajJq",
    "outputId": "d4227ffb-2b5f-47a6-e336-2394284b2241"
   },
   "outputs": [
    {
     "data": {
      "text/plain": [
       "<pandas.core.groupby.generic.SeriesGroupBy object at 0x0000026B0D620410>"
      ]
     },
     "execution_count": 7,
     "metadata": {},
     "output_type": "execute_result"
    }
   ],
   "source": [
    "# SeriesGroupBy  objektum, nem ad vissza adatot\n",
    "# Series - egydimenziós (oszlop vagy sor)\n",
    "test = df.groupby('Kategória')['Mennyiség']\n",
    "test"
   ]
  },
  {
   "cell_type": "code",
   "execution_count": 8,
   "metadata": {
    "colab": {
     "base_uri": "https://localhost:8080/",
     "height": 272
    },
    "id": "-kGvEKXwb99y",
    "outputId": "031a3303-18af-4d4e-a786-c742b7a28666"
   },
   "outputs": [
    {
     "data": {
      "text/plain": [
       "Kategória\n",
       "Kiegészítő      6669\n",
       "Laptop          4148\n",
       "Mobiltelefon    3642\n",
       "TV              4385\n",
       "Tablet          4068\n",
       "Name: Mennyiség, dtype: int64"
      ]
     },
     "execution_count": 8,
     "metadata": {},
     "output_type": "execute_result"
    }
   ],
   "source": [
    "test.sum() # összeg\n",
    "#test.mean() # átlag\n",
    "#test.median() # középérték\n",
    "#test.max() # max\n",
    "#test.min() # min"
   ]
  },
  {
   "cell_type": "code",
   "execution_count": 9,
   "metadata": {
    "colab": {
     "base_uri": "https://localhost:8080/",
     "height": 272
    },
    "id": "1q7QShA5roG1",
    "outputId": "83e0fb01-ff95-4e2a-d590-bb7616027d77"
   },
   "outputs": [
    {
     "data": {
      "text/plain": [
       "Kategória\n",
       "Kiegészítő       279322964\n",
       "Laptop          1836413286\n",
       "Mobiltelefon    1205240097\n",
       "TV              1960771218\n",
       "Tablet           981802992\n",
       "Name: Bevétel, dtype: int64"
      ]
     },
     "execution_count": 9,
     "metadata": {},
     "output_type": "execute_result"
    }
   ],
   "source": [
    "# Megnézzük az árbevételt kategóriánként.\n",
    "# Hasonló a fentihez, de most a 'bevétel' oszlopot összegezzük a kategóriák szerint.\n",
    "kategoriai_bevetel = df.groupby('Kategória')['Bevétel'].sum()\n",
    "kategoriai_bevetel"
   ]
  },
  {
   "cell_type": "code",
   "execution_count": 10,
   "metadata": {
    "colab": {
     "base_uri": "https://localhost:8080/",
     "height": 490
    },
    "id": "cWd1llFDsdbL",
    "outputId": "76e5b34b-65a7-4e19-c451-c6be2737dde9"
   },
   "outputs": [
    {
     "data": {
      "text/plain": [
       "Dátum\n",
       "2025-04-10    73101710\n",
       "2025-04-11    75452978\n",
       "2025-04-12    54924875\n",
       "2025-04-13    29990519\n",
       "2025-04-14    27014581\n",
       "                ...   \n",
       "2025-07-15    48818654\n",
       "2025-07-16    87826730\n",
       "2025-07-17    69395507\n",
       "2025-07-18    83186804\n",
       "2025-07-19    91908620\n",
       "Name: Bevétel, Length: 101, dtype: int64"
      ]
     },
     "execution_count": 10,
     "metadata": {},
     "output_type": "execute_result"
    }
   ],
   "source": [
    "# Dátum szerint csoportosítjuk a bevételeket, és időbeli trendet nézünk.\n",
    "# Ez hasznos lehet, ha pl. napi/havi eladásokat akarunk vizsgálni.\n",
    "# Feltételezzük, hogy a 'dátum' oszlop pandas datetime típusú (ha nem, előbb át kell alakítani).\n",
    "napi_bevetel = df.groupby('Dátum')['Bevétel'].sum()\n",
    "napi_bevetel"
   ]
  },
  {
   "cell_type": "code",
   "execution_count": 11,
   "metadata": {
    "colab": {
     "base_uri": "https://localhost:8080/",
     "height": 398
    },
    "id": "6iwbHE2FsFPE",
    "outputId": "6b51fead-101d-4690-edd8-617f252a5783"
   },
   "outputs": [
    {
     "data": {
      "text/plain": [
       "Régió\n",
       "Budapest          609888932\n",
       "Debrecen          768708018\n",
       "Győr              594295180\n",
       "Kecskemét         629929727\n",
       "Miskolc           826273200\n",
       "Nyíregyháza       661992943\n",
       "Pécs              681153765\n",
       "Szeged            654882235\n",
       "Székesfehérvár    836426557\n",
       "Name: Bevétel, dtype: int64"
      ]
     },
     "execution_count": 11,
     "metadata": {},
     "output_type": "execute_result"
    }
   ],
   "source": [
    "# Megnézzük, régiónként hogyan alakult az árbevétel.\n",
    "# groupby('régió') szerint csoportosítunk, majd a bevételeket összegezzük.\n",
    "regionalis_bevetel = df.groupby('Régió')['Bevétel'].sum()\n",
    "regionalis_bevetel"
   ]
  },
  {
   "cell_type": "markdown",
   "metadata": {
    "id": "MXZyGEjf1g0K"
   },
   "source": [
    "# Többszintű csoportosítás"
   ]
  },
  {
   "cell_type": "code",
   "execution_count": 16,
   "metadata": {
    "colab": {
     "base_uri": "https://localhost:8080/",
     "height": 1000
    },
    "id": "G7yecW3BpjEj",
    "outputId": "dce2d7b3-fd04-43f7-dd63-02e0880a6914"
   },
   "outputs": [
    {
     "data": {
      "text/plain": [
       "Régió           Kategória   \n",
       "Budapest        Kiegészítő       23864765\n",
       "                Laptop          186734321\n",
       "                Mobiltelefon    158699297\n",
       "                TV              155631485\n",
       "                Tablet           84959064\n",
       "Debrecen        Kiegészítő       25419251\n",
       "                Laptop          293537399\n",
       "                Mobiltelefon    106006430\n",
       "                TV              249737722\n",
       "                Tablet           94007216\n",
       "Győr            Kiegészítő       36093540\n",
       "                Laptop          135555601\n",
       "                Mobiltelefon     90613249\n",
       "                TV              210531974\n",
       "                Tablet          121500816\n",
       "Kecskemét       Kiegészítő       41315127\n",
       "                Laptop          166374221\n",
       "                Mobiltelefon    119437359\n",
       "                TV              204175278\n",
       "                Tablet           98627742\n",
       "Miskolc         Kiegészítő       29533520\n",
       "                Laptop          283890982\n",
       "                Mobiltelefon    143049292\n",
       "                TV              217555734\n",
       "                Tablet          152243672\n",
       "Nyíregyháza     Kiegészítő       27850238\n",
       "                Laptop          177599442\n",
       "                Mobiltelefon    202918894\n",
       "                TV              180116971\n",
       "                Tablet           73507398\n",
       "Pécs            Kiegészítő       23238675\n",
       "                Laptop          164833499\n",
       "                Mobiltelefon    142036276\n",
       "                TV              242790682\n",
       "                Tablet          108254633\n",
       "Szeged          Kiegészítő       38539013\n",
       "                Laptop          182066030\n",
       "                Mobiltelefon     80496347\n",
       "                TV              256951881\n",
       "                Tablet           96828964\n",
       "Székesfehérvár  Kiegészítő       33468835\n",
       "                Laptop          245821791\n",
       "                Mobiltelefon    161982953\n",
       "                TV              243279491\n",
       "                Tablet          151873487\n",
       "Name: Bevétel, dtype: int64"
      ]
     },
     "execution_count": 16,
     "metadata": {},
     "output_type": "execute_result"
    }
   ],
   "source": [
    "# Többszintű csoportosítás – régió + kategória\n",
    "# A groupby(['Régió', 'Kategória']) többszintű csoportosítást végez, először régió szerint, majd azon belül kategória szerint.\n",
    "# A ['Bevétel'] kiválasztja azt az oszlopot, amit összegezni akarunk.\n",
    "# A .sum() metódus összeadja a bevételeket minden csoportban.\n",
    "# Az eredmény egy ún. MultiIndex Series (két szintű indexű sorozat).\n",
    "regio_kategoria = df.groupby(['Régió', 'Kategória'])['Bevétel'].sum()\n",
    "regio_kategoria"
   ]
  },
  {
   "cell_type": "code",
   "execution_count": 13,
   "metadata": {
    "id": "eL14oAlcfpZN"
   },
   "outputs": [],
   "source": [
    "##Gyakorlás\n",
    "# 1. az első sortól lejátszás\n",
    "# 2. külön munkafüzet (https://colab.research.google.com/) kód átmásolása\n",
    "# 3. saját excel fájl feltöltés, az oszlopok átnevezése, tesztelés\n",
    "# Visszajelzés, kérdések"
   ]
  },
  {
   "cell_type": "markdown",
   "metadata": {
    "id": "rSAKPlbRfsB7",
    "jp-MarkdownHeadingCollapsed": true
   },
   "source": [
    "# Összefoglalás"
   ]
  },
  {
   "cell_type": "markdown",
   "metadata": {},
   "source": [
    "# DataFrame kiírása Excel fájlba"
   ]
  },
  {
   "cell_type": "code",
   "execution_count": 19,
   "metadata": {
    "id": "yziqSMMpfuOe"
   },
   "outputs": [],
   "source": [
    "# index=False kikapcsolja a sorszámok mentését\n",
    "# regio_kategoria.to_excel('output.xlsx', index=False)\n",
    "# Itt Régio, Kategoria index van, be kell kapcsolni!\n",
    "regio_kategoria.to_excel('output.xlsx', index=True)"
   ]
  },
  {
   "cell_type": "code",
   "execution_count": null,
   "metadata": {},
   "outputs": [],
   "source": []
  }
 ],
 "metadata": {
  "colab": {
   "provenance": []
  },
  "kernelspec": {
   "display_name": "Python 3 (ipykernel)",
   "language": "python",
   "name": "python3"
  },
  "language_info": {
   "codemirror_mode": {
    "name": "ipython",
    "version": 3
   },
   "file_extension": ".py",
   "mimetype": "text/x-python",
   "name": "python",
   "nbconvert_exporter": "python",
   "pygments_lexer": "ipython3",
   "version": "3.13.5"
  }
 },
 "nbformat": 4,
 "nbformat_minor": 4
}
